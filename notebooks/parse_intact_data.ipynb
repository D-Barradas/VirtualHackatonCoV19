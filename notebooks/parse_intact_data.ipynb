{
 "cells": [
  {
   "cell_type": "code",
   "execution_count": 1,
   "metadata": {},
   "outputs": [],
   "source": [
    "import pandas as pd \n",
    "from sm_annotations import Annotation"
   ]
  },
  {
   "cell_type": "code",
   "execution_count": 2,
   "metadata": {},
   "outputs": [],
   "source": [
    "# df = pd.read_csv(\"../data/Inact_data_covid_19.txt\", skiprows=1,sep=\"|\")"
   ]
  },
  {
   "cell_type": "code",
   "execution_count": 3,
   "metadata": {},
   "outputs": [],
   "source": [
    "# def my_parser(my_file):\n",
    "#     parsed = []\n",
    "#     c = open(my_file).readlines()\n",
    "#     header = c[0].strip().split(\"\\t\")\n",
    "#     body = c[1:]\n",
    "#     parsed.append(header)\n",
    "#     for b in body :\n",
    "#         bb = b.strip().split(\"\\t\")\n",
    "#         parsed.append(bb)\n",
    "#     return parsed"
   ]
  },
  {
   "cell_type": "code",
   "execution_count": 4,
   "metadata": {},
   "outputs": [],
   "source": [
    "# my_list = my_parser(\"../data/Inact_data_covid_19.txt\")"
   ]
  },
  {
   "cell_type": "code",
   "execution_count": 5,
   "metadata": {},
   "outputs": [],
   "source": [
    "# pd.DataFrame(my_list[0:5])"
   ]
  },
  {
   "cell_type": "code",
   "execution_count": 6,
   "metadata": {},
   "outputs": [],
   "source": [
    "sars_covid_df =pd.read_csv(\"../data/sars-cov-2.tsv\",sep=\"\\t\")"
   ]
  },
  {
   "cell_type": "code",
   "execution_count": 7,
   "metadata": {},
   "outputs": [],
   "source": [
    "# len(my_list)"
   ]
  },
  {
   "cell_type": "code",
   "execution_count": 8,
   "metadata": {},
   "outputs": [],
   "source": [
    "intact_data = pd.read_csv(\"../data/Inact_data_covid_19.txt\",sep=\"\\t\")"
   ]
  },
  {
   "cell_type": "code",
   "execution_count": 9,
   "metadata": {},
   "outputs": [
    {
     "data": {
      "text/plain": [
       "Index(['#Complex ac', 'Recommended name', 'Aliases for complex',\n",
       "       'Taxonomy identifier',\n",
       "       'Identifiers (and stoichiometry) of molecules in complex', 'Confidence',\n",
       "       'Experimental evidence', 'Go Annotations', 'Cross references',\n",
       "       'Description', 'Complex properties', 'Complex assembly', 'Ligand',\n",
       "       'Disease', 'Agonist', 'Antagonist', 'Comment', 'Source'],\n",
       "      dtype='object')"
      ]
     },
     "execution_count": 9,
     "metadata": {},
     "output_type": "execute_result"
    }
   ],
   "source": [
    "sars_covid_df.columns"
   ]
  },
  {
   "cell_type": "code",
   "execution_count": 10,
   "metadata": {},
   "outputs": [
    {
     "data": {
      "text/plain": [
       "Index(['#ID(s) interactor A', 'ID(s) interactor B', 'Alt. ID(s) interactor A',\n",
       "       'Alt. ID(s) interactor B', 'Alias(es) interactor A',\n",
       "       'Alias(es) interactor B', 'Interaction detection method(s)',\n",
       "       'Publication 1st author(s)', 'Publication Identifier(s)',\n",
       "       'Taxid interactor A', 'Taxid interactor B', 'Interaction type(s)',\n",
       "       'Source database(s)', 'Interaction identifier(s)',\n",
       "       'Confidence value(s)', 'Expansion method(s)',\n",
       "       'Biological role(s) interactor A', 'Biological role(s) interactor B',\n",
       "       'Experimental role(s) interactor A',\n",
       "       'Experimental role(s) interactor B', 'Type(s) interactor A',\n",
       "       'Type(s) interactor B', 'Xref(s) interactor A', 'Xref(s) interactor B',\n",
       "       'Interaction Xref(s)', 'Annotation(s) interactor A',\n",
       "       'Annotation(s) interactor B', 'Interaction annotation(s)',\n",
       "       'Host organism(s)', 'Interaction parameter(s)', 'Creation date',\n",
       "       'Update date', 'Checksum(s) interactor A', 'Checksum(s) interactor B',\n",
       "       'Interaction Checksum(s)', 'Negative', 'Feature(s) interactor A',\n",
       "       'Feature(s) interactor B', 'Stoichiometry(s) interactor A',\n",
       "       'Stoichiometry(s) interactor B', 'Identification method participant A',\n",
       "       'Identification method participant B'],\n",
       "      dtype='object')"
      ]
     },
     "execution_count": 10,
     "metadata": {},
     "output_type": "execute_result"
    }
   ],
   "source": [
    "intact_data.columns"
   ]
  },
  {
   "cell_type": "code",
   "execution_count": 11,
   "metadata": {},
   "outputs": [
    {
     "data": {
      "text/html": [
       "<div>\n",
       "<style scoped>\n",
       "    .dataframe tbody tr th:only-of-type {\n",
       "        vertical-align: middle;\n",
       "    }\n",
       "\n",
       "    .dataframe tbody tr th {\n",
       "        vertical-align: top;\n",
       "    }\n",
       "\n",
       "    .dataframe thead th {\n",
       "        text-align: right;\n",
       "    }\n",
       "</style>\n",
       "<table border=\"1\" class=\"dataframe\">\n",
       "  <thead>\n",
       "    <tr style=\"text-align: right;\">\n",
       "      <th></th>\n",
       "      <th>#ID(s) interactor A</th>\n",
       "      <th>ID(s) interactor B</th>\n",
       "      <th>Alt. ID(s) interactor A</th>\n",
       "      <th>Alt. ID(s) interactor B</th>\n",
       "      <th>Alias(es) interactor A</th>\n",
       "      <th>Alias(es) interactor B</th>\n",
       "      <th>Interaction detection method(s)</th>\n",
       "      <th>Publication 1st author(s)</th>\n",
       "      <th>Publication Identifier(s)</th>\n",
       "      <th>Taxid interactor A</th>\n",
       "      <th>...</th>\n",
       "      <th>Checksum(s) interactor A</th>\n",
       "      <th>Checksum(s) interactor B</th>\n",
       "      <th>Interaction Checksum(s)</th>\n",
       "      <th>Negative</th>\n",
       "      <th>Feature(s) interactor A</th>\n",
       "      <th>Feature(s) interactor B</th>\n",
       "      <th>Stoichiometry(s) interactor A</th>\n",
       "      <th>Stoichiometry(s) interactor B</th>\n",
       "      <th>Identification method participant A</th>\n",
       "      <th>Identification method participant B</th>\n",
       "    </tr>\n",
       "  </thead>\n",
       "  <tbody>\n",
       "    <tr>\n",
       "      <td>0</td>\n",
       "      <td>uniprotkb:P31809</td>\n",
       "      <td>uniprotkb:P11224</td>\n",
       "      <td>intact:EBI-8663470|uniprotkb:Q61353|intact:MIN...</td>\n",
       "      <td>intact:EBI-16196052|uniprotkb:O39227</td>\n",
       "      <td>psi-mi:ceam1_mouse(display_long)|uniprotkb:Cea...</td>\n",
       "      <td>psi-mi:spike_cvma5(display_long)|uniprotkb:S(g...</td>\n",
       "      <td>psi-mi:\"MI:1247\"(microscale thermophoresis)</td>\n",
       "      <td>Walls et al. (2016)</td>\n",
       "      <td>pubmed:26855426|doi:10.1038/nature16988|imex:I...</td>\n",
       "      <td>taxid:10090(mouse)|taxid:10090(Mus musculus)</td>\n",
       "      <td>...</td>\n",
       "      <td>rogid:TVzltAt+4VNWHR+xzvc8oHRwQ1010090</td>\n",
       "      <td>rogid:6rg8ivahgyrx/wjATOTsFDqOrDw11142</td>\n",
       "      <td>rigid:Y99xRD1y8eE2/yVdAd9yAjVKJ9Y</td>\n",
       "      <td>False</td>\n",
       "      <td>sufficient binding region:35-142</td>\n",
       "      <td>sufficient binding region:15-1231</td>\n",
       "      <td>-</td>\n",
       "      <td>-</td>\n",
       "      <td>psi-mi:\"MI:0396\"(predetermined participant)</td>\n",
       "      <td>psi-mi:\"MI:0396\"(predetermined participant)</td>\n",
       "    </tr>\n",
       "    <tr>\n",
       "      <td>1</td>\n",
       "      <td>uniprotkb:P11224</td>\n",
       "      <td>uniprotkb:P11224</td>\n",
       "      <td>intact:EBI-16196052|uniprotkb:O39227</td>\n",
       "      <td>intact:EBI-16196052|uniprotkb:O39227</td>\n",
       "      <td>psi-mi:spike_cvma5(display_long)|uniprotkb:S(g...</td>\n",
       "      <td>psi-mi:spike_cvma5(display_long)|uniprotkb:S(g...</td>\n",
       "      <td>psi-mi:\"MI:0067\"(light scattering)</td>\n",
       "      <td>Walls et al. (2016)</td>\n",
       "      <td>pubmed:26855426|doi:10.1038/nature16988|imex:I...</td>\n",
       "      <td>taxid:11142(cvma5)|taxid:11142(\"Murine coronav...</td>\n",
       "      <td>...</td>\n",
       "      <td>rogid:6rg8ivahgyrx/wjATOTsFDqOrDw11142</td>\n",
       "      <td>rogid:6rg8ivahgyrx/wjATOTsFDqOrDw11142</td>\n",
       "      <td>rigid:5rNkJ7rt9fT0v8b81I4UVRcB8cI</td>\n",
       "      <td>False</td>\n",
       "      <td>sufficient binding region:15-1231</td>\n",
       "      <td>sufficient binding region:15-1231</td>\n",
       "      <td>-</td>\n",
       "      <td>0</td>\n",
       "      <td>psi-mi:\"MI:0396\"(predetermined participant)</td>\n",
       "      <td>psi-mi:\"MI:0396\"(predetermined participant)</td>\n",
       "    </tr>\n",
       "    <tr>\n",
       "      <td>2</td>\n",
       "      <td>uniprotkb:P11224</td>\n",
       "      <td>uniprotkb:P11224</td>\n",
       "      <td>intact:EBI-16196052|uniprotkb:O39227</td>\n",
       "      <td>intact:EBI-16196052|uniprotkb:O39227</td>\n",
       "      <td>psi-mi:spike_cvma5(display_long)|uniprotkb:S(g...</td>\n",
       "      <td>psi-mi:spike_cvma5(display_long)|uniprotkb:S(g...</td>\n",
       "      <td>psi-mi:\"MI:0071\"(molecular sieving)</td>\n",
       "      <td>Walls et al. (2016)</td>\n",
       "      <td>pubmed:26855426|doi:10.1038/nature16988|imex:I...</td>\n",
       "      <td>taxid:11142(cvma5)|taxid:11142(\"Murine coronav...</td>\n",
       "      <td>...</td>\n",
       "      <td>rogid:6rg8ivahgyrx/wjATOTsFDqOrDw11142</td>\n",
       "      <td>rogid:6rg8ivahgyrx/wjATOTsFDqOrDw11142</td>\n",
       "      <td>rigid:5rNkJ7rt9fT0v8b81I4UVRcB8cI</td>\n",
       "      <td>False</td>\n",
       "      <td>sufficient binding region:15-1231</td>\n",
       "      <td>sufficient binding region:15-1231</td>\n",
       "      <td>-</td>\n",
       "      <td>0</td>\n",
       "      <td>psi-mi:\"MI:0396\"(predetermined participant)</td>\n",
       "      <td>psi-mi:\"MI:0396\"(predetermined participant)</td>\n",
       "    </tr>\n",
       "    <tr>\n",
       "      <td>3</td>\n",
       "      <td>uniprotkb:P11224</td>\n",
       "      <td>uniprotkb:P11224</td>\n",
       "      <td>intact:EBI-16196052|uniprotkb:O39227</td>\n",
       "      <td>intact:EBI-16196052|uniprotkb:O39227</td>\n",
       "      <td>psi-mi:spike_cvma5(display_long)|uniprotkb:S(g...</td>\n",
       "      <td>psi-mi:spike_cvma5(display_long)|uniprotkb:S(g...</td>\n",
       "      <td>psi-mi:\"MI:0410\"(3D electron microscopy)</td>\n",
       "      <td>Walls et al. (2016)</td>\n",
       "      <td>pubmed:26855426|doi:10.1038/nature16988|imex:I...</td>\n",
       "      <td>taxid:11142(cvma5)|taxid:11142(\"Murine coronav...</td>\n",
       "      <td>...</td>\n",
       "      <td>rogid:6rg8ivahgyrx/wjATOTsFDqOrDw11142</td>\n",
       "      <td>rogid:6rg8ivahgyrx/wjATOTsFDqOrDw11142</td>\n",
       "      <td>rigid:5rNkJ7rt9fT0v8b81I4UVRcB8cI</td>\n",
       "      <td>False</td>\n",
       "      <td>sufficient binding region:15-1231</td>\n",
       "      <td>sufficient binding region:15-1231</td>\n",
       "      <td>-</td>\n",
       "      <td>0</td>\n",
       "      <td>psi-mi:\"MI:0396\"(predetermined participant)</td>\n",
       "      <td>psi-mi:\"MI:0396\"(predetermined participant)</td>\n",
       "    </tr>\n",
       "    <tr>\n",
       "      <td>4</td>\n",
       "      <td>uniprotkb:Q0ZME7</td>\n",
       "      <td>uniprotkb:Q0ZME7</td>\n",
       "      <td>intact:EBI-16201169</td>\n",
       "      <td>intact:EBI-16201169</td>\n",
       "      <td>psi-mi:spike_cvhn5(display_long)|uniprotkb:S(g...</td>\n",
       "      <td>psi-mi:spike_cvhn5(display_long)|uniprotkb:S(g...</td>\n",
       "      <td>psi-mi:\"MI:0410\"(3D electron microscopy)</td>\n",
       "      <td>Kirchdoerfer et al. (2016)</td>\n",
       "      <td>pubmed:26935699|doi:10.1038/nature17200|imex:I...</td>\n",
       "      <td>taxid:443241(cvhn5)|taxid:443241(\"Human corona...</td>\n",
       "      <td>...</td>\n",
       "      <td>rogid:u+AIW0RyWcr202Wr+k9y/1U+UHs443241</td>\n",
       "      <td>rogid:u+AIW0RyWcr202Wr+k9y/1U+UHs443241</td>\n",
       "      <td>rigid:AC4Eibh1EhIsxjvMVxNeMpKKaaE</td>\n",
       "      <td>False</td>\n",
       "      <td>sufficient binding region:1-1276</td>\n",
       "      <td>sufficient binding region:1-1276</td>\n",
       "      <td>-</td>\n",
       "      <td>0</td>\n",
       "      <td>psi-mi:\"MI:0396\"(predetermined participant)</td>\n",
       "      <td>psi-mi:\"MI:0396\"(predetermined participant)</td>\n",
       "    </tr>\n",
       "  </tbody>\n",
       "</table>\n",
       "<p>5 rows × 42 columns</p>\n",
       "</div>"
      ],
      "text/plain": [
       "  #ID(s) interactor A ID(s) interactor B  \\\n",
       "0    uniprotkb:P31809   uniprotkb:P11224   \n",
       "1    uniprotkb:P11224   uniprotkb:P11224   \n",
       "2    uniprotkb:P11224   uniprotkb:P11224   \n",
       "3    uniprotkb:P11224   uniprotkb:P11224   \n",
       "4    uniprotkb:Q0ZME7   uniprotkb:Q0ZME7   \n",
       "\n",
       "                             Alt. ID(s) interactor A  \\\n",
       "0  intact:EBI-8663470|uniprotkb:Q61353|intact:MIN...   \n",
       "1               intact:EBI-16196052|uniprotkb:O39227   \n",
       "2               intact:EBI-16196052|uniprotkb:O39227   \n",
       "3               intact:EBI-16196052|uniprotkb:O39227   \n",
       "4                                intact:EBI-16201169   \n",
       "\n",
       "                Alt. ID(s) interactor B  \\\n",
       "0  intact:EBI-16196052|uniprotkb:O39227   \n",
       "1  intact:EBI-16196052|uniprotkb:O39227   \n",
       "2  intact:EBI-16196052|uniprotkb:O39227   \n",
       "3  intact:EBI-16196052|uniprotkb:O39227   \n",
       "4                   intact:EBI-16201169   \n",
       "\n",
       "                              Alias(es) interactor A  \\\n",
       "0  psi-mi:ceam1_mouse(display_long)|uniprotkb:Cea...   \n",
       "1  psi-mi:spike_cvma5(display_long)|uniprotkb:S(g...   \n",
       "2  psi-mi:spike_cvma5(display_long)|uniprotkb:S(g...   \n",
       "3  psi-mi:spike_cvma5(display_long)|uniprotkb:S(g...   \n",
       "4  psi-mi:spike_cvhn5(display_long)|uniprotkb:S(g...   \n",
       "\n",
       "                              Alias(es) interactor B  \\\n",
       "0  psi-mi:spike_cvma5(display_long)|uniprotkb:S(g...   \n",
       "1  psi-mi:spike_cvma5(display_long)|uniprotkb:S(g...   \n",
       "2  psi-mi:spike_cvma5(display_long)|uniprotkb:S(g...   \n",
       "3  psi-mi:spike_cvma5(display_long)|uniprotkb:S(g...   \n",
       "4  psi-mi:spike_cvhn5(display_long)|uniprotkb:S(g...   \n",
       "\n",
       "               Interaction detection method(s)   Publication 1st author(s)  \\\n",
       "0  psi-mi:\"MI:1247\"(microscale thermophoresis)         Walls et al. (2016)   \n",
       "1           psi-mi:\"MI:0067\"(light scattering)         Walls et al. (2016)   \n",
       "2          psi-mi:\"MI:0071\"(molecular sieving)         Walls et al. (2016)   \n",
       "3     psi-mi:\"MI:0410\"(3D electron microscopy)         Walls et al. (2016)   \n",
       "4     psi-mi:\"MI:0410\"(3D electron microscopy)  Kirchdoerfer et al. (2016)   \n",
       "\n",
       "                           Publication Identifier(s)  \\\n",
       "0  pubmed:26855426|doi:10.1038/nature16988|imex:I...   \n",
       "1  pubmed:26855426|doi:10.1038/nature16988|imex:I...   \n",
       "2  pubmed:26855426|doi:10.1038/nature16988|imex:I...   \n",
       "3  pubmed:26855426|doi:10.1038/nature16988|imex:I...   \n",
       "4  pubmed:26935699|doi:10.1038/nature17200|imex:I...   \n",
       "\n",
       "                                  Taxid interactor A  ...  \\\n",
       "0       taxid:10090(mouse)|taxid:10090(Mus musculus)  ...   \n",
       "1  taxid:11142(cvma5)|taxid:11142(\"Murine coronav...  ...   \n",
       "2  taxid:11142(cvma5)|taxid:11142(\"Murine coronav...  ...   \n",
       "3  taxid:11142(cvma5)|taxid:11142(\"Murine coronav...  ...   \n",
       "4  taxid:443241(cvhn5)|taxid:443241(\"Human corona...  ...   \n",
       "\n",
       "                  Checksum(s) interactor A  \\\n",
       "0   rogid:TVzltAt+4VNWHR+xzvc8oHRwQ1010090   \n",
       "1   rogid:6rg8ivahgyrx/wjATOTsFDqOrDw11142   \n",
       "2   rogid:6rg8ivahgyrx/wjATOTsFDqOrDw11142   \n",
       "3   rogid:6rg8ivahgyrx/wjATOTsFDqOrDw11142   \n",
       "4  rogid:u+AIW0RyWcr202Wr+k9y/1U+UHs443241   \n",
       "\n",
       "                  Checksum(s) interactor B            Interaction Checksum(s)  \\\n",
       "0   rogid:6rg8ivahgyrx/wjATOTsFDqOrDw11142  rigid:Y99xRD1y8eE2/yVdAd9yAjVKJ9Y   \n",
       "1   rogid:6rg8ivahgyrx/wjATOTsFDqOrDw11142  rigid:5rNkJ7rt9fT0v8b81I4UVRcB8cI   \n",
       "2   rogid:6rg8ivahgyrx/wjATOTsFDqOrDw11142  rigid:5rNkJ7rt9fT0v8b81I4UVRcB8cI   \n",
       "3   rogid:6rg8ivahgyrx/wjATOTsFDqOrDw11142  rigid:5rNkJ7rt9fT0v8b81I4UVRcB8cI   \n",
       "4  rogid:u+AIW0RyWcr202Wr+k9y/1U+UHs443241  rigid:AC4Eibh1EhIsxjvMVxNeMpKKaaE   \n",
       "\n",
       "  Negative            Feature(s) interactor A  \\\n",
       "0    False   sufficient binding region:35-142   \n",
       "1    False  sufficient binding region:15-1231   \n",
       "2    False  sufficient binding region:15-1231   \n",
       "3    False  sufficient binding region:15-1231   \n",
       "4    False   sufficient binding region:1-1276   \n",
       "\n",
       "             Feature(s) interactor B Stoichiometry(s) interactor A  \\\n",
       "0  sufficient binding region:15-1231                             -   \n",
       "1  sufficient binding region:15-1231                             -   \n",
       "2  sufficient binding region:15-1231                             -   \n",
       "3  sufficient binding region:15-1231                             -   \n",
       "4   sufficient binding region:1-1276                             -   \n",
       "\n",
       "  Stoichiometry(s) interactor B          Identification method participant A  \\\n",
       "0                             -  psi-mi:\"MI:0396\"(predetermined participant)   \n",
       "1                             0  psi-mi:\"MI:0396\"(predetermined participant)   \n",
       "2                             0  psi-mi:\"MI:0396\"(predetermined participant)   \n",
       "3                             0  psi-mi:\"MI:0396\"(predetermined participant)   \n",
       "4                             0  psi-mi:\"MI:0396\"(predetermined participant)   \n",
       "\n",
       "           Identification method participant B  \n",
       "0  psi-mi:\"MI:0396\"(predetermined participant)  \n",
       "1  psi-mi:\"MI:0396\"(predetermined participant)  \n",
       "2  psi-mi:\"MI:0396\"(predetermined participant)  \n",
       "3  psi-mi:\"MI:0396\"(predetermined participant)  \n",
       "4  psi-mi:\"MI:0396\"(predetermined participant)  \n",
       "\n",
       "[5 rows x 42 columns]"
      ]
     },
     "execution_count": 11,
     "metadata": {},
     "output_type": "execute_result"
    }
   ],
   "source": [
    "intact_data.head()"
   ]
  },
  {
   "cell_type": "code",
   "execution_count": 12,
   "metadata": {},
   "outputs": [
    {
     "name": "stdout",
     "output_type": "stream",
     "text": [
      "comment:\"\\\"DIP protein P31809 original sequence version: 135\\\"\"|comment:\"\\\"DIP protein P31809-1 original sequence version: 146\\\"\"|comment:mint|function:\"\\\"Unknown. In case of murine coronavirus (MHV) infection, serves as receptor for MHV S1 spike glycoprotein\\\"\"\n",
      "comment:\"\\\"DIP protein P11224 original sequence version: 119\\\"\"\n",
      "comment:\"\\\"DIP protein P11224 original sequence version: 119\\\"\"\n",
      "comment:\"\\\"DIP protein P11224 original sequence version: 119\\\"\"\n",
      "comment:\"\\\"DIP protein Q0ZME7 original sequence version: 51\\\"\"\n"
     ]
    }
   ],
   "source": [
    "for m in intact_data['Annotation(s) interactor A'].head():\n",
    "    print (m)"
   ]
  },
  {
   "cell_type": "code",
   "execution_count": 13,
   "metadata": {},
   "outputs": [
    {
     "data": {
      "text/plain": [
       "array([2697049])"
      ]
     },
     "execution_count": 13,
     "metadata": {},
     "output_type": "execute_result"
    }
   ],
   "source": [
    "sars_covid_df['Taxonomy identifier'].unique()"
   ]
  },
  {
   "cell_type": "code",
   "execution_count": 14,
   "metadata": {},
   "outputs": [
    {
     "name": "stdout",
     "output_type": "stream",
     "text": [
      "taxid:2697049(SARS-CoV-2)|taxid:2697049(SARS-CoV-2)\n"
     ]
    }
   ],
   "source": [
    "for m in intact_data['Taxid interactor A'].unique():\n",
    "    if '2697049' in m : \n",
    "        print (m)"
   ]
  },
  {
   "cell_type": "code",
   "execution_count": 15,
   "metadata": {},
   "outputs": [],
   "source": [
    "# intact_data['Taxid interactor B' == 'taxid:2697049(SARS-CoV-2)|taxid:2697049(SARS-CoV-2)']"
   ]
  },
  {
   "cell_type": "code",
   "execution_count": 16,
   "metadata": {},
   "outputs": [],
   "source": [
    "intact_filtered_A = intact_data[intact_data['Taxid interactor A'] == 'taxid:2697049(SARS-CoV-2)|taxid:2697049(SARS-CoV-2)' ]\n",
    "intact_filtered_B = intact_data[intact_data['Taxid interactor B'] == 'taxid:2697049(SARS-CoV-2)|taxid:2697049(SARS-CoV-2)' ]"
   ]
  },
  {
   "cell_type": "code",
   "execution_count": 17,
   "metadata": {},
   "outputs": [
    {
     "data": {
      "text/plain": [
       "(330, 42)"
      ]
     },
     "execution_count": 17,
     "metadata": {},
     "output_type": "execute_result"
    }
   ],
   "source": [
    "intact_filtered_A.shape"
   ]
  },
  {
   "cell_type": "code",
   "execution_count": 18,
   "metadata": {},
   "outputs": [
    {
     "data": {
      "text/html": [
       "<div>\n",
       "<style scoped>\n",
       "    .dataframe tbody tr th:only-of-type {\n",
       "        vertical-align: middle;\n",
       "    }\n",
       "\n",
       "    .dataframe tbody tr th {\n",
       "        vertical-align: top;\n",
       "    }\n",
       "\n",
       "    .dataframe thead th {\n",
       "        text-align: right;\n",
       "    }\n",
       "</style>\n",
       "<table border=\"1\" class=\"dataframe\">\n",
       "  <thead>\n",
       "    <tr style=\"text-align: right;\">\n",
       "      <th></th>\n",
       "      <th>#ID(s) interactor A</th>\n",
       "      <th>ID(s) interactor B</th>\n",
       "      <th>Alt. ID(s) interactor A</th>\n",
       "      <th>Alt. ID(s) interactor B</th>\n",
       "      <th>Alias(es) interactor A</th>\n",
       "      <th>Alias(es) interactor B</th>\n",
       "      <th>Interaction detection method(s)</th>\n",
       "      <th>Publication 1st author(s)</th>\n",
       "      <th>Publication Identifier(s)</th>\n",
       "      <th>Taxid interactor A</th>\n",
       "      <th>...</th>\n",
       "      <th>Checksum(s) interactor A</th>\n",
       "      <th>Checksum(s) interactor B</th>\n",
       "      <th>Interaction Checksum(s)</th>\n",
       "      <th>Negative</th>\n",
       "      <th>Feature(s) interactor A</th>\n",
       "      <th>Feature(s) interactor B</th>\n",
       "      <th>Stoichiometry(s) interactor A</th>\n",
       "      <th>Stoichiometry(s) interactor B</th>\n",
       "      <th>Identification method participant A</th>\n",
       "      <th>Identification method participant B</th>\n",
       "    </tr>\n",
       "  </thead>\n",
       "  <tbody>\n",
       "    <tr>\n",
       "      <td>350</td>\n",
       "      <td>uniprotkb:Q9BYF1</td>\n",
       "      <td>uniprotkb:P0DTC2</td>\n",
       "      <td>intact:EBI-7730807|uniprotkb:Q9UFZ6|uniprotkb:...</td>\n",
       "      <td>intact:EBI-25474821</td>\n",
       "      <td>psi-mi:ace2_human(display_long)|uniprotkb:ACE2...</td>\n",
       "      <td>psi-mi:spike_wcpv(display_long)</td>\n",
       "      <td>psi-mi:\"MI:0054\"(fluorescence-activated cell s...</td>\n",
       "      <td>Wanbo et al. (2020)</td>\n",
       "      <td>imex:IM-27821|pubmed:32203189</td>\n",
       "      <td>taxid:9606(human)|taxid:9606(Homo sapiens)</td>\n",
       "      <td>...</td>\n",
       "      <td>rogid:ZxuR6gzxz4Ns+hYH5uksGdn8S7o9606</td>\n",
       "      <td>rogid:QpTiyy2B+5c9PtFcZD+nZTX7nng2697049</td>\n",
       "      <td>rigid:HsUltcKq/ARrTkmVPSSTEFwwdk8</td>\n",
       "      <td>False</td>\n",
       "      <td>-</td>\n",
       "      <td>sufficient binding region:331-524|fc-igg1:c-c</td>\n",
       "      <td>-</td>\n",
       "      <td>-</td>\n",
       "      <td>psi-mi:\"MI:0421\"(identification by antibody)</td>\n",
       "      <td>psi-mi:\"MI:0421\"(identification by antibody)</td>\n",
       "    </tr>\n",
       "    <tr>\n",
       "      <td>354</td>\n",
       "      <td>uniprotkb:Q9BYF1</td>\n",
       "      <td>uniprotkb:P0DTC2</td>\n",
       "      <td>intact:EBI-7730807|uniprotkb:Q9UFZ6|uniprotkb:...</td>\n",
       "      <td>intact:EBI-25474821</td>\n",
       "      <td>psi-mi:ace2_human(display_long)|uniprotkb:ACE2...</td>\n",
       "      <td>psi-mi:spike_wcpv(display_long)</td>\n",
       "      <td>psi-mi:\"MI:0054\"(fluorescence-activated cell s...</td>\n",
       "      <td>Wanbo et al. (2020)</td>\n",
       "      <td>imex:IM-27821|pubmed:32203189</td>\n",
       "      <td>taxid:9606(human)|taxid:9606(Homo sapiens)</td>\n",
       "      <td>...</td>\n",
       "      <td>rogid:ZxuR6gzxz4Ns+hYH5uksGdn8S7o9606</td>\n",
       "      <td>rogid:QpTiyy2B+5c9PtFcZD+nZTX7nng2697049</td>\n",
       "      <td>rigid:Fz52SRmjiDG4oDIT72Sc5q3w7Xs</td>\n",
       "      <td>False</td>\n",
       "      <td>-</td>\n",
       "      <td>sufficient binding region:331-524|fc-igg1:c-c</td>\n",
       "      <td>-</td>\n",
       "      <td>-</td>\n",
       "      <td>psi-mi:\"MI:0421\"(identification by antibody)</td>\n",
       "      <td>psi-mi:\"MI:0421\"(identification by antibody)</td>\n",
       "    </tr>\n",
       "    <tr>\n",
       "      <td>356</td>\n",
       "      <td>uniprotkb:Q9BYF1</td>\n",
       "      <td>uniprotkb:P0DTC2</td>\n",
       "      <td>intact:EBI-7730807|uniprotkb:Q9UFZ6|uniprotkb:...</td>\n",
       "      <td>intact:EBI-25474821</td>\n",
       "      <td>psi-mi:ace2_human(display_long)|uniprotkb:ACE2...</td>\n",
       "      <td>psi-mi:spike_wcpv(display_long)</td>\n",
       "      <td>psi-mi:\"MI:0663\"(confocal microscopy)</td>\n",
       "      <td>Wanbo et al. (2020)</td>\n",
       "      <td>imex:IM-27821|pubmed:32203189</td>\n",
       "      <td>taxid:9606(human)|taxid:9606(Homo sapiens)</td>\n",
       "      <td>...</td>\n",
       "      <td>rogid:ZxuR6gzxz4Ns+hYH5uksGdn8S7o9606</td>\n",
       "      <td>rogid:QpTiyy2B+5c9PtFcZD+nZTX7nng2697049</td>\n",
       "      <td>rigid:HsUltcKq/ARrTkmVPSSTEFwwdk8</td>\n",
       "      <td>False</td>\n",
       "      <td>-</td>\n",
       "      <td>sufficient binding region:331-524|fc-igg1:c-c</td>\n",
       "      <td>-</td>\n",
       "      <td>-</td>\n",
       "      <td>psi-mi:\"MI:1200\"(immunocytochemistry)</td>\n",
       "      <td>psi-mi:\"MI:1200\"(immunocytochemistry)</td>\n",
       "    </tr>\n",
       "    <tr>\n",
       "      <td>359</td>\n",
       "      <td>uniprotkb:Q9BYF1</td>\n",
       "      <td>uniprotkb:P0DTC2</td>\n",
       "      <td>intact:EBI-7730807|uniprotkb:Q9UFZ6|uniprotkb:...</td>\n",
       "      <td>intact:EBI-25474821</td>\n",
       "      <td>psi-mi:ace2_human(display_long)|uniprotkb:ACE2...</td>\n",
       "      <td>psi-mi:spike_wcpv(display_long)</td>\n",
       "      <td>psi-mi:\"MI:0411\"(enzyme linked immunosorbent a...</td>\n",
       "      <td>Wanbo et al. (2020)</td>\n",
       "      <td>imex:IM-27821|pubmed:32203189</td>\n",
       "      <td>taxid:9606(human)|taxid:9606(Homo sapiens)</td>\n",
       "      <td>...</td>\n",
       "      <td>rogid:ZxuR6gzxz4Ns+hYH5uksGdn8S7o9606</td>\n",
       "      <td>rogid:QpTiyy2B+5c9PtFcZD+nZTX7nng2697049</td>\n",
       "      <td>rigid:HsUltcKq/ARrTkmVPSSTEFwwdk8</td>\n",
       "      <td>False</td>\n",
       "      <td>sufficient binding region:18-740</td>\n",
       "      <td>sufficient binding region:331-524|fc-igg1:c-c</td>\n",
       "      <td>-</td>\n",
       "      <td>-</td>\n",
       "      <td>psi-mi:\"MI:0421\"(identification by antibody)</td>\n",
       "      <td>psi-mi:\"MI:0421\"(identification by antibody)</td>\n",
       "    </tr>\n",
       "    <tr>\n",
       "      <td>382</td>\n",
       "      <td>uniprotkb:Q9BYF1</td>\n",
       "      <td>uniprotkb:P0DTC2</td>\n",
       "      <td>intact:EBI-7730807|uniprotkb:Q9UFZ6|uniprotkb:...</td>\n",
       "      <td>intact:EBI-25474821</td>\n",
       "      <td>psi-mi:ace2_human(display_long)|uniprotkb:ACE2...</td>\n",
       "      <td>psi-mi:spike_wcpv(display_long)</td>\n",
       "      <td>psi-mi:\"MI:0114\"(x-ray crystallography)</td>\n",
       "      <td>Wang et al. (2020)</td>\n",
       "      <td>imex:IM-27816|pubmed:unassigned2314</td>\n",
       "      <td>taxid:9606(human)|taxid:9606(Homo sapiens)</td>\n",
       "      <td>...</td>\n",
       "      <td>rogid:ZxuR6gzxz4Ns+hYH5uksGdn8S7o9606</td>\n",
       "      <td>rogid:QpTiyy2B+5c9PtFcZD+nZTX7nng2697049</td>\n",
       "      <td>rigid:HsUltcKq/ARrTkmVPSSTEFwwdk8</td>\n",
       "      <td>False</td>\n",
       "      <td>sufficient binding region:19-615|his tag:c-c</td>\n",
       "      <td>tag:n-n|his tag:c-c|sufficient binding region:...</td>\n",
       "      <td>-</td>\n",
       "      <td>-</td>\n",
       "      <td>psi-mi:\"MI:0396\"(predetermined participant)</td>\n",
       "      <td>psi-mi:\"MI:0396\"(predetermined participant)</td>\n",
       "    </tr>\n",
       "  </tbody>\n",
       "</table>\n",
       "<p>5 rows × 42 columns</p>\n",
       "</div>"
      ],
      "text/plain": [
       "    #ID(s) interactor A ID(s) interactor B  \\\n",
       "350    uniprotkb:Q9BYF1   uniprotkb:P0DTC2   \n",
       "354    uniprotkb:Q9BYF1   uniprotkb:P0DTC2   \n",
       "356    uniprotkb:Q9BYF1   uniprotkb:P0DTC2   \n",
       "359    uniprotkb:Q9BYF1   uniprotkb:P0DTC2   \n",
       "382    uniprotkb:Q9BYF1   uniprotkb:P0DTC2   \n",
       "\n",
       "                               Alt. ID(s) interactor A  \\\n",
       "350  intact:EBI-7730807|uniprotkb:Q9UFZ6|uniprotkb:...   \n",
       "354  intact:EBI-7730807|uniprotkb:Q9UFZ6|uniprotkb:...   \n",
       "356  intact:EBI-7730807|uniprotkb:Q9UFZ6|uniprotkb:...   \n",
       "359  intact:EBI-7730807|uniprotkb:Q9UFZ6|uniprotkb:...   \n",
       "382  intact:EBI-7730807|uniprotkb:Q9UFZ6|uniprotkb:...   \n",
       "\n",
       "    Alt. ID(s) interactor B  \\\n",
       "350     intact:EBI-25474821   \n",
       "354     intact:EBI-25474821   \n",
       "356     intact:EBI-25474821   \n",
       "359     intact:EBI-25474821   \n",
       "382     intact:EBI-25474821   \n",
       "\n",
       "                                Alias(es) interactor A  \\\n",
       "350  psi-mi:ace2_human(display_long)|uniprotkb:ACE2...   \n",
       "354  psi-mi:ace2_human(display_long)|uniprotkb:ACE2...   \n",
       "356  psi-mi:ace2_human(display_long)|uniprotkb:ACE2...   \n",
       "359  psi-mi:ace2_human(display_long)|uniprotkb:ACE2...   \n",
       "382  psi-mi:ace2_human(display_long)|uniprotkb:ACE2...   \n",
       "\n",
       "              Alias(es) interactor B  \\\n",
       "350  psi-mi:spike_wcpv(display_long)   \n",
       "354  psi-mi:spike_wcpv(display_long)   \n",
       "356  psi-mi:spike_wcpv(display_long)   \n",
       "359  psi-mi:spike_wcpv(display_long)   \n",
       "382  psi-mi:spike_wcpv(display_long)   \n",
       "\n",
       "                       Interaction detection method(s)  \\\n",
       "350  psi-mi:\"MI:0054\"(fluorescence-activated cell s...   \n",
       "354  psi-mi:\"MI:0054\"(fluorescence-activated cell s...   \n",
       "356              psi-mi:\"MI:0663\"(confocal microscopy)   \n",
       "359  psi-mi:\"MI:0411\"(enzyme linked immunosorbent a...   \n",
       "382            psi-mi:\"MI:0114\"(x-ray crystallography)   \n",
       "\n",
       "    Publication 1st author(s)            Publication Identifier(s)  \\\n",
       "350       Wanbo et al. (2020)        imex:IM-27821|pubmed:32203189   \n",
       "354       Wanbo et al. (2020)        imex:IM-27821|pubmed:32203189   \n",
       "356       Wanbo et al. (2020)        imex:IM-27821|pubmed:32203189   \n",
       "359       Wanbo et al. (2020)        imex:IM-27821|pubmed:32203189   \n",
       "382        Wang et al. (2020)  imex:IM-27816|pubmed:unassigned2314   \n",
       "\n",
       "                             Taxid interactor A  ...  \\\n",
       "350  taxid:9606(human)|taxid:9606(Homo sapiens)  ...   \n",
       "354  taxid:9606(human)|taxid:9606(Homo sapiens)  ...   \n",
       "356  taxid:9606(human)|taxid:9606(Homo sapiens)  ...   \n",
       "359  taxid:9606(human)|taxid:9606(Homo sapiens)  ...   \n",
       "382  taxid:9606(human)|taxid:9606(Homo sapiens)  ...   \n",
       "\n",
       "                  Checksum(s) interactor A  \\\n",
       "350  rogid:ZxuR6gzxz4Ns+hYH5uksGdn8S7o9606   \n",
       "354  rogid:ZxuR6gzxz4Ns+hYH5uksGdn8S7o9606   \n",
       "356  rogid:ZxuR6gzxz4Ns+hYH5uksGdn8S7o9606   \n",
       "359  rogid:ZxuR6gzxz4Ns+hYH5uksGdn8S7o9606   \n",
       "382  rogid:ZxuR6gzxz4Ns+hYH5uksGdn8S7o9606   \n",
       "\n",
       "                     Checksum(s) interactor B  \\\n",
       "350  rogid:QpTiyy2B+5c9PtFcZD+nZTX7nng2697049   \n",
       "354  rogid:QpTiyy2B+5c9PtFcZD+nZTX7nng2697049   \n",
       "356  rogid:QpTiyy2B+5c9PtFcZD+nZTX7nng2697049   \n",
       "359  rogid:QpTiyy2B+5c9PtFcZD+nZTX7nng2697049   \n",
       "382  rogid:QpTiyy2B+5c9PtFcZD+nZTX7nng2697049   \n",
       "\n",
       "               Interaction Checksum(s) Negative  \\\n",
       "350  rigid:HsUltcKq/ARrTkmVPSSTEFwwdk8    False   \n",
       "354  rigid:Fz52SRmjiDG4oDIT72Sc5q3w7Xs    False   \n",
       "356  rigid:HsUltcKq/ARrTkmVPSSTEFwwdk8    False   \n",
       "359  rigid:HsUltcKq/ARrTkmVPSSTEFwwdk8    False   \n",
       "382  rigid:HsUltcKq/ARrTkmVPSSTEFwwdk8    False   \n",
       "\n",
       "                          Feature(s) interactor A  \\\n",
       "350                                             -   \n",
       "354                                             -   \n",
       "356                                             -   \n",
       "359              sufficient binding region:18-740   \n",
       "382  sufficient binding region:19-615|his tag:c-c   \n",
       "\n",
       "                               Feature(s) interactor B  \\\n",
       "350      sufficient binding region:331-524|fc-igg1:c-c   \n",
       "354      sufficient binding region:331-524|fc-igg1:c-c   \n",
       "356      sufficient binding region:331-524|fc-igg1:c-c   \n",
       "359      sufficient binding region:331-524|fc-igg1:c-c   \n",
       "382  tag:n-n|his tag:c-c|sufficient binding region:...   \n",
       "\n",
       "    Stoichiometry(s) interactor A Stoichiometry(s) interactor B  \\\n",
       "350                             -                             -   \n",
       "354                             -                             -   \n",
       "356                             -                             -   \n",
       "359                             -                             -   \n",
       "382                             -                             -   \n",
       "\n",
       "              Identification method participant A  \\\n",
       "350  psi-mi:\"MI:0421\"(identification by antibody)   \n",
       "354  psi-mi:\"MI:0421\"(identification by antibody)   \n",
       "356         psi-mi:\"MI:1200\"(immunocytochemistry)   \n",
       "359  psi-mi:\"MI:0421\"(identification by antibody)   \n",
       "382   psi-mi:\"MI:0396\"(predetermined participant)   \n",
       "\n",
       "              Identification method participant B  \n",
       "350  psi-mi:\"MI:0421\"(identification by antibody)  \n",
       "354  psi-mi:\"MI:0421\"(identification by antibody)  \n",
       "356         psi-mi:\"MI:1200\"(immunocytochemistry)  \n",
       "359  psi-mi:\"MI:0421\"(identification by antibody)  \n",
       "382   psi-mi:\"MI:0396\"(predetermined participant)  \n",
       "\n",
       "[5 rows x 42 columns]"
      ]
     },
     "execution_count": 18,
     "metadata": {},
     "output_type": "execute_result"
    }
   ],
   "source": [
    "intact_filtered_B.head()"
   ]
  },
  {
   "cell_type": "code",
   "execution_count": 19,
   "metadata": {},
   "outputs": [
    {
     "data": {
      "text/plain": [
       "350    figure legend:2B, 2G/H,3C|dataset:Coronavirus ...\n",
       "354    figure legend:2B, 2G|dataset:Coronavirus - Int...\n",
       "356    figure legend:2D|dataset:Coronavirus - Interac...\n",
       "359    figure legend:2E|dataset:Coronavirus - Interac...\n",
       "382    figure legend:Table S1|dataset:Coronavirus - I...\n",
       "383    figure legend:Figure  S1|dataset:Coronavirus -...\n",
       "384    figure legend:Extended Data 4c and 6.|dataset:...\n",
       "386    figure legend:Figure 3A, number 1|dataset:Coro...\n",
       "387    figure legend:Figure 3A, number 2|dataset:Coro...\n",
       "391    figure legend:Table S1|dataset:Coronavirus - I...\n",
       "494    figure legend:\"\\\"Supplementary Table 2 (media-...\n",
       "569    figure legend:\"\\\"Supplementary Table 2 (media-...\n",
       "620    figure legend:\"\\\"Supplementary Table 2 (media-...\n",
       "907    figure legend:2A, Table 1|dataset:Coronavirus ...\n",
       "909    figure legend:Supp. Table 1|dataset:Coronaviru...\n",
       "Name: Interaction annotation(s), dtype: object"
      ]
     },
     "execution_count": 19,
     "metadata": {},
     "output_type": "execute_result"
    }
   ],
   "source": [
    "intact_filtered_B['Interaction annotation(s)']"
   ]
  },
  {
   "cell_type": "code",
   "execution_count": 20,
   "metadata": {},
   "outputs": [
    {
     "name": "stdout",
     "output_type": "stream",
     "text": [
      "sufficient binding region:331-524|fc-igg1:c-c\n",
      "sufficient binding region:331-524|fc-igg1:c-c\n",
      "sufficient binding region:331-524|fc-igg1:c-c\n",
      "sufficient binding region:331-524|fc-igg1:c-c\n",
      "tag:n-n|his tag:c-c|sufficient binding region:319-541\n",
      "tag:n-n|his tag:c-c|sufficient binding region:319-541\n",
      "his tag:c-c|tag:n-n|sufficient binding region:319-529\n",
      "mutation decreasing interaction strength:481-487|mutation decreasing interaction strength:493-493|mutation decreasing interaction strength:493-493|mutation decreasing interaction strength:501-501|tag:c-c\n",
      "mutation disrupting interaction strength:481-487|mutation decreasing interaction strength:493-493|mutation decreasing interaction strength:493-493|mutation disrupting interaction strength:501-501|tag:c-c\n",
      "sufficient binding region:319-541|fc-igg1:c-c\n",
      "strep tag:c-c\n",
      "strep tag:c-c|mutation with complex effect:145-145\n",
      "strep tag:n-n\n",
      "his tag:c-c|tag:n-n|sufficient binding region:328-533\n",
      "mutation:682-683|his tag:c-c|mutation:986-987|mutation:685-685|sufficient binding region:14-1211\n"
     ]
    }
   ],
   "source": [
    "for m in intact_filtered_B['Feature(s) interactor B']:\n",
    "    print (m)"
   ]
  },
  {
   "cell_type": "code",
   "execution_count": 21,
   "metadata": {},
   "outputs": [],
   "source": [
    "# for m in intact_filtered_A['Feature(s) interactor A']:\n",
    "#     print (m)"
   ]
  },
  {
   "cell_type": "code",
   "execution_count": 22,
   "metadata": {},
   "outputs": [],
   "source": [
    "# df_test = intact_filtered_A[['#ID(s) interactor A','Feature(s) interactor A']]"
   ]
  },
  {
   "cell_type": "code",
   "execution_count": 23,
   "metadata": {},
   "outputs": [],
   "source": [
    "# for m in df_test['Feature(s) interactor A']:\n",
    "#     if len(m.split(\"|\")) > 1 : \n",
    "#         print (m.split(\"|\"))"
   ]
  },
  {
   "cell_type": "code",
   "execution_count": 24,
   "metadata": {},
   "outputs": [
    {
     "data": {
      "text/html": [
       "<div>\n",
       "<style scoped>\n",
       "    .dataframe tbody tr th:only-of-type {\n",
       "        vertical-align: middle;\n",
       "    }\n",
       "\n",
       "    .dataframe tbody tr th {\n",
       "        vertical-align: top;\n",
       "    }\n",
       "\n",
       "    .dataframe thead th {\n",
       "        text-align: right;\n",
       "    }\n",
       "</style>\n",
       "<table border=\"1\" class=\"dataframe\">\n",
       "  <thead>\n",
       "    <tr style=\"text-align: right;\">\n",
       "      <th></th>\n",
       "      <th>#ID(s) interactor A</th>\n",
       "      <th>ID(s) interactor B</th>\n",
       "      <th>Alt. ID(s) interactor A</th>\n",
       "      <th>Alt. ID(s) interactor B</th>\n",
       "      <th>Alias(es) interactor A</th>\n",
       "      <th>Alias(es) interactor B</th>\n",
       "      <th>Interaction detection method(s)</th>\n",
       "      <th>Publication 1st author(s)</th>\n",
       "      <th>Publication Identifier(s)</th>\n",
       "      <th>Taxid interactor A</th>\n",
       "      <th>...</th>\n",
       "      <th>Checksum(s) interactor A</th>\n",
       "      <th>Checksum(s) interactor B</th>\n",
       "      <th>Interaction Checksum(s)</th>\n",
       "      <th>Negative</th>\n",
       "      <th>Feature(s) interactor A</th>\n",
       "      <th>Feature(s) interactor B</th>\n",
       "      <th>Stoichiometry(s) interactor A</th>\n",
       "      <th>Stoichiometry(s) interactor B</th>\n",
       "      <th>Identification method participant A</th>\n",
       "      <th>Identification method participant B</th>\n",
       "    </tr>\n",
       "  </thead>\n",
       "  <tbody>\n",
       "    <tr>\n",
       "      <td>386</td>\n",
       "      <td>uniprotkb:Q9BYF1</td>\n",
       "      <td>uniprotkb:P0DTC2</td>\n",
       "      <td>intact:EBI-7730807|uniprotkb:Q9UFZ6|uniprotkb:...</td>\n",
       "      <td>intact:EBI-25474821</td>\n",
       "      <td>psi-mi:ace2_human(display_long)|uniprotkb:ACE2...</td>\n",
       "      <td>psi-mi:spike_wcpv(display_long)</td>\n",
       "      <td>psi-mi:\"MI:0096\"(pull down)</td>\n",
       "      <td>Shang et al. (2020)</td>\n",
       "      <td>imex:IM-27817|pubmed:unassigned2315</td>\n",
       "      <td>taxid:9606(human)|taxid:9606(Homo sapiens)</td>\n",
       "      <td>...</td>\n",
       "      <td>rogid:ZxuR6gzxz4Ns+hYH5uksGdn8S7o9606</td>\n",
       "      <td>rogid:QpTiyy2B+5c9PtFcZD+nZTX7nng2697049</td>\n",
       "      <td>rigid:HsUltcKq/ARrTkmVPSSTEFwwdk8</td>\n",
       "      <td>False</td>\n",
       "      <td>sufficient binding region:18..18-633..633|his ...</td>\n",
       "      <td>mutation decreasing interaction strength:481-4...</td>\n",
       "      <td>1</td>\n",
       "      <td>1</td>\n",
       "      <td>psi-mi:\"MI:0705\"(anti tag western blot)</td>\n",
       "      <td>psi-mi:\"MI:0705\"(anti tag western blot)</td>\n",
       "    </tr>\n",
       "  </tbody>\n",
       "</table>\n",
       "<p>1 rows × 42 columns</p>\n",
       "</div>"
      ],
      "text/plain": [
       "    #ID(s) interactor A ID(s) interactor B  \\\n",
       "386    uniprotkb:Q9BYF1   uniprotkb:P0DTC2   \n",
       "\n",
       "                               Alt. ID(s) interactor A  \\\n",
       "386  intact:EBI-7730807|uniprotkb:Q9UFZ6|uniprotkb:...   \n",
       "\n",
       "    Alt. ID(s) interactor B  \\\n",
       "386     intact:EBI-25474821   \n",
       "\n",
       "                                Alias(es) interactor A  \\\n",
       "386  psi-mi:ace2_human(display_long)|uniprotkb:ACE2...   \n",
       "\n",
       "              Alias(es) interactor B Interaction detection method(s)  \\\n",
       "386  psi-mi:spike_wcpv(display_long)     psi-mi:\"MI:0096\"(pull down)   \n",
       "\n",
       "    Publication 1st author(s)            Publication Identifier(s)  \\\n",
       "386       Shang et al. (2020)  imex:IM-27817|pubmed:unassigned2315   \n",
       "\n",
       "                             Taxid interactor A  ...  \\\n",
       "386  taxid:9606(human)|taxid:9606(Homo sapiens)  ...   \n",
       "\n",
       "                  Checksum(s) interactor A  \\\n",
       "386  rogid:ZxuR6gzxz4Ns+hYH5uksGdn8S7o9606   \n",
       "\n",
       "                     Checksum(s) interactor B  \\\n",
       "386  rogid:QpTiyy2B+5c9PtFcZD+nZTX7nng2697049   \n",
       "\n",
       "               Interaction Checksum(s) Negative  \\\n",
       "386  rigid:HsUltcKq/ARrTkmVPSSTEFwwdk8    False   \n",
       "\n",
       "                               Feature(s) interactor A  \\\n",
       "386  sufficient binding region:18..18-633..633|his ...   \n",
       "\n",
       "                               Feature(s) interactor B  \\\n",
       "386  mutation decreasing interaction strength:481-4...   \n",
       "\n",
       "    Stoichiometry(s) interactor A Stoichiometry(s) interactor B  \\\n",
       "386                             1                             1   \n",
       "\n",
       "         Identification method participant A  \\\n",
       "386  psi-mi:\"MI:0705\"(anti tag western blot)   \n",
       "\n",
       "         Identification method participant B  \n",
       "386  psi-mi:\"MI:0705\"(anti tag western blot)  \n",
       "\n",
       "[1 rows x 42 columns]"
      ]
     },
     "execution_count": 24,
     "metadata": {},
     "output_type": "execute_result"
    }
   ],
   "source": [
    "intact_filtered_B[intact_filtered_B['Feature(s) interactor B'] == 'mutation decreasing interaction strength:481-487|mutation decreasing interaction strength:493-493|mutation decreasing interaction strength:493-493|mutation decreasing interaction strength:501-501|tag:c-c']"
   ]
  },
  {
   "cell_type": "code",
   "execution_count": 25,
   "metadata": {},
   "outputs": [
    {
     "data": {
      "text/plain": [
       "array(['sufficient binding region:331-524|fc-igg1:c-c',\n",
       "       'tag:n-n|his tag:c-c|sufficient binding region:319-541',\n",
       "       'his tag:c-c|tag:n-n|sufficient binding region:319-529',\n",
       "       'mutation decreasing interaction strength:481-487|mutation decreasing interaction strength:493-493|mutation decreasing interaction strength:493-493|mutation decreasing interaction strength:501-501|tag:c-c',\n",
       "       'mutation disrupting interaction strength:481-487|mutation decreasing interaction strength:493-493|mutation decreasing interaction strength:493-493|mutation disrupting interaction strength:501-501|tag:c-c',\n",
       "       'sufficient binding region:319-541|fc-igg1:c-c', 'strep tag:c-c',\n",
       "       'strep tag:c-c|mutation with complex effect:145-145',\n",
       "       'strep tag:n-n',\n",
       "       'his tag:c-c|tag:n-n|sufficient binding region:328-533',\n",
       "       'mutation:682-683|his tag:c-c|mutation:986-987|mutation:685-685|sufficient binding region:14-1211'],\n",
       "      dtype=object)"
      ]
     },
     "execution_count": 25,
     "metadata": {},
     "output_type": "execute_result"
    }
   ],
   "source": [
    "intact_filtered_B['Feature(s) interactor B'].unique()"
   ]
  },
  {
   "cell_type": "code",
   "execution_count": 26,
   "metadata": {},
   "outputs": [
    {
     "data": {
      "text/plain": [
       "array(['strep tag:c-c', 'strep tag:n-n', 'strep tag:c-c|mutation:145-145',\n",
       "       'strep tag:c-c|variant:84-84',\n",
       "       'mutation:682-683|his tag:c-c|mutation:986-987|mutation:685-685|sufficient binding region:14-1211'],\n",
       "      dtype=object)"
      ]
     },
     "execution_count": 26,
     "metadata": {},
     "output_type": "execute_result"
    }
   ],
   "source": [
    "intact_filtered_A['Feature(s) interactor A'].unique()"
   ]
  },
  {
   "cell_type": "code",
   "execution_count": 27,
   "metadata": {},
   "outputs": [
    {
     "data": {
      "text/plain": [
       "386    intact:EBI-25496287\n",
       "Name: Interaction identifier(s), dtype: object"
      ]
     },
     "execution_count": 27,
     "metadata": {},
     "output_type": "execute_result"
    }
   ],
   "source": [
    "intact_filtered_B[intact_filtered_B['Feature(s) interactor B'] == 'mutation decreasing interaction strength:481-487|mutation decreasing interaction strength:493-493|mutation decreasing interaction strength:493-493|mutation decreasing interaction strength:501-501|tag:c-c']['Interaction identifier(s)']"
   ]
  },
  {
   "cell_type": "code",
   "execution_count": 28,
   "metadata": {},
   "outputs": [],
   "source": [
    "d = intact_filtered_B[intact_filtered_B['Feature(s) interactor B'] == 'mutation disrupting interaction strength:481-487|mutation decreasing interaction strength:493-493|mutation decreasing interaction strength:493-493|mutation disrupting interaction strength:501-501|tag:c-c']"
   ]
  },
  {
   "cell_type": "code",
   "execution_count": 29,
   "metadata": {},
   "outputs": [
    {
     "name": "stdout",
     "output_type": "stream",
     "text": [
      "#ID(s) interactor A\n",
      "ID(s) interactor B\n",
      "Alt. ID(s) interactor A\n",
      "Alt. ID(s) interactor B\n",
      "Alias(es) interactor A\n",
      "Alias(es) interactor B\n",
      "Interaction detection method(s)\n",
      "Publication 1st author(s)\n",
      "Publication Identifier(s)\n",
      "Taxid interactor A\n",
      "Taxid interactor B\n",
      "Interaction type(s)\n",
      "Source database(s)\n",
      "Interaction identifier(s)\n",
      "Confidence value(s)\n",
      "Expansion method(s)\n",
      "Biological role(s) interactor A\n",
      "Biological role(s) interactor B\n",
      "Experimental role(s) interactor A\n",
      "Experimental role(s) interactor B\n",
      "Type(s) interactor A\n",
      "Type(s) interactor B\n",
      "Xref(s) interactor A\n",
      "Xref(s) interactor B\n",
      "Interaction Xref(s)\n",
      "Annotation(s) interactor A\n",
      "Annotation(s) interactor B\n",
      "Interaction annotation(s)\n",
      "Host organism(s)\n",
      "Interaction parameter(s)\n",
      "Creation date\n",
      "Update date\n",
      "Checksum(s) interactor A\n",
      "Checksum(s) interactor B\n",
      "Interaction Checksum(s)\n",
      "Negative\n",
      "Feature(s) interactor A\n",
      "Feature(s) interactor B\n",
      "Stoichiometry(s) interactor A\n",
      "Stoichiometry(s) interactor B\n",
      "Identification method participant A\n",
      "Identification method participant B\n"
     ]
    }
   ],
   "source": [
    "for x in d : \n",
    "    print (x)"
   ]
  },
  {
   "cell_type": "code",
   "execution_count": 30,
   "metadata": {},
   "outputs": [
    {
     "data": {
      "text/html": [
       "<div>\n",
       "<style scoped>\n",
       "    .dataframe tbody tr th:only-of-type {\n",
       "        vertical-align: middle;\n",
       "    }\n",
       "\n",
       "    .dataframe tbody tr th {\n",
       "        vertical-align: top;\n",
       "    }\n",
       "\n",
       "    .dataframe thead th {\n",
       "        text-align: right;\n",
       "    }\n",
       "</style>\n",
       "<table border=\"1\" class=\"dataframe\">\n",
       "  <thead>\n",
       "    <tr style=\"text-align: right;\">\n",
       "      <th></th>\n",
       "      <th>#ID(s) interactor A</th>\n",
       "      <th>ID(s) interactor B</th>\n",
       "      <th>Interaction identifier(s)</th>\n",
       "    </tr>\n",
       "  </thead>\n",
       "  <tbody>\n",
       "    <tr>\n",
       "      <td>387</td>\n",
       "      <td>uniprotkb:Q9BYF1</td>\n",
       "      <td>uniprotkb:P0DTC2</td>\n",
       "      <td>intact:EBI-25496356</td>\n",
       "    </tr>\n",
       "  </tbody>\n",
       "</table>\n",
       "</div>"
      ],
      "text/plain": [
       "    #ID(s) interactor A ID(s) interactor B Interaction identifier(s)\n",
       "387    uniprotkb:Q9BYF1   uniprotkb:P0DTC2       intact:EBI-25496356"
      ]
     },
     "execution_count": 30,
     "metadata": {},
     "output_type": "execute_result"
    }
   ],
   "source": [
    "d[['#ID(s) interactor A','ID(s) interactor B','Interaction identifier(s)']]"
   ]
  },
  {
   "cell_type": "code",
   "execution_count": 31,
   "metadata": {},
   "outputs": [],
   "source": [
    "# Import BeautifulSoup\n",
    "from bs4 import BeautifulSoup as bs\n",
    "content = []\n",
    "# Read the XML file\n",
    "with open(\"../data/sars-cov-2.xml\", \"r\") as file:\n",
    "    # Read each line in the file, readlines() returns a list of lines\n",
    "    content = file.readlines()\n",
    "    # Combine the lines in the list into a string\n",
    "    content = \"\".join(content)\n",
    "    bs_content = bs(content)"
   ]
  },
  {
   "cell_type": "code",
   "execution_count": 32,
   "metadata": {},
   "outputs": [
    {
     "data": {
      "text/plain": [
       "[]"
      ]
     },
     "execution_count": 32,
     "metadata": {},
     "output_type": "execute_result"
    }
   ],
   "source": [
    "bs_content.find_all(\"\")"
   ]
  },
  {
   "cell_type": "code",
   "execution_count": 33,
   "metadata": {},
   "outputs": [],
   "source": [
    "# bs_content.find_all(\"attribute\")"
   ]
  },
  {
   "cell_type": "code",
   "execution_count": 34,
   "metadata": {},
   "outputs": [],
   "source": [
    "mutation = pd.read_csv(\"../data/mutations.tsv\", sep=\"\\t\")"
   ]
  },
  {
   "cell_type": "code",
   "execution_count": 35,
   "metadata": {},
   "outputs": [
    {
     "data": {
      "text/html": [
       "<div>\n",
       "<style scoped>\n",
       "    .dataframe tbody tr th:only-of-type {\n",
       "        vertical-align: middle;\n",
       "    }\n",
       "\n",
       "    .dataframe tbody tr th {\n",
       "        vertical-align: top;\n",
       "    }\n",
       "\n",
       "    .dataframe thead th {\n",
       "        text-align: right;\n",
       "    }\n",
       "</style>\n",
       "<table border=\"1\" class=\"dataframe\">\n",
       "  <thead>\n",
       "    <tr style=\"text-align: right;\">\n",
       "      <th></th>\n",
       "      <th>#Feature AC</th>\n",
       "      <th>Feature short label</th>\n",
       "      <th>Feature range(s)</th>\n",
       "      <th>Original sequence</th>\n",
       "      <th>Resulting sequence</th>\n",
       "      <th>Feature type</th>\n",
       "      <th>Feature annotation</th>\n",
       "      <th>Affected protein AC</th>\n",
       "      <th>Affected protein symbol</th>\n",
       "      <th>Affected protein full name</th>\n",
       "      <th>Affected protein organism</th>\n",
       "      <th>Interaction participants</th>\n",
       "      <th>PubMedID</th>\n",
       "      <th>Figure legend</th>\n",
       "      <th>Interaction AC</th>\n",
       "    </tr>\n",
       "  </thead>\n",
       "  <tbody>\n",
       "    <tr>\n",
       "      <td>0</td>\n",
       "      <td>EBI-976155</td>\n",
       "      <td>p.Leu309Lys</td>\n",
       "      <td>309-309</td>\n",
       "      <td>L</td>\n",
       "      <td>K</td>\n",
       "      <td>mutation(MI:0118)</td>\n",
       "      <td>NaN</td>\n",
       "      <td>uniprotkb:P0A6F5</td>\n",
       "      <td>groL</td>\n",
       "      <td>NaN</td>\n",
       "      <td>83333 - Escherichia coli (strain K12)</td>\n",
       "      <td>uniprotkb:P61889(protein(MI:0326), 83333 - Esc...</td>\n",
       "      <td>16239229</td>\n",
       "      <td>5</td>\n",
       "      <td>EBI-976140</td>\n",
       "    </tr>\n",
       "    <tr>\n",
       "      <td>1</td>\n",
       "      <td>EBI-15578078</td>\n",
       "      <td>p.Gly94Ala</td>\n",
       "      <td>94-94</td>\n",
       "      <td>G</td>\n",
       "      <td>A</td>\n",
       "      <td>mutation(MI:0118)</td>\n",
       "      <td>NaN</td>\n",
       "      <td>uniprotkb:P00441</td>\n",
       "      <td>SOD1</td>\n",
       "      <td>NaN</td>\n",
       "      <td>9606 - Homo sapiens</td>\n",
       "      <td>uniprotkb:P20029(protein(MI:0326), 10090 - Mus...</td>\n",
       "      <td>16595634</td>\n",
       "      <td>NaN</td>\n",
       "      <td>EBI-15578072</td>\n",
       "    </tr>\n",
       "    <tr>\n",
       "      <td>2</td>\n",
       "      <td>EBI-962066</td>\n",
       "      <td>p.Gly12Val</td>\n",
       "      <td>12-12</td>\n",
       "      <td>G</td>\n",
       "      <td>V</td>\n",
       "      <td>mutation(MI:0118)</td>\n",
       "      <td>NaN</td>\n",
       "      <td>uniprotkb:Q61411</td>\n",
       "      <td>Hras</td>\n",
       "      <td>NaN</td>\n",
       "      <td>10090 - Mus musculus</td>\n",
       "      <td>uniprotkb:Q5EBH1-1(protein(MI:0326), 10090 - M...</td>\n",
       "      <td>9488663</td>\n",
       "      <td>No figure.</td>\n",
       "      <td>EBI-962064</td>\n",
       "    </tr>\n",
       "    <tr>\n",
       "      <td>3</td>\n",
       "      <td>EBI-974376</td>\n",
       "      <td>p.Thr190Asp</td>\n",
       "      <td>190-190</td>\n",
       "      <td>T</td>\n",
       "      <td>D</td>\n",
       "      <td>mutation(MI:0118)</td>\n",
       "      <td>NaN</td>\n",
       "      <td>uniprotkb:Q93VD3</td>\n",
       "      <td>CIPK23</td>\n",
       "      <td>NaN</td>\n",
       "      <td>3702 - Arabidopsis thaliana (Mouse-ear cress)</td>\n",
       "      <td>uniprotkb:Q38998(protein(MI:0326), 3702 - Arab...</td>\n",
       "      <td>16814720</td>\n",
       "      <td>3E</td>\n",
       "      <td>EBI-974367</td>\n",
       "    </tr>\n",
       "    <tr>\n",
       "      <td>4</td>\n",
       "      <td>EBI-594545</td>\n",
       "      <td>p.Asp155Ala</td>\n",
       "      <td>155-155</td>\n",
       "      <td>D</td>\n",
       "      <td>A</td>\n",
       "      <td>mutation(MI:0118)</td>\n",
       "      <td>NaN</td>\n",
       "      <td>uniprotkb:P51572</td>\n",
       "      <td>BCAP31</td>\n",
       "      <td>NaN</td>\n",
       "      <td>9606 - Homo sapiens</td>\n",
       "      <td>uniprotkb:Q14790-9(protein(MI:0326), 9606 - Ho...</td>\n",
       "      <td>11917123</td>\n",
       "      <td>NaN</td>\n",
       "      <td>EBI-78161</td>\n",
       "    </tr>\n",
       "  </tbody>\n",
       "</table>\n",
       "</div>"
      ],
      "text/plain": [
       "    #Feature AC Feature short label Feature range(s) Original sequence  \\\n",
       "0    EBI-976155         p.Leu309Lys          309-309                 L   \n",
       "1  EBI-15578078          p.Gly94Ala            94-94                 G   \n",
       "2    EBI-962066          p.Gly12Val            12-12                 G   \n",
       "3    EBI-974376         p.Thr190Asp          190-190                 T   \n",
       "4    EBI-594545         p.Asp155Ala          155-155                 D   \n",
       "\n",
       "  Resulting sequence       Feature type Feature annotation  \\\n",
       "0                  K  mutation(MI:0118)                NaN   \n",
       "1                  A  mutation(MI:0118)                NaN   \n",
       "2                  V  mutation(MI:0118)                NaN   \n",
       "3                  D  mutation(MI:0118)                NaN   \n",
       "4                  A  mutation(MI:0118)                NaN   \n",
       "\n",
       "  Affected protein AC Affected protein symbol  Affected protein full name  \\\n",
       "0    uniprotkb:P0A6F5                    groL                         NaN   \n",
       "1    uniprotkb:P00441                    SOD1                         NaN   \n",
       "2    uniprotkb:Q61411                    Hras                         NaN   \n",
       "3    uniprotkb:Q93VD3                  CIPK23                         NaN   \n",
       "4    uniprotkb:P51572                  BCAP31                         NaN   \n",
       "\n",
       "                       Affected protein organism  \\\n",
       "0          83333 - Escherichia coli (strain K12)   \n",
       "1                            9606 - Homo sapiens   \n",
       "2                           10090 - Mus musculus   \n",
       "3  3702 - Arabidopsis thaliana (Mouse-ear cress)   \n",
       "4                            9606 - Homo sapiens   \n",
       "\n",
       "                            Interaction participants  PubMedID Figure legend  \\\n",
       "0  uniprotkb:P61889(protein(MI:0326), 83333 - Esc...  16239229             5   \n",
       "1  uniprotkb:P20029(protein(MI:0326), 10090 - Mus...  16595634           NaN   \n",
       "2  uniprotkb:Q5EBH1-1(protein(MI:0326), 10090 - M...   9488663    No figure.   \n",
       "3  uniprotkb:Q38998(protein(MI:0326), 3702 - Arab...  16814720            3E   \n",
       "4  uniprotkb:Q14790-9(protein(MI:0326), 9606 - Ho...  11917123           NaN   \n",
       "\n",
       "  Interaction AC  \n",
       "0     EBI-976140  \n",
       "1   EBI-15578072  \n",
       "2     EBI-962064  \n",
       "3     EBI-974367  \n",
       "4      EBI-78161  "
      ]
     },
     "execution_count": 35,
     "metadata": {},
     "output_type": "execute_result"
    }
   ],
   "source": [
    "mutation.head()"
   ]
  },
  {
   "cell_type": "code",
   "execution_count": 36,
   "metadata": {},
   "outputs": [
    {
     "data": {
      "text/plain": [
       "Index(['#Feature AC', 'Feature short label', 'Feature range(s)',\n",
       "       'Original sequence', 'Resulting sequence', 'Feature type',\n",
       "       'Feature annotation', 'Affected protein AC', 'Affected protein symbol',\n",
       "       'Affected protein full name', 'Affected protein organism',\n",
       "       'Interaction participants', 'PubMedID', 'Figure legend',\n",
       "       'Interaction AC'],\n",
       "      dtype='object')"
      ]
     },
     "execution_count": 36,
     "metadata": {},
     "output_type": "execute_result"
    }
   ],
   "source": [
    "mutation.columns"
   ]
  },
  {
   "cell_type": "code",
   "execution_count": 37,
   "metadata": {},
   "outputs": [
    {
     "data": {
      "text/html": [
       "<div>\n",
       "<style scoped>\n",
       "    .dataframe tbody tr th:only-of-type {\n",
       "        vertical-align: middle;\n",
       "    }\n",
       "\n",
       "    .dataframe tbody tr th {\n",
       "        vertical-align: top;\n",
       "    }\n",
       "\n",
       "    .dataframe thead th {\n",
       "        text-align: right;\n",
       "    }\n",
       "</style>\n",
       "<table border=\"1\" class=\"dataframe\">\n",
       "  <thead>\n",
       "    <tr style=\"text-align: right;\">\n",
       "      <th></th>\n",
       "      <th>#Feature AC</th>\n",
       "      <th>Feature short label</th>\n",
       "      <th>Feature range(s)</th>\n",
       "      <th>Original sequence</th>\n",
       "      <th>Resulting sequence</th>\n",
       "      <th>Feature type</th>\n",
       "      <th>Feature annotation</th>\n",
       "      <th>Affected protein AC</th>\n",
       "      <th>Affected protein symbol</th>\n",
       "      <th>Affected protein full name</th>\n",
       "      <th>Affected protein organism</th>\n",
       "      <th>Interaction participants</th>\n",
       "      <th>PubMedID</th>\n",
       "      <th>Figure legend</th>\n",
       "      <th>Interaction AC</th>\n",
       "    </tr>\n",
       "  </thead>\n",
       "  <tbody>\n",
       "    <tr>\n",
       "      <td>14625</td>\n",
       "      <td>EBI-25496364</td>\n",
       "      <td>p.Gln493Tyr</td>\n",
       "      <td>493-493</td>\n",
       "      <td>Q</td>\n",
       "      <td>Y</td>\n",
       "      <td>mutation decreasing strength(MI:1133)</td>\n",
       "      <td>NaN</td>\n",
       "      <td>uniprotkb:P0DTC2</td>\n",
       "      <td>spike_wcpv</td>\n",
       "      <td>NaN</td>\n",
       "      <td>2697049 - SARS-CoV-2</td>\n",
       "      <td>uniprotkb:Q9BYF1(protein(MI:0326), 9606 - Homo...</td>\n",
       "      <td>unassigned2315</td>\n",
       "      <td>Figure 3A, number 2</td>\n",
       "      <td>EBI-25496356</td>\n",
       "    </tr>\n",
       "    <tr>\n",
       "      <td>15725</td>\n",
       "      <td>EBI-25496362</td>\n",
       "      <td>p.Gln493Asn</td>\n",
       "      <td>493-493</td>\n",
       "      <td>Q</td>\n",
       "      <td>N</td>\n",
       "      <td>mutation decreasing strength(MI:1133)</td>\n",
       "      <td>NaN</td>\n",
       "      <td>uniprotkb:P0DTC2</td>\n",
       "      <td>spike_wcpv</td>\n",
       "      <td>NaN</td>\n",
       "      <td>2697049 - SARS-CoV-2</td>\n",
       "      <td>uniprotkb:Q9BYF1(protein(MI:0326), 9606 - Homo...</td>\n",
       "      <td>unassigned2315</td>\n",
       "      <td>Figure 3A, number 2</td>\n",
       "      <td>EBI-25496356</td>\n",
       "    </tr>\n",
       "    <tr>\n",
       "      <td>31310</td>\n",
       "      <td>EBI-25496366</td>\n",
       "      <td>p.Asn501Thr</td>\n",
       "      <td>501-501</td>\n",
       "      <td>N</td>\n",
       "      <td>T</td>\n",
       "      <td>mutation disrupting strength(MI:1128)</td>\n",
       "      <td>NaN</td>\n",
       "      <td>uniprotkb:P0DTC2</td>\n",
       "      <td>spike_wcpv</td>\n",
       "      <td>NaN</td>\n",
       "      <td>2697049 - SARS-CoV-2</td>\n",
       "      <td>uniprotkb:Q9BYF1(protein(MI:0326), 9606 - Homo...</td>\n",
       "      <td>unassigned2315</td>\n",
       "      <td>Figure 3A, number 2</td>\n",
       "      <td>EBI-25496356</td>\n",
       "    </tr>\n",
       "  </tbody>\n",
       "</table>\n",
       "</div>"
      ],
      "text/plain": [
       "        #Feature AC Feature short label Feature range(s) Original sequence  \\\n",
       "14625  EBI-25496364         p.Gln493Tyr          493-493                 Q   \n",
       "15725  EBI-25496362         p.Gln493Asn          493-493                 Q   \n",
       "31310  EBI-25496366         p.Asn501Thr          501-501                 N   \n",
       "\n",
       "      Resulting sequence                           Feature type  \\\n",
       "14625                  Y  mutation decreasing strength(MI:1133)   \n",
       "15725                  N  mutation decreasing strength(MI:1133)   \n",
       "31310                  T  mutation disrupting strength(MI:1128)   \n",
       "\n",
       "      Feature annotation Affected protein AC Affected protein symbol  \\\n",
       "14625                NaN    uniprotkb:P0DTC2              spike_wcpv   \n",
       "15725                NaN    uniprotkb:P0DTC2              spike_wcpv   \n",
       "31310                NaN    uniprotkb:P0DTC2              spike_wcpv   \n",
       "\n",
       "       Affected protein full name Affected protein organism  \\\n",
       "14625                         NaN      2697049 - SARS-CoV-2   \n",
       "15725                         NaN      2697049 - SARS-CoV-2   \n",
       "31310                         NaN      2697049 - SARS-CoV-2   \n",
       "\n",
       "                                Interaction participants        PubMedID  \\\n",
       "14625  uniprotkb:Q9BYF1(protein(MI:0326), 9606 - Homo...  unassigned2315   \n",
       "15725  uniprotkb:Q9BYF1(protein(MI:0326), 9606 - Homo...  unassigned2315   \n",
       "31310  uniprotkb:Q9BYF1(protein(MI:0326), 9606 - Homo...  unassigned2315   \n",
       "\n",
       "             Figure legend Interaction AC  \n",
       "14625  Figure 3A, number 2   EBI-25496356  \n",
       "15725  Figure 3A, number 2   EBI-25496356  \n",
       "31310  Figure 3A, number 2   EBI-25496356  "
      ]
     },
     "execution_count": 37,
     "metadata": {},
     "output_type": "execute_result"
    }
   ],
   "source": [
    "mutation[mutation['Interaction AC']=='EBI-25496356']"
   ]
  },
  {
   "cell_type": "code",
   "execution_count": 38,
   "metadata": {},
   "outputs": [
    {
     "name": "stdout",
     "output_type": "stream",
     "text": [
      "EBI-25490454 intact:EBI-25490454\n",
      "EBI-25490478 intact:EBI-25490478\n",
      "EBI-25490637 intact:EBI-25490637\n",
      "EBI-25490661 intact:EBI-25490661\n",
      "EBI-25490691 intact:EBI-25490691\n",
      "EBI-25490757 intact:EBI-25490757\n",
      "EBI-25490883 intact:EBI-25490883\n",
      "EBI-25490979 intact:EBI-25490979\n",
      "EBI-25490993 intact:EBI-25490993\n",
      "EBI-25491011 intact:EBI-25491011\n",
      "EBI-25490898 intact:EBI-25490898\n",
      "EBI-25490913 intact:EBI-25490913\n",
      "EBI-25490940 intact:EBI-25490940\n",
      "EBI-25491317 intact:EBI-25491317\n",
      "EBI-25491278 intact:EBI-25491278\n",
      "EBI-25491245 intact:EBI-25491245\n",
      "EBI-25491113 intact:EBI-25491113\n",
      "EBI-25491191 intact:EBI-25491191\n",
      "EBI-25491332 intact:EBI-25491332\n",
      "EBI-25491344 intact:EBI-25491344\n",
      "EBI-25491493 intact:EBI-25491493\n",
      "EBI-25491532 intact:EBI-25491532\n",
      "EBI-25495631 intact:EBI-25495631|wwpdb:6vyb|wwpdb:6vxx|imex:IM-27846-5|emdb:EMD-21452\n",
      "EBI-25490574 intact:EBI-25490574\n",
      "EBI-25490625 intact:EBI-25490625\n"
     ]
    }
   ],
   "source": [
    "my_intAC = []\n",
    "for c in intact_filtered_A['Interaction identifier(s)'].unique():\n",
    "    print (c.split(\"t:\")[-1].split(\"|\")[0], c)\n",
    "    if c.split(\"t:\")[-1].split(\"|\")[0] not in my_intAC:\n",
    "        my_intAC.append(c.split(\"t:\")[-1].split(\"|\")[0])# \"EBI-25496356\""
   ]
  },
  {
   "cell_type": "code",
   "execution_count": 39,
   "metadata": {},
   "outputs": [
    {
     "name": "stdout",
     "output_type": "stream",
     "text": [
      "EBI-25474816 intact:EBI-25474816|imex:IM-27821-1\n",
      "EBI-25475195 intact:EBI-25475195|imex:IM-27821-17\n",
      "EBI-25475088 intact:EBI-25475088|imex:IM-27821-7\n",
      "EBI-25475174 intact:EBI-25475174|imex:IM-27821-15\n",
      "EBI-25475360 intact:EBI-25475360|imex:IM-27816-1|wwpdb:6m0j\n",
      "EBI-25475468 intact:EBI-25475468|imex:IM-27816-3\n",
      "EBI-25475491 intact:EBI-25475491|imex:IM-27817-1\n",
      "EBI-25496287 intact:EBI-25496287\n",
      "EBI-25496356 intact:EBI-25496356\n",
      "EBI-25475756 intact:EBI-25475756|wwpdb:6m17|imex:IM-27823-3|emdb:EMD-30039\n",
      "EBI-25490682 intact:EBI-25490682\n",
      "EBI-25490970 intact:EBI-25490970\n",
      "EBI-25491308 intact:EBI-25491308\n",
      "EBI-25495287 intact:EBI-25495287|imex:IM-27846-1\n",
      "EBI-25495631 intact:EBI-25495631|wwpdb:6vyb|wwpdb:6vxx|imex:IM-27846-5|emdb:EMD-21452\n"
     ]
    }
   ],
   "source": [
    "for c in intact_filtered_B['Interaction identifier(s)'].unique():\n",
    "#     intact_filtered_B['Interaction identifier(s)'].unique()\n",
    "    print (c.split(\":\")[1].split(\"|\")[0], c)\n",
    "    if c.split(\":\")[-1] not in my_intAC:\n",
    "        my_intAC.append(c.split(\":\")[-1])"
   ]
  },
  {
   "cell_type": "code",
   "execution_count": 40,
   "metadata": {},
   "outputs": [
    {
     "data": {
      "text/plain": [
       "40"
      ]
     },
     "execution_count": 40,
     "metadata": {},
     "output_type": "execute_result"
    }
   ],
   "source": [
    "len(my_intAC)"
   ]
  },
  {
   "cell_type": "code",
   "execution_count": 41,
   "metadata": {},
   "outputs": [
    {
     "name": "stdout",
     "output_type": "stream",
     "text": [
      "<class 'pandas.core.frame.DataFrame'>\n",
      "<class 'pandas.core.frame.DataFrame'>\n",
      "<class 'pandas.core.frame.DataFrame'>\n",
      "<class 'pandas.core.frame.DataFrame'>\n",
      "<class 'pandas.core.frame.DataFrame'>\n",
      "<class 'pandas.core.frame.DataFrame'>\n",
      "<class 'pandas.core.frame.DataFrame'>\n",
      "<class 'pandas.core.frame.DataFrame'>\n",
      "<class 'pandas.core.frame.DataFrame'>\n",
      "<class 'pandas.core.frame.DataFrame'>\n",
      "<class 'pandas.core.frame.DataFrame'>\n",
      "<class 'pandas.core.frame.DataFrame'>\n",
      "<class 'pandas.core.frame.DataFrame'>\n",
      "<class 'pandas.core.frame.DataFrame'>\n",
      "<class 'pandas.core.frame.DataFrame'>\n",
      "<class 'pandas.core.frame.DataFrame'>\n",
      "<class 'pandas.core.frame.DataFrame'>\n",
      "<class 'pandas.core.frame.DataFrame'>\n",
      "<class 'pandas.core.frame.DataFrame'>\n",
      "<class 'pandas.core.frame.DataFrame'>\n",
      "<class 'pandas.core.frame.DataFrame'>\n",
      "<class 'pandas.core.frame.DataFrame'>\n",
      "<class 'pandas.core.frame.DataFrame'>\n",
      "<class 'pandas.core.frame.DataFrame'>\n",
      "<class 'pandas.core.frame.DataFrame'>\n",
      "<class 'pandas.core.frame.DataFrame'>\n",
      "<class 'pandas.core.frame.DataFrame'>\n",
      "<class 'pandas.core.frame.DataFrame'>\n",
      "<class 'pandas.core.frame.DataFrame'>\n",
      "<class 'pandas.core.frame.DataFrame'>\n",
      "<class 'pandas.core.frame.DataFrame'>\n",
      "<class 'pandas.core.frame.DataFrame'>\n",
      "<class 'pandas.core.frame.DataFrame'>\n",
      "<class 'pandas.core.frame.DataFrame'>\n",
      "<class 'pandas.core.frame.DataFrame'>\n",
      "<class 'pandas.core.frame.DataFrame'>\n",
      "<class 'pandas.core.frame.DataFrame'>\n",
      "<class 'pandas.core.frame.DataFrame'>\n",
      "<class 'pandas.core.frame.DataFrame'>\n",
      "<class 'pandas.core.frame.DataFrame'>\n"
     ]
    }
   ],
   "source": [
    "mutation_dataframe = pd.DataFrame()\n",
    "for ac in my_intAC:\n",
    "    df_test = mutation[mutation['Interaction AC']=='%s'%(ac)]\n",
    "    print (type(df_test))\n",
    "    mutation_dataframe = pd.concat([mutation_dataframe,df_test],axis=0)"
   ]
  },
  {
   "cell_type": "code",
   "execution_count": 42,
   "metadata": {},
   "outputs": [
    {
     "name": "stdout",
     "output_type": "stream",
     "text": [
      "uniprotkb:P07203(protein(MI:0326), 9606 - Homo sapiens);uniprotkb:Q9NXH9(protein(MI:0326), 9606 - Homo sapiens);uniprotkb:P0DTD1-PRO_0000449623(protein(MI:0326), 2697049 - SARS-CoV-2)\n",
      "uniprotkb:P0DTC2(protein(MI:0326), 2697049 - SARS-CoV-2)\n",
      "uniprotkb:P0DTC2(protein(MI:0326), 2697049 - SARS-CoV-2)\n",
      "uniprotkb:P0DTC2(protein(MI:0326), 2697049 - SARS-CoV-2)\n",
      "uniprotkb:Q9BYF1(protein(MI:0326), 9606 - Homo sapiens);uniprotkb:P0DTC2(protein(MI:0326), 2697049 - SARS-CoV-2)\n"
     ]
    }
   ],
   "source": [
    "for n in mutation_dataframe['Interaction participants'].head():\n",
    "    print (n)"
   ]
  },
  {
   "cell_type": "code",
   "execution_count": 43,
   "metadata": {},
   "outputs": [
    {
     "data": {
      "text/plain": [
       "4806     145-145\n",
       "576      685-685\n",
       "1159     986-987\n",
       "1160     682-683\n",
       "13608    493-493\n",
       "15723    493-493\n",
       "15724    501-501\n",
       "14625    493-493\n",
       "15725    493-493\n",
       "31310    501-501\n",
       "Name: Feature range(s), dtype: object"
      ]
     },
     "execution_count": 43,
     "metadata": {},
     "output_type": "execute_result"
    }
   ],
   "source": [
    "mutation_dataframe['Feature range(s)']"
   ]
  },
  {
   "cell_type": "code",
   "execution_count": 44,
   "metadata": {},
   "outputs": [
    {
     "data": {
      "text/plain": [
       "array(['EBI-25490979', 'EBI-25495631', 'EBI-25496287', 'EBI-25496356'],\n",
       "      dtype=object)"
      ]
     },
     "execution_count": 44,
     "metadata": {},
     "output_type": "execute_result"
    }
   ],
   "source": [
    "mutation_dataframe[\"Interaction AC\"].unique()"
   ]
  },
  {
   "cell_type": "code",
   "execution_count": 45,
   "metadata": {},
   "outputs": [
    {
     "data": {
      "text/html": [
       "<div>\n",
       "<style scoped>\n",
       "    .dataframe tbody tr th:only-of-type {\n",
       "        vertical-align: middle;\n",
       "    }\n",
       "\n",
       "    .dataframe tbody tr th {\n",
       "        vertical-align: top;\n",
       "    }\n",
       "\n",
       "    .dataframe thead th {\n",
       "        text-align: right;\n",
       "    }\n",
       "</style>\n",
       "<table border=\"1\" class=\"dataframe\">\n",
       "  <thead>\n",
       "    <tr style=\"text-align: right;\">\n",
       "      <th></th>\n",
       "      <th>Affected protein AC</th>\n",
       "      <th>Interaction AC</th>\n",
       "      <th>Feature type</th>\n",
       "      <th>Interaction participants</th>\n",
       "      <th>Feature short label</th>\n",
       "      <th>Original sequence</th>\n",
       "      <th>Resulting sequence</th>\n",
       "    </tr>\n",
       "  </thead>\n",
       "  <tbody>\n",
       "    <tr>\n",
       "      <td>4806</td>\n",
       "      <td>uniprotkb:P0DTD1-PRO_0000449623</td>\n",
       "      <td>EBI-25490979</td>\n",
       "      <td>mutation(MI:0118)</td>\n",
       "      <td>uniprotkb:P07203(protein(MI:0326), 9606 - Homo...</td>\n",
       "      <td>p.Cys145Ala</td>\n",
       "      <td>C</td>\n",
       "      <td>A</td>\n",
       "    </tr>\n",
       "    <tr>\n",
       "      <td>576</td>\n",
       "      <td>uniprotkb:P0DTC2</td>\n",
       "      <td>EBI-25495631</td>\n",
       "      <td>mutation(MI:0118)</td>\n",
       "      <td>uniprotkb:P0DTC2(protein(MI:0326), 2697049 - S...</td>\n",
       "      <td>p.Arg685Gly</td>\n",
       "      <td>R</td>\n",
       "      <td>G</td>\n",
       "    </tr>\n",
       "    <tr>\n",
       "      <td>1159</td>\n",
       "      <td>uniprotkb:P0DTC2</td>\n",
       "      <td>EBI-25495631</td>\n",
       "      <td>mutation(MI:0118)</td>\n",
       "      <td>uniprotkb:P0DTC2(protein(MI:0326), 2697049 - S...</td>\n",
       "      <td>p.Lys986_Val987delinsProPro</td>\n",
       "      <td>KV</td>\n",
       "      <td>PP</td>\n",
       "    </tr>\n",
       "    <tr>\n",
       "      <td>1160</td>\n",
       "      <td>uniprotkb:P0DTC2</td>\n",
       "      <td>EBI-25495631</td>\n",
       "      <td>mutation(MI:0118)</td>\n",
       "      <td>uniprotkb:P0DTC2(protein(MI:0326), 2697049 - S...</td>\n",
       "      <td>p.Arg682_Arg683delinsSerGly</td>\n",
       "      <td>RR</td>\n",
       "      <td>SG</td>\n",
       "    </tr>\n",
       "    <tr>\n",
       "      <td>13608</td>\n",
       "      <td>uniprotkb:P0DTC2</td>\n",
       "      <td>EBI-25496287</td>\n",
       "      <td>mutation decreasing strength(MI:1133)</td>\n",
       "      <td>uniprotkb:Q9BYF1(protein(MI:0326), 9606 - Homo...</td>\n",
       "      <td>p.Gln493Asn</td>\n",
       "      <td>Q</td>\n",
       "      <td>N</td>\n",
       "    </tr>\n",
       "    <tr>\n",
       "      <td>15723</td>\n",
       "      <td>uniprotkb:P0DTC2</td>\n",
       "      <td>EBI-25496287</td>\n",
       "      <td>mutation decreasing strength(MI:1133)</td>\n",
       "      <td>uniprotkb:Q9BYF1(protein(MI:0326), 9606 - Homo...</td>\n",
       "      <td>p.Gln493Tyr</td>\n",
       "      <td>Q</td>\n",
       "      <td>Y</td>\n",
       "    </tr>\n",
       "    <tr>\n",
       "      <td>15724</td>\n",
       "      <td>uniprotkb:P0DTC2</td>\n",
       "      <td>EBI-25496287</td>\n",
       "      <td>mutation decreasing strength(MI:1133)</td>\n",
       "      <td>uniprotkb:Q9BYF1(protein(MI:0326), 9606 - Homo...</td>\n",
       "      <td>p.Asn501Thr</td>\n",
       "      <td>N</td>\n",
       "      <td>T</td>\n",
       "    </tr>\n",
       "    <tr>\n",
       "      <td>14625</td>\n",
       "      <td>uniprotkb:P0DTC2</td>\n",
       "      <td>EBI-25496356</td>\n",
       "      <td>mutation decreasing strength(MI:1133)</td>\n",
       "      <td>uniprotkb:Q9BYF1(protein(MI:0326), 9606 - Homo...</td>\n",
       "      <td>p.Gln493Tyr</td>\n",
       "      <td>Q</td>\n",
       "      <td>Y</td>\n",
       "    </tr>\n",
       "    <tr>\n",
       "      <td>15725</td>\n",
       "      <td>uniprotkb:P0DTC2</td>\n",
       "      <td>EBI-25496356</td>\n",
       "      <td>mutation decreasing strength(MI:1133)</td>\n",
       "      <td>uniprotkb:Q9BYF1(protein(MI:0326), 9606 - Homo...</td>\n",
       "      <td>p.Gln493Asn</td>\n",
       "      <td>Q</td>\n",
       "      <td>N</td>\n",
       "    </tr>\n",
       "    <tr>\n",
       "      <td>31310</td>\n",
       "      <td>uniprotkb:P0DTC2</td>\n",
       "      <td>EBI-25496356</td>\n",
       "      <td>mutation disrupting strength(MI:1128)</td>\n",
       "      <td>uniprotkb:Q9BYF1(protein(MI:0326), 9606 - Homo...</td>\n",
       "      <td>p.Asn501Thr</td>\n",
       "      <td>N</td>\n",
       "      <td>T</td>\n",
       "    </tr>\n",
       "  </tbody>\n",
       "</table>\n",
       "</div>"
      ],
      "text/plain": [
       "                   Affected protein AC Interaction AC  \\\n",
       "4806   uniprotkb:P0DTD1-PRO_0000449623   EBI-25490979   \n",
       "576                   uniprotkb:P0DTC2   EBI-25495631   \n",
       "1159                  uniprotkb:P0DTC2   EBI-25495631   \n",
       "1160                  uniprotkb:P0DTC2   EBI-25495631   \n",
       "13608                 uniprotkb:P0DTC2   EBI-25496287   \n",
       "15723                 uniprotkb:P0DTC2   EBI-25496287   \n",
       "15724                 uniprotkb:P0DTC2   EBI-25496287   \n",
       "14625                 uniprotkb:P0DTC2   EBI-25496356   \n",
       "15725                 uniprotkb:P0DTC2   EBI-25496356   \n",
       "31310                 uniprotkb:P0DTC2   EBI-25496356   \n",
       "\n",
       "                                Feature type  \\\n",
       "4806                       mutation(MI:0118)   \n",
       "576                        mutation(MI:0118)   \n",
       "1159                       mutation(MI:0118)   \n",
       "1160                       mutation(MI:0118)   \n",
       "13608  mutation decreasing strength(MI:1133)   \n",
       "15723  mutation decreasing strength(MI:1133)   \n",
       "15724  mutation decreasing strength(MI:1133)   \n",
       "14625  mutation decreasing strength(MI:1133)   \n",
       "15725  mutation decreasing strength(MI:1133)   \n",
       "31310  mutation disrupting strength(MI:1128)   \n",
       "\n",
       "                                Interaction participants  \\\n",
       "4806   uniprotkb:P07203(protein(MI:0326), 9606 - Homo...   \n",
       "576    uniprotkb:P0DTC2(protein(MI:0326), 2697049 - S...   \n",
       "1159   uniprotkb:P0DTC2(protein(MI:0326), 2697049 - S...   \n",
       "1160   uniprotkb:P0DTC2(protein(MI:0326), 2697049 - S...   \n",
       "13608  uniprotkb:Q9BYF1(protein(MI:0326), 9606 - Homo...   \n",
       "15723  uniprotkb:Q9BYF1(protein(MI:0326), 9606 - Homo...   \n",
       "15724  uniprotkb:Q9BYF1(protein(MI:0326), 9606 - Homo...   \n",
       "14625  uniprotkb:Q9BYF1(protein(MI:0326), 9606 - Homo...   \n",
       "15725  uniprotkb:Q9BYF1(protein(MI:0326), 9606 - Homo...   \n",
       "31310  uniprotkb:Q9BYF1(protein(MI:0326), 9606 - Homo...   \n",
       "\n",
       "               Feature short label Original sequence Resulting sequence  \n",
       "4806                   p.Cys145Ala                 C                  A  \n",
       "576                    p.Arg685Gly                 R                  G  \n",
       "1159   p.Lys986_Val987delinsProPro                KV                 PP  \n",
       "1160   p.Arg682_Arg683delinsSerGly                RR                 SG  \n",
       "13608                  p.Gln493Asn                 Q                  N  \n",
       "15723                  p.Gln493Tyr                 Q                  Y  \n",
       "15724                  p.Asn501Thr                 N                  T  \n",
       "14625                  p.Gln493Tyr                 Q                  Y  \n",
       "15725                  p.Gln493Asn                 Q                  N  \n",
       "31310                  p.Asn501Thr                 N                  T  "
      ]
     },
     "execution_count": 45,
     "metadata": {},
     "output_type": "execute_result"
    }
   ],
   "source": [
    "mutation_dataframe[['Affected protein AC',\n",
    "                    'Interaction AC',\n",
    "                    'Feature type',\n",
    "                    'Interaction participants',\n",
    "                    'Feature short label',\n",
    "                    'Original sequence', \n",
    "                    'Resulting sequence']]"
   ]
  },
  {
   "cell_type": "code",
   "execution_count": null,
   "metadata": {},
   "outputs": [],
   "source": []
  },
  {
   "cell_type": "code",
   "execution_count": null,
   "metadata": {},
   "outputs": [],
   "source": []
  },
  {
   "cell_type": "code",
   "execution_count": 46,
   "metadata": {},
   "outputs": [
    {
     "name": "stdout",
     "output_type": "stream",
     "text": [
      "uniprotkb:P07203(protein(MI:0326), 9606 - Homo sapiens);uniprotkb:Q9NXH9(protein(MI:0326), 9606 - Homo sapiens);uniprotkb:P0DTD1-PRO_0000449623(protein(MI:0326), 2697049 - SARS-CoV-2)\n",
      "uniprotkb:P0DTC2(protein(MI:0326), 2697049 - SARS-CoV-2)\n",
      "uniprotkb:P0DTC2(protein(MI:0326), 2697049 - SARS-CoV-2)\n",
      "uniprotkb:P0DTC2(protein(MI:0326), 2697049 - SARS-CoV-2)\n",
      "uniprotkb:Q9BYF1(protein(MI:0326), 9606 - Homo sapiens);uniprotkb:P0DTC2(protein(MI:0326), 2697049 - SARS-CoV-2)\n",
      "uniprotkb:Q9BYF1(protein(MI:0326), 9606 - Homo sapiens);uniprotkb:P0DTC2(protein(MI:0326), 2697049 - SARS-CoV-2)\n",
      "uniprotkb:Q9BYF1(protein(MI:0326), 9606 - Homo sapiens);uniprotkb:P0DTC2(protein(MI:0326), 2697049 - SARS-CoV-2)\n",
      "uniprotkb:Q9BYF1(protein(MI:0326), 9606 - Homo sapiens);uniprotkb:P0DTC2(protein(MI:0326), 2697049 - SARS-CoV-2)\n",
      "uniprotkb:Q9BYF1(protein(MI:0326), 9606 - Homo sapiens);uniprotkb:P0DTC2(protein(MI:0326), 2697049 - SARS-CoV-2)\n",
      "uniprotkb:Q9BYF1(protein(MI:0326), 9606 - Homo sapiens);uniprotkb:P0DTC2(protein(MI:0326), 2697049 - SARS-CoV-2)\n"
     ]
    }
   ],
   "source": [
    "for m in mutation_dataframe['Interaction participants']:\n",
    "    print(m)"
   ]
  },
  {
   "cell_type": "code",
   "execution_count": 47,
   "metadata": {},
   "outputs": [],
   "source": [
    "dos = intact_filtered_A[intact_filtered_A['Interaction identifier(s)']==\"intact:EBI-25490979\"]"
   ]
  },
  {
   "cell_type": "code",
   "execution_count": 48,
   "metadata": {},
   "outputs": [],
   "source": [
    "uno = intact_filtered_A[intact_filtered_A['Interaction identifier(s)']=='intact:EBI-25495631|wwpdb:6vyb|wwpdb:6vxx|imex:IM-27846-5|emdb:EMD-21452']"
   ]
  },
  {
   "cell_type": "code",
   "execution_count": 49,
   "metadata": {},
   "outputs": [
    {
     "name": "stdout",
     "output_type": "stream",
     "text": [
      "strep tag:c-c|mutation:145-145\n",
      "strep tag:c-c|mutation:145-145\n"
     ]
    }
   ],
   "source": [
    "for n in dos['Feature(s) interactor A']:\n",
    "    print (n)"
   ]
  },
  {
   "cell_type": "code",
   "execution_count": 50,
   "metadata": {},
   "outputs": [],
   "source": [
    "# mutation"
   ]
  },
  {
   "cell_type": "code",
   "execution_count": 51,
   "metadata": {},
   "outputs": [
    {
     "name": "stdout",
     "output_type": "stream",
     "text": [
      "EBI-25496356\n"
     ]
    }
   ],
   "source": [
    "# 'Interaction identifier(s)'\n",
    "for m in mutation[\"Interaction AC\"].unique():\n",
    "    if \"EBI-25496356\" == m:\n",
    "        print (m)"
   ]
  },
  {
   "cell_type": "code",
   "execution_count": 52,
   "metadata": {},
   "outputs": [],
   "source": [
    "# for m in my_intAC:\n",
    "#     if \"EBI-25496356\" == m:\n",
    "#         print (m)"
   ]
  },
  {
   "cell_type": "code",
   "execution_count": 53,
   "metadata": {},
   "outputs": [],
   "source": [
    "# intact_filtered_B['Interaction identifier(s)'].unique()"
   ]
  },
  {
   "cell_type": "code",
   "execution_count": 54,
   "metadata": {},
   "outputs": [],
   "source": [
    "# unique"
   ]
  },
  {
   "cell_type": "code",
   "execution_count": 55,
   "metadata": {},
   "outputs": [
    {
     "data": {
      "text/plain": [
       "(10, 15)"
      ]
     },
     "execution_count": 55,
     "metadata": {},
     "output_type": "execute_result"
    }
   ],
   "source": [
    "mutation_dataframe.shape"
   ]
  },
  {
   "cell_type": "code",
   "execution_count": 56,
   "metadata": {},
   "outputs": [
    {
     "data": {
      "text/html": [
       "<div>\n",
       "<style scoped>\n",
       "    .dataframe tbody tr th:only-of-type {\n",
       "        vertical-align: middle;\n",
       "    }\n",
       "\n",
       "    .dataframe tbody tr th {\n",
       "        vertical-align: top;\n",
       "    }\n",
       "\n",
       "    .dataframe thead th {\n",
       "        text-align: right;\n",
       "    }\n",
       "</style>\n",
       "<table border=\"1\" class=\"dataframe\">\n",
       "  <thead>\n",
       "    <tr style=\"text-align: right;\">\n",
       "      <th></th>\n",
       "      <th>#Feature AC</th>\n",
       "      <th>Feature short label</th>\n",
       "      <th>Feature range(s)</th>\n",
       "      <th>Original sequence</th>\n",
       "      <th>Resulting sequence</th>\n",
       "      <th>Feature type</th>\n",
       "      <th>Feature annotation</th>\n",
       "      <th>Affected protein AC</th>\n",
       "      <th>Affected protein symbol</th>\n",
       "      <th>Affected protein full name</th>\n",
       "      <th>Affected protein organism</th>\n",
       "      <th>Interaction participants</th>\n",
       "      <th>PubMedID</th>\n",
       "      <th>Figure legend</th>\n",
       "      <th>Interaction AC</th>\n",
       "    </tr>\n",
       "  </thead>\n",
       "  <tbody>\n",
       "    <tr>\n",
       "      <td>4806</td>\n",
       "      <td>EBI-25490985</td>\n",
       "      <td>p.Cys145Ala</td>\n",
       "      <td>145-145</td>\n",
       "      <td>C</td>\n",
       "      <td>A</td>\n",
       "      <td>mutation(MI:0118)</td>\n",
       "      <td>NaN</td>\n",
       "      <td>uniprotkb:P0DTD1-PRO_0000449623</td>\n",
       "      <td>nsp5_wcpv</td>\n",
       "      <td>NaN</td>\n",
       "      <td>2697049 - SARS-CoV-2</td>\n",
       "      <td>uniprotkb:P07203(protein(MI:0326), 9606 - Homo...</td>\n",
       "      <td>unassigned2316</td>\n",
       "      <td>Supplementary Table 2 (media-5.xlsx file)</td>\n",
       "      <td>EBI-25490979</td>\n",
       "    </tr>\n",
       "    <tr>\n",
       "      <td>576</td>\n",
       "      <td>EBI-25495689</td>\n",
       "      <td>p.Arg685Gly</td>\n",
       "      <td>685-685</td>\n",
       "      <td>R</td>\n",
       "      <td>G</td>\n",
       "      <td>mutation(MI:0118)</td>\n",
       "      <td>NaN</td>\n",
       "      <td>uniprotkb:P0DTC2</td>\n",
       "      <td>spike_wcpv</td>\n",
       "      <td>NaN</td>\n",
       "      <td>2697049 - SARS-CoV-2</td>\n",
       "      <td>uniprotkb:P0DTC2(protein(MI:0326), 2697049 - S...</td>\n",
       "      <td>32155444</td>\n",
       "      <td>Supp. Table 1</td>\n",
       "      <td>EBI-25495631</td>\n",
       "    </tr>\n",
       "    <tr>\n",
       "      <td>1159</td>\n",
       "      <td>EBI-25495692</td>\n",
       "      <td>p.Lys986_Val987delinsProPro</td>\n",
       "      <td>986-987</td>\n",
       "      <td>KV</td>\n",
       "      <td>PP</td>\n",
       "      <td>mutation(MI:0118)</td>\n",
       "      <td>NaN</td>\n",
       "      <td>uniprotkb:P0DTC2</td>\n",
       "      <td>spike_wcpv</td>\n",
       "      <td>NaN</td>\n",
       "      <td>2697049 - SARS-CoV-2</td>\n",
       "      <td>uniprotkb:P0DTC2(protein(MI:0326), 2697049 - S...</td>\n",
       "      <td>32155444</td>\n",
       "      <td>Supp. Table 1</td>\n",
       "      <td>EBI-25495631</td>\n",
       "    </tr>\n",
       "    <tr>\n",
       "      <td>1160</td>\n",
       "      <td>EBI-25495687</td>\n",
       "      <td>p.Arg682_Arg683delinsSerGly</td>\n",
       "      <td>682-683</td>\n",
       "      <td>RR</td>\n",
       "      <td>SG</td>\n",
       "      <td>mutation(MI:0118)</td>\n",
       "      <td>NaN</td>\n",
       "      <td>uniprotkb:P0DTC2</td>\n",
       "      <td>spike_wcpv</td>\n",
       "      <td>NaN</td>\n",
       "      <td>2697049 - SARS-CoV-2</td>\n",
       "      <td>uniprotkb:P0DTC2(protein(MI:0326), 2697049 - S...</td>\n",
       "      <td>32155444</td>\n",
       "      <td>Supp. Table 1</td>\n",
       "      <td>EBI-25495631</td>\n",
       "    </tr>\n",
       "    <tr>\n",
       "      <td>13608</td>\n",
       "      <td>EBI-25496345</td>\n",
       "      <td>p.Gln493Asn</td>\n",
       "      <td>493-493</td>\n",
       "      <td>Q</td>\n",
       "      <td>N</td>\n",
       "      <td>mutation decreasing strength(MI:1133)</td>\n",
       "      <td>NaN</td>\n",
       "      <td>uniprotkb:P0DTC2</td>\n",
       "      <td>spike_wcpv</td>\n",
       "      <td>NaN</td>\n",
       "      <td>2697049 - SARS-CoV-2</td>\n",
       "      <td>uniprotkb:Q9BYF1(protein(MI:0326), 9606 - Homo...</td>\n",
       "      <td>unassigned2315</td>\n",
       "      <td>Figure 3A, number 1</td>\n",
       "      <td>EBI-25496287</td>\n",
       "    </tr>\n",
       "    <tr>\n",
       "      <td>15723</td>\n",
       "      <td>EBI-25496348</td>\n",
       "      <td>p.Gln493Tyr</td>\n",
       "      <td>493-493</td>\n",
       "      <td>Q</td>\n",
       "      <td>Y</td>\n",
       "      <td>mutation decreasing strength(MI:1133)</td>\n",
       "      <td>NaN</td>\n",
       "      <td>uniprotkb:P0DTC2</td>\n",
       "      <td>spike_wcpv</td>\n",
       "      <td>NaN</td>\n",
       "      <td>2697049 - SARS-CoV-2</td>\n",
       "      <td>uniprotkb:Q9BYF1(protein(MI:0326), 9606 - Homo...</td>\n",
       "      <td>unassigned2315</td>\n",
       "      <td>Figure 3A, number 1</td>\n",
       "      <td>EBI-25496287</td>\n",
       "    </tr>\n",
       "    <tr>\n",
       "      <td>15724</td>\n",
       "      <td>EBI-25496351</td>\n",
       "      <td>p.Asn501Thr</td>\n",
       "      <td>501-501</td>\n",
       "      <td>N</td>\n",
       "      <td>T</td>\n",
       "      <td>mutation decreasing strength(MI:1133)</td>\n",
       "      <td>NaN</td>\n",
       "      <td>uniprotkb:P0DTC2</td>\n",
       "      <td>spike_wcpv</td>\n",
       "      <td>NaN</td>\n",
       "      <td>2697049 - SARS-CoV-2</td>\n",
       "      <td>uniprotkb:Q9BYF1(protein(MI:0326), 9606 - Homo...</td>\n",
       "      <td>unassigned2315</td>\n",
       "      <td>Figure 3A, number 1</td>\n",
       "      <td>EBI-25496287</td>\n",
       "    </tr>\n",
       "    <tr>\n",
       "      <td>14625</td>\n",
       "      <td>EBI-25496364</td>\n",
       "      <td>p.Gln493Tyr</td>\n",
       "      <td>493-493</td>\n",
       "      <td>Q</td>\n",
       "      <td>Y</td>\n",
       "      <td>mutation decreasing strength(MI:1133)</td>\n",
       "      <td>NaN</td>\n",
       "      <td>uniprotkb:P0DTC2</td>\n",
       "      <td>spike_wcpv</td>\n",
       "      <td>NaN</td>\n",
       "      <td>2697049 - SARS-CoV-2</td>\n",
       "      <td>uniprotkb:Q9BYF1(protein(MI:0326), 9606 - Homo...</td>\n",
       "      <td>unassigned2315</td>\n",
       "      <td>Figure 3A, number 2</td>\n",
       "      <td>EBI-25496356</td>\n",
       "    </tr>\n",
       "    <tr>\n",
       "      <td>15725</td>\n",
       "      <td>EBI-25496362</td>\n",
       "      <td>p.Gln493Asn</td>\n",
       "      <td>493-493</td>\n",
       "      <td>Q</td>\n",
       "      <td>N</td>\n",
       "      <td>mutation decreasing strength(MI:1133)</td>\n",
       "      <td>NaN</td>\n",
       "      <td>uniprotkb:P0DTC2</td>\n",
       "      <td>spike_wcpv</td>\n",
       "      <td>NaN</td>\n",
       "      <td>2697049 - SARS-CoV-2</td>\n",
       "      <td>uniprotkb:Q9BYF1(protein(MI:0326), 9606 - Homo...</td>\n",
       "      <td>unassigned2315</td>\n",
       "      <td>Figure 3A, number 2</td>\n",
       "      <td>EBI-25496356</td>\n",
       "    </tr>\n",
       "    <tr>\n",
       "      <td>31310</td>\n",
       "      <td>EBI-25496366</td>\n",
       "      <td>p.Asn501Thr</td>\n",
       "      <td>501-501</td>\n",
       "      <td>N</td>\n",
       "      <td>T</td>\n",
       "      <td>mutation disrupting strength(MI:1128)</td>\n",
       "      <td>NaN</td>\n",
       "      <td>uniprotkb:P0DTC2</td>\n",
       "      <td>spike_wcpv</td>\n",
       "      <td>NaN</td>\n",
       "      <td>2697049 - SARS-CoV-2</td>\n",
       "      <td>uniprotkb:Q9BYF1(protein(MI:0326), 9606 - Homo...</td>\n",
       "      <td>unassigned2315</td>\n",
       "      <td>Figure 3A, number 2</td>\n",
       "      <td>EBI-25496356</td>\n",
       "    </tr>\n",
       "  </tbody>\n",
       "</table>\n",
       "</div>"
      ],
      "text/plain": [
       "        #Feature AC          Feature short label Feature range(s)  \\\n",
       "4806   EBI-25490985                  p.Cys145Ala          145-145   \n",
       "576    EBI-25495689                  p.Arg685Gly          685-685   \n",
       "1159   EBI-25495692  p.Lys986_Val987delinsProPro          986-987   \n",
       "1160   EBI-25495687  p.Arg682_Arg683delinsSerGly          682-683   \n",
       "13608  EBI-25496345                  p.Gln493Asn          493-493   \n",
       "15723  EBI-25496348                  p.Gln493Tyr          493-493   \n",
       "15724  EBI-25496351                  p.Asn501Thr          501-501   \n",
       "14625  EBI-25496364                  p.Gln493Tyr          493-493   \n",
       "15725  EBI-25496362                  p.Gln493Asn          493-493   \n",
       "31310  EBI-25496366                  p.Asn501Thr          501-501   \n",
       "\n",
       "      Original sequence Resulting sequence  \\\n",
       "4806                  C                  A   \n",
       "576                   R                  G   \n",
       "1159                 KV                 PP   \n",
       "1160                 RR                 SG   \n",
       "13608                 Q                  N   \n",
       "15723                 Q                  Y   \n",
       "15724                 N                  T   \n",
       "14625                 Q                  Y   \n",
       "15725                 Q                  N   \n",
       "31310                 N                  T   \n",
       "\n",
       "                                Feature type Feature annotation  \\\n",
       "4806                       mutation(MI:0118)                NaN   \n",
       "576                        mutation(MI:0118)                NaN   \n",
       "1159                       mutation(MI:0118)                NaN   \n",
       "1160                       mutation(MI:0118)                NaN   \n",
       "13608  mutation decreasing strength(MI:1133)                NaN   \n",
       "15723  mutation decreasing strength(MI:1133)                NaN   \n",
       "15724  mutation decreasing strength(MI:1133)                NaN   \n",
       "14625  mutation decreasing strength(MI:1133)                NaN   \n",
       "15725  mutation decreasing strength(MI:1133)                NaN   \n",
       "31310  mutation disrupting strength(MI:1128)                NaN   \n",
       "\n",
       "                   Affected protein AC Affected protein symbol  \\\n",
       "4806   uniprotkb:P0DTD1-PRO_0000449623               nsp5_wcpv   \n",
       "576                   uniprotkb:P0DTC2              spike_wcpv   \n",
       "1159                  uniprotkb:P0DTC2              spike_wcpv   \n",
       "1160                  uniprotkb:P0DTC2              spike_wcpv   \n",
       "13608                 uniprotkb:P0DTC2              spike_wcpv   \n",
       "15723                 uniprotkb:P0DTC2              spike_wcpv   \n",
       "15724                 uniprotkb:P0DTC2              spike_wcpv   \n",
       "14625                 uniprotkb:P0DTC2              spike_wcpv   \n",
       "15725                 uniprotkb:P0DTC2              spike_wcpv   \n",
       "31310                 uniprotkb:P0DTC2              spike_wcpv   \n",
       "\n",
       "       Affected protein full name Affected protein organism  \\\n",
       "4806                          NaN      2697049 - SARS-CoV-2   \n",
       "576                           NaN      2697049 - SARS-CoV-2   \n",
       "1159                          NaN      2697049 - SARS-CoV-2   \n",
       "1160                          NaN      2697049 - SARS-CoV-2   \n",
       "13608                         NaN      2697049 - SARS-CoV-2   \n",
       "15723                         NaN      2697049 - SARS-CoV-2   \n",
       "15724                         NaN      2697049 - SARS-CoV-2   \n",
       "14625                         NaN      2697049 - SARS-CoV-2   \n",
       "15725                         NaN      2697049 - SARS-CoV-2   \n",
       "31310                         NaN      2697049 - SARS-CoV-2   \n",
       "\n",
       "                                Interaction participants        PubMedID  \\\n",
       "4806   uniprotkb:P07203(protein(MI:0326), 9606 - Homo...  unassigned2316   \n",
       "576    uniprotkb:P0DTC2(protein(MI:0326), 2697049 - S...        32155444   \n",
       "1159   uniprotkb:P0DTC2(protein(MI:0326), 2697049 - S...        32155444   \n",
       "1160   uniprotkb:P0DTC2(protein(MI:0326), 2697049 - S...        32155444   \n",
       "13608  uniprotkb:Q9BYF1(protein(MI:0326), 9606 - Homo...  unassigned2315   \n",
       "15723  uniprotkb:Q9BYF1(protein(MI:0326), 9606 - Homo...  unassigned2315   \n",
       "15724  uniprotkb:Q9BYF1(protein(MI:0326), 9606 - Homo...  unassigned2315   \n",
       "14625  uniprotkb:Q9BYF1(protein(MI:0326), 9606 - Homo...  unassigned2315   \n",
       "15725  uniprotkb:Q9BYF1(protein(MI:0326), 9606 - Homo...  unassigned2315   \n",
       "31310  uniprotkb:Q9BYF1(protein(MI:0326), 9606 - Homo...  unassigned2315   \n",
       "\n",
       "                                   Figure legend Interaction AC  \n",
       "4806   Supplementary Table 2 (media-5.xlsx file)   EBI-25490979  \n",
       "576                                Supp. Table 1   EBI-25495631  \n",
       "1159                               Supp. Table 1   EBI-25495631  \n",
       "1160                               Supp. Table 1   EBI-25495631  \n",
       "13608                        Figure 3A, number 1   EBI-25496287  \n",
       "15723                        Figure 3A, number 1   EBI-25496287  \n",
       "15724                        Figure 3A, number 1   EBI-25496287  \n",
       "14625                        Figure 3A, number 2   EBI-25496356  \n",
       "15725                        Figure 3A, number 2   EBI-25496356  \n",
       "31310                        Figure 3A, number 2   EBI-25496356  "
      ]
     },
     "execution_count": 56,
     "metadata": {},
     "output_type": "execute_result"
    }
   ],
   "source": [
    "mutation_dataframe"
   ]
  },
  {
   "cell_type": "code",
   "execution_count": 57,
   "metadata": {},
   "outputs": [],
   "source": [
    "\n",
    "pre_final = mutation_dataframe[[\"Affected protein AC\",\n",
    "                    \"Feature range(s)\",\n",
    "                    \"Feature type\",\n",
    "                    \"Interaction participants\",\n",
    "                    \"Feature short label\",\n",
    "                    \"#Feature AC\",\n",
    "                   ]]\n"
   ]
  },
  {
   "cell_type": "code",
   "execution_count": 58,
   "metadata": {},
   "outputs": [
    {
     "data": {
      "text/html": [
       "<div>\n",
       "<style scoped>\n",
       "    .dataframe tbody tr th:only-of-type {\n",
       "        vertical-align: middle;\n",
       "    }\n",
       "\n",
       "    .dataframe tbody tr th {\n",
       "        vertical-align: top;\n",
       "    }\n",
       "\n",
       "    .dataframe thead th {\n",
       "        text-align: right;\n",
       "    }\n",
       "</style>\n",
       "<table border=\"1\" class=\"dataframe\">\n",
       "  <thead>\n",
       "    <tr style=\"text-align: right;\">\n",
       "      <th></th>\n",
       "      <th>Affected protein AC</th>\n",
       "      <th>Feature range(s)</th>\n",
       "      <th>Feature type</th>\n",
       "      <th>Interaction participants</th>\n",
       "      <th>Feature short label</th>\n",
       "      <th>#Feature AC</th>\n",
       "    </tr>\n",
       "  </thead>\n",
       "  <tbody>\n",
       "    <tr>\n",
       "      <td>4806</td>\n",
       "      <td>uniprotkb:P0DTD1-PRO_0000449623</td>\n",
       "      <td>145-145</td>\n",
       "      <td>mutation(MI:0118)</td>\n",
       "      <td>uniprotkb:P07203(protein(MI:0326), 9606 - Homo...</td>\n",
       "      <td>p.Cys145Ala</td>\n",
       "      <td>EBI-25490985</td>\n",
       "    </tr>\n",
       "    <tr>\n",
       "      <td>576</td>\n",
       "      <td>uniprotkb:P0DTC2</td>\n",
       "      <td>685-685</td>\n",
       "      <td>mutation(MI:0118)</td>\n",
       "      <td>uniprotkb:P0DTC2(protein(MI:0326), 2697049 - S...</td>\n",
       "      <td>p.Arg685Gly</td>\n",
       "      <td>EBI-25495689</td>\n",
       "    </tr>\n",
       "    <tr>\n",
       "      <td>1159</td>\n",
       "      <td>uniprotkb:P0DTC2</td>\n",
       "      <td>986-987</td>\n",
       "      <td>mutation(MI:0118)</td>\n",
       "      <td>uniprotkb:P0DTC2(protein(MI:0326), 2697049 - S...</td>\n",
       "      <td>p.Lys986_Val987delinsProPro</td>\n",
       "      <td>EBI-25495692</td>\n",
       "    </tr>\n",
       "    <tr>\n",
       "      <td>1160</td>\n",
       "      <td>uniprotkb:P0DTC2</td>\n",
       "      <td>682-683</td>\n",
       "      <td>mutation(MI:0118)</td>\n",
       "      <td>uniprotkb:P0DTC2(protein(MI:0326), 2697049 - S...</td>\n",
       "      <td>p.Arg682_Arg683delinsSerGly</td>\n",
       "      <td>EBI-25495687</td>\n",
       "    </tr>\n",
       "    <tr>\n",
       "      <td>13608</td>\n",
       "      <td>uniprotkb:P0DTC2</td>\n",
       "      <td>493-493</td>\n",
       "      <td>mutation decreasing strength(MI:1133)</td>\n",
       "      <td>uniprotkb:Q9BYF1(protein(MI:0326), 9606 - Homo...</td>\n",
       "      <td>p.Gln493Asn</td>\n",
       "      <td>EBI-25496345</td>\n",
       "    </tr>\n",
       "    <tr>\n",
       "      <td>15723</td>\n",
       "      <td>uniprotkb:P0DTC2</td>\n",
       "      <td>493-493</td>\n",
       "      <td>mutation decreasing strength(MI:1133)</td>\n",
       "      <td>uniprotkb:Q9BYF1(protein(MI:0326), 9606 - Homo...</td>\n",
       "      <td>p.Gln493Tyr</td>\n",
       "      <td>EBI-25496348</td>\n",
       "    </tr>\n",
       "    <tr>\n",
       "      <td>15724</td>\n",
       "      <td>uniprotkb:P0DTC2</td>\n",
       "      <td>501-501</td>\n",
       "      <td>mutation decreasing strength(MI:1133)</td>\n",
       "      <td>uniprotkb:Q9BYF1(protein(MI:0326), 9606 - Homo...</td>\n",
       "      <td>p.Asn501Thr</td>\n",
       "      <td>EBI-25496351</td>\n",
       "    </tr>\n",
       "    <tr>\n",
       "      <td>14625</td>\n",
       "      <td>uniprotkb:P0DTC2</td>\n",
       "      <td>493-493</td>\n",
       "      <td>mutation decreasing strength(MI:1133)</td>\n",
       "      <td>uniprotkb:Q9BYF1(protein(MI:0326), 9606 - Homo...</td>\n",
       "      <td>p.Gln493Tyr</td>\n",
       "      <td>EBI-25496364</td>\n",
       "    </tr>\n",
       "    <tr>\n",
       "      <td>15725</td>\n",
       "      <td>uniprotkb:P0DTC2</td>\n",
       "      <td>493-493</td>\n",
       "      <td>mutation decreasing strength(MI:1133)</td>\n",
       "      <td>uniprotkb:Q9BYF1(protein(MI:0326), 9606 - Homo...</td>\n",
       "      <td>p.Gln493Asn</td>\n",
       "      <td>EBI-25496362</td>\n",
       "    </tr>\n",
       "    <tr>\n",
       "      <td>31310</td>\n",
       "      <td>uniprotkb:P0DTC2</td>\n",
       "      <td>501-501</td>\n",
       "      <td>mutation disrupting strength(MI:1128)</td>\n",
       "      <td>uniprotkb:Q9BYF1(protein(MI:0326), 9606 - Homo...</td>\n",
       "      <td>p.Asn501Thr</td>\n",
       "      <td>EBI-25496366</td>\n",
       "    </tr>\n",
       "  </tbody>\n",
       "</table>\n",
       "</div>"
      ],
      "text/plain": [
       "                   Affected protein AC Feature range(s)  \\\n",
       "4806   uniprotkb:P0DTD1-PRO_0000449623          145-145   \n",
       "576                   uniprotkb:P0DTC2          685-685   \n",
       "1159                  uniprotkb:P0DTC2          986-987   \n",
       "1160                  uniprotkb:P0DTC2          682-683   \n",
       "13608                 uniprotkb:P0DTC2          493-493   \n",
       "15723                 uniprotkb:P0DTC2          493-493   \n",
       "15724                 uniprotkb:P0DTC2          501-501   \n",
       "14625                 uniprotkb:P0DTC2          493-493   \n",
       "15725                 uniprotkb:P0DTC2          493-493   \n",
       "31310                 uniprotkb:P0DTC2          501-501   \n",
       "\n",
       "                                Feature type  \\\n",
       "4806                       mutation(MI:0118)   \n",
       "576                        mutation(MI:0118)   \n",
       "1159                       mutation(MI:0118)   \n",
       "1160                       mutation(MI:0118)   \n",
       "13608  mutation decreasing strength(MI:1133)   \n",
       "15723  mutation decreasing strength(MI:1133)   \n",
       "15724  mutation decreasing strength(MI:1133)   \n",
       "14625  mutation decreasing strength(MI:1133)   \n",
       "15725  mutation decreasing strength(MI:1133)   \n",
       "31310  mutation disrupting strength(MI:1128)   \n",
       "\n",
       "                                Interaction participants  \\\n",
       "4806   uniprotkb:P07203(protein(MI:0326), 9606 - Homo...   \n",
       "576    uniprotkb:P0DTC2(protein(MI:0326), 2697049 - S...   \n",
       "1159   uniprotkb:P0DTC2(protein(MI:0326), 2697049 - S...   \n",
       "1160   uniprotkb:P0DTC2(protein(MI:0326), 2697049 - S...   \n",
       "13608  uniprotkb:Q9BYF1(protein(MI:0326), 9606 - Homo...   \n",
       "15723  uniprotkb:Q9BYF1(protein(MI:0326), 9606 - Homo...   \n",
       "15724  uniprotkb:Q9BYF1(protein(MI:0326), 9606 - Homo...   \n",
       "14625  uniprotkb:Q9BYF1(protein(MI:0326), 9606 - Homo...   \n",
       "15725  uniprotkb:Q9BYF1(protein(MI:0326), 9606 - Homo...   \n",
       "31310  uniprotkb:Q9BYF1(protein(MI:0326), 9606 - Homo...   \n",
       "\n",
       "               Feature short label   #Feature AC  \n",
       "4806                   p.Cys145Ala  EBI-25490985  \n",
       "576                    p.Arg685Gly  EBI-25495689  \n",
       "1159   p.Lys986_Val987delinsProPro  EBI-25495692  \n",
       "1160   p.Arg682_Arg683delinsSerGly  EBI-25495687  \n",
       "13608                  p.Gln493Asn  EBI-25496345  \n",
       "15723                  p.Gln493Tyr  EBI-25496348  \n",
       "15724                  p.Asn501Thr  EBI-25496351  \n",
       "14625                  p.Gln493Tyr  EBI-25496364  \n",
       "15725                  p.Gln493Asn  EBI-25496362  \n",
       "31310                  p.Asn501Thr  EBI-25496366  "
      ]
     },
     "execution_count": 58,
     "metadata": {},
     "output_type": "execute_result"
    }
   ],
   "source": [
    "pre_final"
   ]
  },
  {
   "cell_type": "code",
   "execution_count": 59,
   "metadata": {},
   "outputs": [],
   "source": [
    "final = pd.DataFrame()"
   ]
  },
  {
   "cell_type": "code",
   "execution_count": 60,
   "metadata": {},
   "outputs": [],
   "source": [
    "final['uniprot'] = pre_final[\"Affected protein AC\"].apply( lambda x : x.split(\":\")[1])"
   ]
  },
  {
   "cell_type": "code",
   "execution_count": 61,
   "metadata": {},
   "outputs": [],
   "source": [
    "final['start'] = pre_final[\"Feature range(s)\"].apply(  lambda x : x.split(\"-\")[0])\n",
    "final['end'] = pre_final[\"Feature range(s)\"].apply(  lambda x : x.split(\"-\")[1])"
   ]
  },
  {
   "cell_type": "code",
   "execution_count": 62,
   "metadata": {},
   "outputs": [],
   "source": [
    "final[\"Interaction participants\"] = pre_final[\"Interaction participants\"]\n",
    "final[\"Feature short label\"] = pre_final[\"Feature short label\"]\n",
    "final[\"#Feature AC\"] = pre_final[\"#Feature AC\"]\n"
   ]
  },
  {
   "cell_type": "code",
   "execution_count": 63,
   "metadata": {},
   "outputs": [],
   "source": [
    "colors = {'145':'#ff0000', '685':'#fffb00', '986':'#00ff15', '682':'#6600ff', '493':\"#0000ff\", '501':'#ff9d00'} "
   ]
  },
  {
   "cell_type": "code",
   "execution_count": 64,
   "metadata": {},
   "outputs": [
    {
     "data": {
      "text/plain": [
       "array(['145', '685', '986', '682', '493', '501'], dtype=object)"
      ]
     },
     "execution_count": 64,
     "metadata": {},
     "output_type": "execute_result"
    }
   ],
   "source": [
    "final.start.unique()"
   ]
  },
  {
   "cell_type": "code",
   "execution_count": 65,
   "metadata": {},
   "outputs": [],
   "source": [
    "final[\"color\"]= final[\"start\"].apply(lambda x : colors[x])"
   ]
  },
  {
   "cell_type": "code",
   "execution_count": 66,
   "metadata": {},
   "outputs": [
    {
     "name": "stdout",
     "output_type": "stream",
     "text": [
      "P0DTD1\t10\t20\t#ff0000\tred anno\n",
      "P0DTD1\t21\t30\t#0000ff\thttps://swissmodel.expasy.org/\tblue anno\n",
      "Visit the following url to see awesome things:\n",
      "https://beta.swissmodel.expasy.org/repository/covid_annotation_project/hXvAnj\n"
     ]
    }
   ],
   "source": [
    "# generate example annotations\n",
    "annotation = Annotation()\n",
    "\n",
    "# Annotation of residue range with color red provided as RGB\n",
    "annotation.add(\"P0DTD1\", (10, 20), (1.0, 0.0, 0.0), \"red anno\")\n",
    "\n",
    "# Again, annotating a range but this time we're adding a reference\n",
    "# and provide the color blue as hex\n",
    "annotation.add(\"P0DTD1\", (21, 30), \"#0000FF\", \"blue anno\", \n",
    "               reference = \"https://swissmodel.expasy.org/\")\n",
    "\n",
    "# Outputs plain text which is accepted on the covid annotation upload \n",
    "print(annotation)\n",
    "\n",
    "# Or directly do a post request (defaults to SWISS-MODEL beta)\n",
    "print(\"Visit the following url to see awesome things:\")\n",
    "print(annotation.post(title=\"awesome things\"))"
   ]
  },
  {
   "cell_type": "code",
   "execution_count": 67,
   "metadata": {},
   "outputs": [],
   "source": [
    "final[\"Feature type\"] = pre_final[\"Feature type\"]"
   ]
  },
  {
   "cell_type": "code",
   "execution_count": 68,
   "metadata": {},
   "outputs": [
    {
     "data": {
      "text/plain": [
       "Index(['uniprot', 'start', 'end', 'Interaction participants',\n",
       "       'Feature short label', '#Feature AC', 'color', 'Feature type'],\n",
       "      dtype='object')"
      ]
     },
     "execution_count": 68,
     "metadata": {},
     "output_type": "execute_result"
    }
   ],
   "source": [
    "final.columns"
   ]
  },
  {
   "cell_type": "code",
   "execution_count": 69,
   "metadata": {},
   "outputs": [
    {
     "name": "stdout",
     "output_type": "stream",
     "text": [
      "P0DTD1-PRO_0000449623\t145\t145\t#ff0000\tp.Cys145Ala\tEBI-25490985\tmutation(MI:0118)\n",
      "P0DTC2\t685\t685\t#fffb00\tp.Arg685Gly\tEBI-25495689\tmutation(MI:0118)\n",
      "P0DTC2\t986\t987\t#00ff15\tp.Lys986_Val987delinsProPro\tEBI-25495692\tmutation(MI:0118)\n",
      "P0DTC2\t682\t683\t#6600ff\tp.Arg682_Arg683delinsSerGly\tEBI-25495687\tmutation(MI:0118)\n",
      "P0DTC2\t493\t493\t#0000ff\tp.Gln493Asn\tEBI-25496345\tmutation decreasing strength(MI:1133)\n",
      "P0DTC2\t493\t493\t#0000ff\tp.Gln493Tyr\tEBI-25496348\tmutation decreasing strength(MI:1133)\n",
      "P0DTC2\t501\t501\t#ff9d00\tp.Asn501Thr\tEBI-25496351\tmutation decreasing strength(MI:1133)\n",
      "P0DTC2\t493\t493\t#0000ff\tp.Gln493Tyr\tEBI-25496364\tmutation decreasing strength(MI:1133)\n",
      "P0DTC2\t493\t493\t#0000ff\tp.Gln493Asn\tEBI-25496362\tmutation decreasing strength(MI:1133)\n",
      "P0DTC2\t501\t501\t#ff9d00\tp.Asn501Thr\tEBI-25496366\tmutation disrupting strength(MI:1128)\n"
     ]
    }
   ],
   "source": [
    "for x,y in final.iterrows():\n",
    "#     print (y[\"uniprot\"],y['start'],y['end'],y['color'],y['Interaction participants'],y['Feature short label'],y['#Feature AC'])\n",
    "    print (\"%s\\t%i\\t%i\\t%s\\t%s\\t%s\\t%s\"%(y[\"uniprot\"],\n",
    "                           int(y['start']),\n",
    "                           int(y['end']),\n",
    "                           y['color'],\n",
    "#                            y['Interaction participants'],\n",
    "                           y['Feature short label'],\n",
    "                           y['#Feature AC'],\n",
    "                           y[\"Feature type\"]              \n",
    "#                             y['Interaction participants'],\n",
    "                                         \n",
    "                          ))\n",
    "\n"
   ]
  },
  {
   "cell_type": "code",
   "execution_count": 70,
   "metadata": {},
   "outputs": [],
   "source": [
    "annotation = Annotation()"
   ]
  },
  {
   "cell_type": "code",
   "execution_count": 71,
   "metadata": {},
   "outputs": [
    {
     "data": {
      "text/plain": [
       "4806     uniprotkb:P07203(protein(MI:0326), 9606 - Homo...\n",
       "576      uniprotkb:P0DTC2(protein(MI:0326), 2697049 - S...\n",
       "1159     uniprotkb:P0DTC2(protein(MI:0326), 2697049 - S...\n",
       "1160     uniprotkb:P0DTC2(protein(MI:0326), 2697049 - S...\n",
       "13608    uniprotkb:Q9BYF1(protein(MI:0326), 9606 - Homo...\n",
       "15723    uniprotkb:Q9BYF1(protein(MI:0326), 9606 - Homo...\n",
       "15724    uniprotkb:Q9BYF1(protein(MI:0326), 9606 - Homo...\n",
       "14625    uniprotkb:Q9BYF1(protein(MI:0326), 9606 - Homo...\n",
       "15725    uniprotkb:Q9BYF1(protein(MI:0326), 9606 - Homo...\n",
       "31310    uniprotkb:Q9BYF1(protein(MI:0326), 9606 - Homo...\n",
       "Name: Interaction participants, dtype: object"
      ]
     },
     "execution_count": 71,
     "metadata": {},
     "output_type": "execute_result"
    }
   ],
   "source": [
    "final['Interaction participants']"
   ]
  },
  {
   "cell_type": "code",
   "execution_count": 72,
   "metadata": {},
   "outputs": [],
   "source": [
    "def split_interaction(x):\n",
    "    a = x.split(\"uniprotkb:\")\n",
    "    interactor = []\n",
    "    for b in a[1:] :\n",
    "        c = b.split(\"(protein(\")[0]\n",
    "        interactor.append(c)\n",
    "    e = \"_\".join(interactor)\n",
    "#     print (len(a))\n",
    "    return e\n",
    "\n",
    "#     a= x.split(\";\")[0].split(\":\")[1]\n",
    "#     b= x.split(\",\")[1]\n",
    "#     return a, b "
   ]
  },
  {
   "cell_type": "code",
   "execution_count": 73,
   "metadata": {},
   "outputs": [],
   "source": [
    "final[\"Inter\"] = final['Interaction participants'].apply(split_interaction)"
   ]
  },
  {
   "cell_type": "code",
   "execution_count": 74,
   "metadata": {},
   "outputs": [],
   "source": [
    "for x,y in final.iterrows():\n",
    "#     print (y[\"uniprot\"],y['start'],y['end'],y['color'],y['Interaction participants'],y['Feature short label'],y['#Feature AC'])\n",
    "#     print (\"%s\\t%i\\t%i\\t%s\\t%s\\t%s\\t%s\"%(y[\"uniprot\"],\n",
    "#                            int(y['start']),\n",
    "#                            int(y['end']),\n",
    "#                            y['color'],\n",
    "# #                            y['Interaction participants'],\n",
    "#                            y['Feature short label'],\n",
    "#                            y['#Feature AC'],\n",
    "#                             y['Inter']\n",
    "#                           ))\n",
    "    ann = 'Feature short label:%s,Feature AC:%s,Interaction participants:%s,Feature type:%s'%(  y['Feature short label'],\n",
    "                           y['#Feature AC'],\n",
    "                            y['Inter'],y[\"Feature type\"] \n",
    "                            )\n",
    "#     print (ann)\n",
    "    annotation.add(y[\"uniprot\"],\n",
    "                   (int(y['start']),int(y['end'])),\n",
    "                   (y['color']),\n",
    "                    ann\n",
    "                   \n",
    "                          )\n"
   ]
  },
  {
   "cell_type": "code",
   "execution_count": 75,
   "metadata": {},
   "outputs": [
    {
     "name": "stdout",
     "output_type": "stream",
     "text": [
      "P0DTD1-PRO_0000449623\t145\t145\t#ff0000\tFeature short label:p.Cys145Ala,Feature AC:EBI-25490985,Interaction participants:P07203_Q9NXH9_P0DTD1-PRO_0000449623,Feature type:mutation(MI:0118)\n",
      "P0DTC2\t685\t685\t#fffb00\tFeature short label:p.Arg685Gly,Feature AC:EBI-25495689,Interaction participants:P0DTC2,Feature type:mutation(MI:0118)\n",
      "P0DTC2\t986\t987\t#00ff15\tFeature short label:p.Lys986_Val987delinsProPro,Feature AC:EBI-25495692,Interaction participants:P0DTC2,Feature type:mutation(MI:0118)\n",
      "P0DTC2\t682\t683\t#6600ff\tFeature short label:p.Arg682_Arg683delinsSerGly,Feature AC:EBI-25495687,Interaction participants:P0DTC2,Feature type:mutation(MI:0118)\n",
      "P0DTC2\t493\t493\t#0000ff\tFeature short label:p.Gln493Asn,Feature AC:EBI-25496345,Interaction participants:Q9BYF1_P0DTC2,Feature type:mutation decreasing strength(MI:1133)\n",
      "P0DTC2\t493\t493\t#0000ff\tFeature short label:p.Gln493Tyr,Feature AC:EBI-25496348,Interaction participants:Q9BYF1_P0DTC2,Feature type:mutation decreasing strength(MI:1133)\n",
      "P0DTC2\t501\t501\t#ff9d00\tFeature short label:p.Asn501Thr,Feature AC:EBI-25496351,Interaction participants:Q9BYF1_P0DTC2,Feature type:mutation decreasing strength(MI:1133)\n",
      "P0DTC2\t493\t493\t#0000ff\tFeature short label:p.Gln493Tyr,Feature AC:EBI-25496364,Interaction participants:Q9BYF1_P0DTC2,Feature type:mutation decreasing strength(MI:1133)\n",
      "P0DTC2\t493\t493\t#0000ff\tFeature short label:p.Gln493Asn,Feature AC:EBI-25496362,Interaction participants:Q9BYF1_P0DTC2,Feature type:mutation decreasing strength(MI:1133)\n",
      "P0DTC2\t501\t501\t#ff9d00\tFeature short label:p.Asn501Thr,Feature AC:EBI-25496366,Interaction participants:Q9BYF1_P0DTC2,Feature type:mutation disrupting strength(MI:1128)\n"
     ]
    }
   ],
   "source": [
    "print(annotation)"
   ]
  },
  {
   "cell_type": "code",
   "execution_count": 77,
   "metadata": {},
   "outputs": [
    {
     "data": {
      "text/plain": [
       "3408"
      ]
     },
     "execution_count": 77,
     "metadata": {},
     "output_type": "execute_result"
    }
   ],
   "source": [
    "3264+145-1"
   ]
  },
  {
   "cell_type": "code",
   "execution_count": null,
   "metadata": {},
   "outputs": [],
   "source": [
    "P0DTD1\t3408\t3408\t#ff0000\tFeature short label:p.Cys145Ala,Feature AC:EBI-25490985,Interaction participants:P07203_Q9NXH9_P0DTD1-PRO_0000449623,Feature type:mutation(MI:0118)"
   ]
  }
 ],
 "metadata": {
  "kernelspec": {
   "display_name": "Python 3",
   "language": "python",
   "name": "python3"
  },
  "language_info": {
   "codemirror_mode": {
    "name": "ipython",
    "version": 3
   },
   "file_extension": ".py",
   "mimetype": "text/x-python",
   "name": "python",
   "nbconvert_exporter": "python",
   "pygments_lexer": "ipython3",
   "version": "3.7.6"
  }
 },
 "nbformat": 4,
 "nbformat_minor": 4
}
