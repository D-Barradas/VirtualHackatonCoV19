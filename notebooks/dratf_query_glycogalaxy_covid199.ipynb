{
 "cells": [
  {
   "cell_type": "code",
   "execution_count": 1,
   "metadata": {},
   "outputs": [],
   "source": [
    "import requests\n",
    "import json\n",
    "import pandas as pd"
   ]
  },
  {
   "cell_type": "code",
   "execution_count": 2,
   "metadata": {},
   "outputs": [],
   "source": [
    "url = \"https://glyconnect.expasy.org/api/glycosylations\""
   ]
  },
  {
   "cell_type": "code",
   "execution_count": 3,
   "metadata": {},
   "outputs": [],
   "source": [
    "# params = {'cell_line': 'HEK293'}\n",
    "# response = requests.get(url ,params=params)"
   ]
  },
  {
   "cell_type": "code",
   "execution_count": 4,
   "metadata": {},
   "outputs": [
    {
     "data": {
      "text/plain": [
       "200"
      ]
     },
     "execution_count": 4,
     "metadata": {},
     "output_type": "execute_result"
    }
   ],
   "source": [
    "# response.status_code"
   ]
  },
  {
   "cell_type": "code",
   "execution_count": 5,
   "metadata": {},
   "outputs": [],
   "source": [
    "# response.json()"
   ]
  },
  {
   "cell_type": "code",
   "execution_count": 6,
   "metadata": {},
   "outputs": [],
   "source": [
    "# https://www.dataquest.io/blog/python-api-tutorial/\n",
    "# def jprint(obj):\n",
    "#     # create a formatted string of the Python JSON object\n",
    "#     text = json.dumps(obj, sort_keys=True, indent=4)\n",
    "#     return(text)\n",
    "\n",
    "# jprint(response.json())"
   ]
  },
  {
   "cell_type": "code",
   "execution_count": 7,
   "metadata": {},
   "outputs": [
    {
     "ename": "ValueError",
     "evalue": "dictionary update sequence element #0 has length 1; 2 is required",
     "output_type": "error",
     "traceback": [
      "\u001b[0;31m---------------------------------------------------------------------------\u001b[0m",
      "\u001b[0;31mValueError\u001b[0m                                Traceback (most recent call last)",
      "\u001b[0;32m<ipython-input-7-5ec02b67c73a>\u001b[0m in \u001b[0;36m<module>\u001b[0;34m\u001b[0m\n\u001b[0;32m----> 1\u001b[0;31m \u001b[0mparsed_json\u001b[0m \u001b[0;34m=\u001b[0m \u001b[0mdict\u001b[0m\u001b[0;34m(\u001b[0m\u001b[0mjprint\u001b[0m\u001b[0;34m(\u001b[0m\u001b[0mresponse\u001b[0m\u001b[0;34m.\u001b[0m\u001b[0mjson\u001b[0m\u001b[0;34m(\u001b[0m\u001b[0;34m)\u001b[0m\u001b[0;34m)\u001b[0m\u001b[0;34m)\u001b[0m\u001b[0;34m\u001b[0m\u001b[0;34m\u001b[0m\u001b[0m\n\u001b[0m\u001b[1;32m      2\u001b[0m \u001b[0;31m# parsed_json = (json.loads(response.json()))\u001b[0m\u001b[0;34m\u001b[0m\u001b[0;34m\u001b[0m\u001b[0;34m\u001b[0m\u001b[0m\n",
      "\u001b[0;31mValueError\u001b[0m: dictionary update sequence element #0 has length 1; 2 is required"
     ]
    }
   ],
   "source": [
    "# parsed_json = dict(jprint(response.json()))\n",
    "# parsed_json = (json.loads(response.json()))"
   ]
  },
  {
   "cell_type": "code",
   "execution_count": null,
   "metadata": {},
   "outputs": [],
   "source": [
    "# type(parsed_json)"
   ]
  },
  {
   "cell_type": "code",
   "execution_count": 8,
   "metadata": {},
   "outputs": [
    {
     "data": {
      "text/plain": [
       "dict"
      ]
     },
     "execution_count": 8,
     "metadata": {},
     "output_type": "execute_result"
    }
   ],
   "source": [
    "# type(response.json())"
   ]
  },
  {
   "cell_type": "code",
   "execution_count": 9,
   "metadata": {},
   "outputs": [],
   "source": [
    "# my_response = response.json()"
   ]
  },
  {
   "cell_type": "code",
   "execution_count": 10,
   "metadata": {},
   "outputs": [
    {
     "data": {
      "text/plain": [
       "dict_keys(['release', 'md5', 'query', 'timestamp', 'results'])"
      ]
     },
     "execution_count": 10,
     "metadata": {},
     "output_type": "execute_result"
    }
   ],
   "source": [
    "# my_response.keys()"
   ]
  },
  {
   "cell_type": "code",
   "execution_count": 13,
   "metadata": {},
   "outputs": [
    {
     "data": {
      "text/plain": [
       "list"
      ]
     },
     "execution_count": 13,
     "metadata": {},
     "output_type": "execute_result"
    }
   ],
   "source": [
    "type(my_response['results'])"
   ]
  },
  {
   "cell_type": "code",
   "execution_count": 20,
   "metadata": {},
   "outputs": [
    {
     "data": {
      "text/plain": [
       "1471"
      ]
     },
     "execution_count": 20,
     "metadata": {},
     "output_type": "execute_result"
    }
   ],
   "source": [
    "len(my_response['results'])"
   ]
  },
  {
   "cell_type": "code",
   "execution_count": 15,
   "metadata": {},
   "outputs": [
    {
     "data": {
      "text/plain": [
       "dict"
      ]
     },
     "execution_count": 15,
     "metadata": {},
     "output_type": "execute_result"
    }
   ],
   "source": [
    "type(my_response['results'][0])"
   ]
  },
  {
   "cell_type": "code",
   "execution_count": 16,
   "metadata": {},
   "outputs": [
    {
     "data": {
      "text/plain": [
       "dict_keys(['protein', 'composition', 'structure', 'site', 'references'])"
      ]
     },
     "execution_count": 16,
     "metadata": {},
     "output_type": "execute_result"
    }
   ],
   "source": [
    "my_response['results'][0].keys()"
   ]
  },
  {
   "cell_type": "code",
   "execution_count": 53,
   "metadata": {},
   "outputs": [
    {
     "data": {
      "text/plain": [
       "{'glyco_site': 'Asn-81', 'location': 81}"
      ]
     },
     "execution_count": 53,
     "metadata": {},
     "output_type": "execute_result"
    }
   ],
   "source": [
    "my_response['results'][0][\"site\"]"
   ]
  },
  {
   "cell_type": "code",
   "execution_count": 60,
   "metadata": {},
   "outputs": [
    {
     "data": {
      "text/plain": [
       "{'id': 318,\n",
       " 'numeric': '4,5,0,0,0,0,0,0,0,0,0,0,0,0',\n",
       " 'string': 'Hex:4 HexNAc:5',\n",
       " 'byonic': 'HexNAc(5)Hex(4)',\n",
       " 'character': 'H4N5',\n",
       " 'mass': 1682.5599,\n",
       " 'mass_monoisotopic': 1681.6188,\n",
       " 'reviewed': True,\n",
       " 'glytoucan_id': 'G23432EQ'}"
      ]
     },
     "execution_count": 60,
     "metadata": {},
     "output_type": "execute_result"
    }
   ],
   "source": [
    "dict(my_response['results'][0][\"composition\"])"
   ]
  },
  {
   "cell_type": "code",
   "execution_count": 22,
   "metadata": {},
   "outputs": [],
   "source": []
  },
  {
   "cell_type": "code",
   "execution_count": 50,
   "metadata": {},
   "outputs": [
    {
     "data": {
      "text/html": [
       "<div>\n",
       "<style scoped>\n",
       "    .dataframe tbody tr th:only-of-type {\n",
       "        vertical-align: middle;\n",
       "    }\n",
       "\n",
       "    .dataframe tbody tr th {\n",
       "        vertical-align: top;\n",
       "    }\n",
       "\n",
       "    .dataframe thead th {\n",
       "        text-align: right;\n",
       "    }\n",
       "</style>\n",
       "<table border=\"1\" class=\"dataframe\">\n",
       "  <thead>\n",
       "    <tr style=\"text-align: right;\">\n",
       "      <th></th>\n",
       "      <th>uniprot_acc</th>\n",
       "      <th>uniprot_id</th>\n",
       "      <th>nextprot</th>\n",
       "      <th>genecards</th>\n",
       "    </tr>\n",
       "  </thead>\n",
       "  <tbody>\n",
       "    <tr>\n",
       "      <td>0</td>\n",
       "      <td>Q14624</td>\n",
       "      <td>ITIH4_HUMAN</td>\n",
       "      <td>NX_Q14624</td>\n",
       "      <td>ITIH4</td>\n",
       "    </tr>\n",
       "  </tbody>\n",
       "</table>\n",
       "</div>"
      ],
      "text/plain": [
       "  uniprot_acc   uniprot_id   nextprot genecards\n",
       "0      Q14624  ITIH4_HUMAN  NX_Q14624     ITIH4"
      ]
     },
     "execution_count": 50,
     "metadata": {},
     "output_type": "execute_result"
    }
   ],
   "source": [
    "# df_results_uniprots = pd.DataFrame.from_dict(my_response['results'][0]['protein']['uniprots'])\n",
    "# df_results_uniprots"
   ]
  },
  {
   "cell_type": "code",
   "execution_count": 67,
   "metadata": {},
   "outputs": [],
   "source": [
    "df_results_site = pd.DataFrame(my_response['results'][0]['site'],index=[0])\n",
    "type(my_response['results'][0]['protein']['uniprots'])"
   ]
  },
  {
   "cell_type": "code",
   "execution_count": 69,
   "metadata": {},
   "outputs": [],
   "source": [
    "# df_results_composition = pd.DataFrame(my_response['results'][0][\"composition\"],index=[0])"
   ]
  },
  {
   "cell_type": "code",
   "execution_count": 70,
   "metadata": {},
   "outputs": [
    {
     "data": {
      "text/html": [
       "<div>\n",
       "<style scoped>\n",
       "    .dataframe tbody tr th:only-of-type {\n",
       "        vertical-align: middle;\n",
       "    }\n",
       "\n",
       "    .dataframe tbody tr th {\n",
       "        vertical-align: top;\n",
       "    }\n",
       "\n",
       "    .dataframe thead th {\n",
       "        text-align: right;\n",
       "    }\n",
       "</style>\n",
       "<table border=\"1\" class=\"dataframe\">\n",
       "  <thead>\n",
       "    <tr style=\"text-align: right;\">\n",
       "      <th></th>\n",
       "      <th>glyco_site</th>\n",
       "      <th>location</th>\n",
       "    </tr>\n",
       "  </thead>\n",
       "  <tbody>\n",
       "    <tr>\n",
       "      <td>0</td>\n",
       "      <td>Asn-81</td>\n",
       "      <td>81</td>\n",
       "    </tr>\n",
       "  </tbody>\n",
       "</table>\n",
       "</div>"
      ],
      "text/plain": [
       "  glyco_site  location\n",
       "0     Asn-81        81"
      ]
     },
     "execution_count": 70,
     "metadata": {},
     "output_type": "execute_result"
    }
   ],
   "source": [
    "# df_results_site"
   ]
  },
  {
   "cell_type": "code",
   "execution_count": 71,
   "metadata": {},
   "outputs": [
    {
     "data": {
      "text/html": [
       "<div>\n",
       "<style scoped>\n",
       "    .dataframe tbody tr th:only-of-type {\n",
       "        vertical-align: middle;\n",
       "    }\n",
       "\n",
       "    .dataframe tbody tr th {\n",
       "        vertical-align: top;\n",
       "    }\n",
       "\n",
       "    .dataframe thead th {\n",
       "        text-align: right;\n",
       "    }\n",
       "</style>\n",
       "<table border=\"1\" class=\"dataframe\">\n",
       "  <thead>\n",
       "    <tr style=\"text-align: right;\">\n",
       "      <th></th>\n",
       "      <th>id</th>\n",
       "      <th>numeric</th>\n",
       "      <th>string</th>\n",
       "      <th>byonic</th>\n",
       "      <th>character</th>\n",
       "      <th>mass</th>\n",
       "      <th>mass_monoisotopic</th>\n",
       "      <th>reviewed</th>\n",
       "      <th>glytoucan_id</th>\n",
       "    </tr>\n",
       "  </thead>\n",
       "  <tbody>\n",
       "    <tr>\n",
       "      <td>0</td>\n",
       "      <td>318</td>\n",
       "      <td>4,5,0,0,0,0,0,0,0,0,0,0,0,0</td>\n",
       "      <td>Hex:4 HexNAc:5</td>\n",
       "      <td>HexNAc(5)Hex(4)</td>\n",
       "      <td>H4N5</td>\n",
       "      <td>1682.5599</td>\n",
       "      <td>1681.6188</td>\n",
       "      <td>True</td>\n",
       "      <td>G23432EQ</td>\n",
       "    </tr>\n",
       "  </tbody>\n",
       "</table>\n",
       "</div>"
      ],
      "text/plain": [
       "    id                      numeric          string           byonic  \\\n",
       "0  318  4,5,0,0,0,0,0,0,0,0,0,0,0,0  Hex:4 HexNAc:5  HexNAc(5)Hex(4)   \n",
       "\n",
       "  character       mass  mass_monoisotopic  reviewed glytoucan_id  \n",
       "0      H4N5  1682.5599          1681.6188      True     G23432EQ  "
      ]
     },
     "execution_count": 71,
     "metadata": {},
     "output_type": "execute_result"
    }
   ],
   "source": [
    "# df_results_composition"
   ]
  },
  {
   "cell_type": "code",
   "execution_count": 73,
   "metadata": {},
   "outputs": [
    {
     "data": {
      "text/html": [
       "<div>\n",
       "<style scoped>\n",
       "    .dataframe tbody tr th:only-of-type {\n",
       "        vertical-align: middle;\n",
       "    }\n",
       "\n",
       "    .dataframe tbody tr th {\n",
       "        vertical-align: top;\n",
       "    }\n",
       "\n",
       "    .dataframe thead th {\n",
       "        text-align: right;\n",
       "    }\n",
       "</style>\n",
       "<table border=\"1\" class=\"dataframe\">\n",
       "  <thead>\n",
       "    <tr style=\"text-align: right;\">\n",
       "      <th></th>\n",
       "      <th>id</th>\n",
       "      <th>numeric</th>\n",
       "      <th>string</th>\n",
       "      <th>byonic</th>\n",
       "      <th>character</th>\n",
       "      <th>mass</th>\n",
       "      <th>mass_monoisotopic</th>\n",
       "      <th>reviewed</th>\n",
       "      <th>glytoucan_id</th>\n",
       "      <th>glyco_site</th>\n",
       "      <th>location</th>\n",
       "      <th>uniprot_acc</th>\n",
       "      <th>uniprot_id</th>\n",
       "      <th>nextprot</th>\n",
       "      <th>genecards</th>\n",
       "    </tr>\n",
       "  </thead>\n",
       "  <tbody>\n",
       "    <tr>\n",
       "      <td>0</td>\n",
       "      <td>318</td>\n",
       "      <td>4,5,0,0,0,0,0,0,0,0,0,0,0,0</td>\n",
       "      <td>Hex:4 HexNAc:5</td>\n",
       "      <td>HexNAc(5)Hex(4)</td>\n",
       "      <td>H4N5</td>\n",
       "      <td>1682.5599</td>\n",
       "      <td>1681.6188</td>\n",
       "      <td>True</td>\n",
       "      <td>G23432EQ</td>\n",
       "      <td>Asn-81</td>\n",
       "      <td>81</td>\n",
       "      <td>Q14624</td>\n",
       "      <td>ITIH4_HUMAN</td>\n",
       "      <td>NX_Q14624</td>\n",
       "      <td>ITIH4</td>\n",
       "    </tr>\n",
       "  </tbody>\n",
       "</table>\n",
       "</div>"
      ],
      "text/plain": [
       "    id                      numeric          string           byonic  \\\n",
       "0  318  4,5,0,0,0,0,0,0,0,0,0,0,0,0  Hex:4 HexNAc:5  HexNAc(5)Hex(4)   \n",
       "\n",
       "  character       mass  mass_monoisotopic  reviewed glytoucan_id glyco_site  \\\n",
       "0      H4N5  1682.5599          1681.6188      True     G23432EQ     Asn-81   \n",
       "\n",
       "   location uniprot_acc   uniprot_id   nextprot genecards  \n",
       "0        81      Q14624  ITIH4_HUMAN  NX_Q14624     ITIH4  "
      ]
     },
     "execution_count": 73,
     "metadata": {},
     "output_type": "execute_result"
    }
   ],
   "source": [
    "# pd.concat([df_results_composition,df_results_site, df_results_uniprots], sort=False, axis=1)"
   ]
  },
  {
   "cell_type": "code",
   "execution_count": 83,
   "metadata": {},
   "outputs": [],
   "source": [
    "df_dump = pd.DataFrame()\n",
    "for r in range(len(my_response['results'])):\n",
    "    df_results_uniprots = pd.DataFrame(my_response['results'][r]['protein']['uniprots'],index=[r])\n",
    "    df_results_site = pd.DataFrame(my_response['results'][r]['site'],index=[r])\n",
    "    df_results_composition = pd.DataFrame(my_response['results'][r][\"composition\"],index=[r])\n",
    "    df_temp = pd.concat([df_results_composition,df_results_site, df_results_uniprots], sort=False, axis=1)\n",
    "    df_dump = pd.concat([df_dump,df_temp],sort=True,axis=0)"
   ]
  },
  {
   "cell_type": "code",
   "execution_count": 84,
   "metadata": {},
   "outputs": [],
   "source": [
    "# df_dump.dropna(inplace=True)\n",
    "# df_dump.drop_duplicates(inplace=True)"
   ]
  },
  {
   "cell_type": "code",
   "execution_count": null,
   "metadata": {},
   "outputs": [],
   "source": []
  },
  {
   "cell_type": "code",
   "execution_count": 98,
   "metadata": {},
   "outputs": [
    {
     "data": {
      "text/html": [
       "<div>\n",
       "<style scoped>\n",
       "    .dataframe tbody tr th:only-of-type {\n",
       "        vertical-align: middle;\n",
       "    }\n",
       "\n",
       "    .dataframe tbody tr th {\n",
       "        vertical-align: top;\n",
       "    }\n",
       "\n",
       "    .dataframe thead th {\n",
       "        text-align: right;\n",
       "    }\n",
       "</style>\n",
       "<table border=\"1\" class=\"dataframe\">\n",
       "  <thead>\n",
       "    <tr style=\"text-align: right;\">\n",
       "      <th></th>\n",
       "      <th>byonic</th>\n",
       "      <th>character</th>\n",
       "      <th>genecards</th>\n",
       "      <th>glyco_site</th>\n",
       "      <th>glytoucan_id</th>\n",
       "      <th>id</th>\n",
       "      <th>location</th>\n",
       "      <th>mass</th>\n",
       "      <th>mass_monoisotopic</th>\n",
       "      <th>nextprot</th>\n",
       "      <th>numeric</th>\n",
       "      <th>reviewed</th>\n",
       "      <th>string</th>\n",
       "      <th>uniprot_acc</th>\n",
       "      <th>uniprot_id</th>\n",
       "    </tr>\n",
       "  </thead>\n",
       "  <tbody>\n",
       "    <tr>\n",
       "      <td>0</td>\n",
       "      <td>HexNAc(5)Hex(4)</td>\n",
       "      <td>H4N5</td>\n",
       "      <td>ITIH4</td>\n",
       "      <td>Asn-81</td>\n",
       "      <td>G23432EQ</td>\n",
       "      <td>318</td>\n",
       "      <td>81</td>\n",
       "      <td>1682.5599</td>\n",
       "      <td>1681.6188</td>\n",
       "      <td>NX_Q14624</td>\n",
       "      <td>4,5,0,0,0,0,0,0,0,0,0,0,0,0</td>\n",
       "      <td>True</td>\n",
       "      <td>Hex:4 HexNAc:5</td>\n",
       "      <td>Q14624</td>\n",
       "      <td>ITIH4_HUMAN</td>\n",
       "    </tr>\n",
       "    <tr>\n",
       "      <td>1</td>\n",
       "      <td>HexNAc(4)Hex(5)dHex(2)</td>\n",
       "      <td>H5N4F2</td>\n",
       "      <td>ITIH4</td>\n",
       "      <td>Asn-207</td>\n",
       "      <td>G44215PV</td>\n",
       "      <td>353</td>\n",
       "      <td>207</td>\n",
       "      <td>1933.7933</td>\n",
       "      <td>1932.7080</td>\n",
       "      <td>NX_Q14624</td>\n",
       "      <td>5,4,2,0,0,0,0,0,0,0,0,0,0,0</td>\n",
       "      <td>True</td>\n",
       "      <td>Hex:5 HexNAc:4 dHex:2</td>\n",
       "      <td>Q14624</td>\n",
       "      <td>ITIH4_HUMAN</td>\n",
       "    </tr>\n",
       "    <tr>\n",
       "      <td>2</td>\n",
       "      <td>HexNAc(6)Hex(7)dHex(1)NeuAc(4)</td>\n",
       "      <td>H7N6F1S4</td>\n",
       "      <td>ITIH4</td>\n",
       "      <td>Asn-517</td>\n",
       "      <td>G69834CE</td>\n",
       "      <td>271</td>\n",
       "      <td>517</td>\n",
       "      <td>3683.3567</td>\n",
       "      <td>3681.2961</td>\n",
       "      <td>NX_Q14624</td>\n",
       "      <td>7,6,1,4,0,0,0,0,0,0,0,0,0,0</td>\n",
       "      <td>True</td>\n",
       "      <td>Hex:7 HexNAc:6 dHex:1 NeuAc:4</td>\n",
       "      <td>Q14624</td>\n",
       "      <td>ITIH4_HUMAN</td>\n",
       "    </tr>\n",
       "    <tr>\n",
       "      <td>3</td>\n",
       "      <td>HexNAc(4)Hex(4)dHex(1)</td>\n",
       "      <td>H4N4F1</td>\n",
       "      <td>ITIH4</td>\n",
       "      <td>Asn-577</td>\n",
       "      <td>G46687AB</td>\n",
       "      <td>350</td>\n",
       "      <td>577</td>\n",
       "      <td>1625.5079</td>\n",
       "      <td>1624.5973</td>\n",
       "      <td>NX_Q14624</td>\n",
       "      <td>4,4,1,0,0,0,0,0,0,0,0,0,0,0</td>\n",
       "      <td>True</td>\n",
       "      <td>Hex:4 HexNAc:4 dHex:1</td>\n",
       "      <td>Q14624</td>\n",
       "      <td>ITIH4_HUMAN</td>\n",
       "    </tr>\n",
       "    <tr>\n",
       "      <td>4</td>\n",
       "      <td>HexNAc(5)Hex(5)dHex(2)</td>\n",
       "      <td>H5N5F2</td>\n",
       "      <td>ITIH4</td>\n",
       "      <td>Asn-517</td>\n",
       "      <td>G70822IO</td>\n",
       "      <td>639</td>\n",
       "      <td>517</td>\n",
       "      <td>2136.9883</td>\n",
       "      <td>2135.7874</td>\n",
       "      <td>NX_Q14624</td>\n",
       "      <td>5,5,2,0,0,0,0,0,0,0,0,0,0,0</td>\n",
       "      <td>True</td>\n",
       "      <td>Hex:5 HexNAc:5 dHex:2</td>\n",
       "      <td>Q14624</td>\n",
       "      <td>ITIH4_HUMAN</td>\n",
       "    </tr>\n",
       "  </tbody>\n",
       "</table>\n",
       "</div>"
      ],
      "text/plain": [
       "                           byonic character genecards glyco_site glytoucan_id  \\\n",
       "0                 HexNAc(5)Hex(4)      H4N5     ITIH4     Asn-81     G23432EQ   \n",
       "1          HexNAc(4)Hex(5)dHex(2)    H5N4F2     ITIH4    Asn-207     G44215PV   \n",
       "2  HexNAc(6)Hex(7)dHex(1)NeuAc(4)  H7N6F1S4     ITIH4    Asn-517     G69834CE   \n",
       "3          HexNAc(4)Hex(4)dHex(1)    H4N4F1     ITIH4    Asn-577     G46687AB   \n",
       "4          HexNAc(5)Hex(5)dHex(2)    H5N5F2     ITIH4    Asn-517     G70822IO   \n",
       "\n",
       "    id  location       mass  mass_monoisotopic   nextprot  \\\n",
       "0  318        81  1682.5599          1681.6188  NX_Q14624   \n",
       "1  353       207  1933.7933          1932.7080  NX_Q14624   \n",
       "2  271       517  3683.3567          3681.2961  NX_Q14624   \n",
       "3  350       577  1625.5079          1624.5973  NX_Q14624   \n",
       "4  639       517  2136.9883          2135.7874  NX_Q14624   \n",
       "\n",
       "                       numeric  reviewed                         string  \\\n",
       "0  4,5,0,0,0,0,0,0,0,0,0,0,0,0      True                 Hex:4 HexNAc:5   \n",
       "1  5,4,2,0,0,0,0,0,0,0,0,0,0,0      True          Hex:5 HexNAc:4 dHex:2   \n",
       "2  7,6,1,4,0,0,0,0,0,0,0,0,0,0      True  Hex:7 HexNAc:6 dHex:1 NeuAc:4   \n",
       "3  4,4,1,0,0,0,0,0,0,0,0,0,0,0      True          Hex:4 HexNAc:4 dHex:1   \n",
       "4  5,5,2,0,0,0,0,0,0,0,0,0,0,0      True          Hex:5 HexNAc:5 dHex:2   \n",
       "\n",
       "  uniprot_acc   uniprot_id  \n",
       "0      Q14624  ITIH4_HUMAN  \n",
       "1      Q14624  ITIH4_HUMAN  \n",
       "2      Q14624  ITIH4_HUMAN  \n",
       "3      Q14624  ITIH4_HUMAN  \n",
       "4      Q14624  ITIH4_HUMAN  "
      ]
     },
     "execution_count": 98,
     "metadata": {},
     "output_type": "execute_result"
    }
   ],
   "source": [
    "# df_dump.head()"
   ]
  },
  {
   "cell_type": "code",
   "execution_count": 87,
   "metadata": {},
   "outputs": [
    {
     "data": {
      "text/plain": [
       "(1471, 15)"
      ]
     },
     "execution_count": 87,
     "metadata": {},
     "output_type": "execute_result"
    }
   ],
   "source": [
    "# df_dump.shape"
   ]
  },
  {
   "cell_type": "code",
   "execution_count": 112,
   "metadata": {},
   "outputs": [],
   "source": [
    "params = {'taxonomy':'Severe acute respiratory syndrome coronavirus 2 (2019-nCoV)', 'protein': 'Recombinant Spike glycoprotein (HEK293) - DRAFT DATA'}\n",
    "\n",
    "# Severe acute respiratory syndrome coronavirus2  (2019-nCoV)&protein=Recombinant Spike glycoprotein (HEK293)\n",
    "response = requests.get(url ,params=params)"
   ]
  },
  {
   "cell_type": "code",
   "execution_count": 113,
   "metadata": {},
   "outputs": [],
   "source": [
    "my_response = response.json()"
   ]
  },
  {
   "cell_type": "code",
   "execution_count": 116,
   "metadata": {},
   "outputs": [],
   "source": [
    "df_dump = pd.DataFrame()\n",
    "for r in range(len(my_response['results'])):\n",
    "    df_results_uniprots = pd.DataFrame(my_response['results'][r]['protein']['uniprots'],index=[r])\n",
    "    df_results_site = pd.DataFrame(my_response['results'][r]['site'],index=[r])\n",
    "    df_results_composition = pd.DataFrame(my_response['results'][r][\"composition\"],index=[r])\n",
    "    df_temp = pd.concat([df_results_composition,df_results_site, df_results_uniprots], sort=False, axis=1)\n",
    "    df_dump = pd.concat([df_dump,df_temp],sort=True,axis=0)"
   ]
  },
  {
   "cell_type": "code",
   "execution_count": 115,
   "metadata": {},
   "outputs": [],
   "source": []
  },
  {
   "cell_type": "code",
   "execution_count": 117,
   "metadata": {},
   "outputs": [
    {
     "data": {
      "text/html": [
       "<div>\n",
       "<style scoped>\n",
       "    .dataframe tbody tr th:only-of-type {\n",
       "        vertical-align: middle;\n",
       "    }\n",
       "\n",
       "    .dataframe tbody tr th {\n",
       "        vertical-align: top;\n",
       "    }\n",
       "\n",
       "    .dataframe thead th {\n",
       "        text-align: right;\n",
       "    }\n",
       "</style>\n",
       "<table border=\"1\" class=\"dataframe\">\n",
       "  <thead>\n",
       "    <tr style=\"text-align: right;\">\n",
       "      <th></th>\n",
       "      <th>byonic</th>\n",
       "      <th>character</th>\n",
       "      <th>glyco_site</th>\n",
       "      <th>glytoucan_id</th>\n",
       "      <th>id</th>\n",
       "      <th>location</th>\n",
       "      <th>mass</th>\n",
       "      <th>mass_monoisotopic</th>\n",
       "      <th>numeric</th>\n",
       "      <th>reviewed</th>\n",
       "      <th>string</th>\n",
       "      <th>uniprot_acc</th>\n",
       "      <th>uniprot_id</th>\n",
       "    </tr>\n",
       "  </thead>\n",
       "  <tbody>\n",
       "    <tr>\n",
       "      <td>1394</td>\n",
       "      <td>HexNAc(7)Hex(6)dHex(1)NeuAc(4)</td>\n",
       "      <td>H6N7F1S4</td>\n",
       "      <td>Asn-657</td>\n",
       "      <td>G37570AP</td>\n",
       "      <td>554</td>\n",
       "      <td>657</td>\n",
       "      <td>3724.4093</td>\n",
       "      <td>3722.3227</td>\n",
       "      <td>6,7,1,4,0,0,0,0,0,0,0,0,0,0</td>\n",
       "      <td>True</td>\n",
       "      <td>Hex:6 HexNAc:7 dHex:1 NeuAc:4</td>\n",
       "      <td>P0DTC2</td>\n",
       "      <td>SPIKE_SARS2</td>\n",
       "    </tr>\n",
       "    <tr>\n",
       "      <td>1395</td>\n",
       "      <td>HexNAc(8)Hex(9)</td>\n",
       "      <td>H9N8</td>\n",
       "      <td>Asn-282</td>\n",
       "      <td>G19972YZ</td>\n",
       "      <td>580</td>\n",
       "      <td>282</td>\n",
       "      <td>3102.8569</td>\n",
       "      <td>3101.1210</td>\n",
       "      <td>9,8,0,0,0,0,0,0,0,0,0,0,0,0</td>\n",
       "      <td>True</td>\n",
       "      <td>Hex:9 HexNAc:8</td>\n",
       "      <td>P0DTC2</td>\n",
       "      <td>SPIKE_SARS2</td>\n",
       "    </tr>\n",
       "    <tr>\n",
       "      <td>1396</td>\n",
       "      <td>HexNAc(8)Hex(9)</td>\n",
       "      <td>H9N8</td>\n",
       "      <td>Asn-282</td>\n",
       "      <td>G19972YZ</td>\n",
       "      <td>580</td>\n",
       "      <td>282</td>\n",
       "      <td>3102.8569</td>\n",
       "      <td>3101.1210</td>\n",
       "      <td>9,8,0,0,0,0,0,0,0,0,0,0,0,0</td>\n",
       "      <td>True</td>\n",
       "      <td>Hex:9 HexNAc:8</td>\n",
       "      <td>P0DTC2</td>\n",
       "      <td>SPIKE_SARS2</td>\n",
       "    </tr>\n",
       "    <tr>\n",
       "      <td>1397</td>\n",
       "      <td>HexNAc(8)Hex(9)</td>\n",
       "      <td>H9N8</td>\n",
       "      <td>Asn-331</td>\n",
       "      <td>G19972YZ</td>\n",
       "      <td>580</td>\n",
       "      <td>331</td>\n",
       "      <td>3102.8569</td>\n",
       "      <td>3101.1210</td>\n",
       "      <td>9,8,0,0,0,0,0,0,0,0,0,0,0,0</td>\n",
       "      <td>True</td>\n",
       "      <td>Hex:9 HexNAc:8</td>\n",
       "      <td>P0DTC2</td>\n",
       "      <td>SPIKE_SARS2</td>\n",
       "    </tr>\n",
       "    <tr>\n",
       "      <td>1398</td>\n",
       "      <td>HexNAc(8)Hex(9)</td>\n",
       "      <td>H9N8</td>\n",
       "      <td>Asn-657</td>\n",
       "      <td>G19972YZ</td>\n",
       "      <td>580</td>\n",
       "      <td>657</td>\n",
       "      <td>3102.8569</td>\n",
       "      <td>3101.1210</td>\n",
       "      <td>9,8,0,0,0,0,0,0,0,0,0,0,0,0</td>\n",
       "      <td>True</td>\n",
       "      <td>Hex:9 HexNAc:8</td>\n",
       "      <td>P0DTC2</td>\n",
       "      <td>SPIKE_SARS2</td>\n",
       "    </tr>\n",
       "  </tbody>\n",
       "</table>\n",
       "</div>"
      ],
      "text/plain": [
       "                              byonic character glyco_site glytoucan_id   id  \\\n",
       "1394  HexNAc(7)Hex(6)dHex(1)NeuAc(4)  H6N7F1S4    Asn-657     G37570AP  554   \n",
       "1395                 HexNAc(8)Hex(9)      H9N8    Asn-282     G19972YZ  580   \n",
       "1396                 HexNAc(8)Hex(9)      H9N8    Asn-282     G19972YZ  580   \n",
       "1397                 HexNAc(8)Hex(9)      H9N8    Asn-331     G19972YZ  580   \n",
       "1398                 HexNAc(8)Hex(9)      H9N8    Asn-657     G19972YZ  580   \n",
       "\n",
       "      location       mass  mass_monoisotopic                      numeric  \\\n",
       "1394       657  3724.4093          3722.3227  6,7,1,4,0,0,0,0,0,0,0,0,0,0   \n",
       "1395       282  3102.8569          3101.1210  9,8,0,0,0,0,0,0,0,0,0,0,0,0   \n",
       "1396       282  3102.8569          3101.1210  9,8,0,0,0,0,0,0,0,0,0,0,0,0   \n",
       "1397       331  3102.8569          3101.1210  9,8,0,0,0,0,0,0,0,0,0,0,0,0   \n",
       "1398       657  3102.8569          3101.1210  9,8,0,0,0,0,0,0,0,0,0,0,0,0   \n",
       "\n",
       "      reviewed                         string uniprot_acc   uniprot_id  \n",
       "1394      True  Hex:6 HexNAc:7 dHex:1 NeuAc:4      P0DTC2  SPIKE_SARS2  \n",
       "1395      True                 Hex:9 HexNAc:8      P0DTC2  SPIKE_SARS2  \n",
       "1396      True                 Hex:9 HexNAc:8      P0DTC2  SPIKE_SARS2  \n",
       "1397      True                 Hex:9 HexNAc:8      P0DTC2  SPIKE_SARS2  \n",
       "1398      True                 Hex:9 HexNAc:8      P0DTC2  SPIKE_SARS2  "
      ]
     },
     "execution_count": 117,
     "metadata": {},
     "output_type": "execute_result"
    }
   ],
   "source": [
    "df_dump.tail()"
   ]
  },
  {
   "cell_type": "code",
   "execution_count": 119,
   "metadata": {},
   "outputs": [],
   "source": [
    "\n",
    "params = {'taxonomy':'Severe acute respiratory syndrome coronavirus 2 (2019-nCoV)', 'protein': \"Recombinant Spike glycoprotein (BTI-Tn-5B1-4) - DRAFT DATA\"}\n",
    "\n",
    "# Severe acute respiratory syndrome coronavirus2  (2019-nCoV)&protein=Recombinant Spike glycoprotein (HEK293)\n",
    "response = requests.get(url ,params=params)\n",
    "my_response = response.json()"
   ]
  },
  {
   "cell_type": "code",
   "execution_count": 120,
   "metadata": {},
   "outputs": [
    {
     "data": {
      "text/html": [
       "<div>\n",
       "<style scoped>\n",
       "    .dataframe tbody tr th:only-of-type {\n",
       "        vertical-align: middle;\n",
       "    }\n",
       "\n",
       "    .dataframe tbody tr th {\n",
       "        vertical-align: top;\n",
       "    }\n",
       "\n",
       "    .dataframe thead th {\n",
       "        text-align: right;\n",
       "    }\n",
       "</style>\n",
       "<table border=\"1\" class=\"dataframe\">\n",
       "  <thead>\n",
       "    <tr style=\"text-align: right;\">\n",
       "      <th></th>\n",
       "      <th>byonic</th>\n",
       "      <th>character</th>\n",
       "      <th>glyco_site</th>\n",
       "      <th>glytoucan_id</th>\n",
       "      <th>id</th>\n",
       "      <th>location</th>\n",
       "      <th>mass</th>\n",
       "      <th>mass_monoisotopic</th>\n",
       "      <th>numeric</th>\n",
       "      <th>reviewed</th>\n",
       "      <th>string</th>\n",
       "      <th>uniprot_acc</th>\n",
       "      <th>uniprot_id</th>\n",
       "    </tr>\n",
       "  </thead>\n",
       "  <tbody>\n",
       "    <tr>\n",
       "      <td>1114</td>\n",
       "      <td>HexNAc(2)Hex(1)dHex(2)</td>\n",
       "      <td>H1N2F2</td>\n",
       "      <td>Asn-165</td>\n",
       "      <td>NaN</td>\n",
       "      <td>702</td>\n",
       "      <td>165</td>\n",
       "      <td>878.8337</td>\n",
       "      <td>878.338</td>\n",
       "      <td>1,2,2,0,0,0,0,0,0,0,0,0,0,0</td>\n",
       "      <td>True</td>\n",
       "      <td>Hex:1 HexNAc:2 dHex:2</td>\n",
       "      <td>P0DTC2</td>\n",
       "      <td>SPIKE_SARS2</td>\n",
       "    </tr>\n",
       "    <tr>\n",
       "      <td>1115</td>\n",
       "      <td>HexNAc(2)Hex(1)dHex(2)</td>\n",
       "      <td>H1N2F2</td>\n",
       "      <td>Asn-1159</td>\n",
       "      <td>NaN</td>\n",
       "      <td>702</td>\n",
       "      <td>1159</td>\n",
       "      <td>878.8337</td>\n",
       "      <td>878.338</td>\n",
       "      <td>1,2,2,0,0,0,0,0,0,0,0,0,0,0</td>\n",
       "      <td>True</td>\n",
       "      <td>Hex:1 HexNAc:2 dHex:2</td>\n",
       "      <td>P0DTC2</td>\n",
       "      <td>SPIKE_SARS2</td>\n",
       "    </tr>\n",
       "    <tr>\n",
       "      <td>1116</td>\n",
       "      <td>HexNAc(2)Hex(1)dHex(2)</td>\n",
       "      <td>H1N2F2</td>\n",
       "      <td>Asn-61</td>\n",
       "      <td>NaN</td>\n",
       "      <td>702</td>\n",
       "      <td>61</td>\n",
       "      <td>878.8337</td>\n",
       "      <td>878.338</td>\n",
       "      <td>1,2,2,0,0,0,0,0,0,0,0,0,0,0</td>\n",
       "      <td>True</td>\n",
       "      <td>Hex:1 HexNAc:2 dHex:2</td>\n",
       "      <td>P0DTC2</td>\n",
       "      <td>SPIKE_SARS2</td>\n",
       "    </tr>\n",
       "    <tr>\n",
       "      <td>1117</td>\n",
       "      <td>HexNAc(2)Hex(1)dHex(2)</td>\n",
       "      <td>H1N2F2</td>\n",
       "      <td>Asn-1074</td>\n",
       "      <td>NaN</td>\n",
       "      <td>702</td>\n",
       "      <td>1074</td>\n",
       "      <td>878.8337</td>\n",
       "      <td>878.338</td>\n",
       "      <td>1,2,2,0,0,0,0,0,0,0,0,0,0,0</td>\n",
       "      <td>True</td>\n",
       "      <td>Hex:1 HexNAc:2 dHex:2</td>\n",
       "      <td>P0DTC2</td>\n",
       "      <td>SPIKE_SARS2</td>\n",
       "    </tr>\n",
       "    <tr>\n",
       "      <td>1118</td>\n",
       "      <td>HexNAc(2)Hex(1)dHex(2)</td>\n",
       "      <td>H1N2F2</td>\n",
       "      <td>Asn-1174</td>\n",
       "      <td>NaN</td>\n",
       "      <td>702</td>\n",
       "      <td>1174</td>\n",
       "      <td>878.8337</td>\n",
       "      <td>878.338</td>\n",
       "      <td>1,2,2,0,0,0,0,0,0,0,0,0,0,0</td>\n",
       "      <td>True</td>\n",
       "      <td>Hex:1 HexNAc:2 dHex:2</td>\n",
       "      <td>P0DTC2</td>\n",
       "      <td>SPIKE_SARS2</td>\n",
       "    </tr>\n",
       "  </tbody>\n",
       "</table>\n",
       "</div>"
      ],
      "text/plain": [
       "                      byonic character glyco_site glytoucan_id   id  location  \\\n",
       "1114  HexNAc(2)Hex(1)dHex(2)    H1N2F2    Asn-165          NaN  702       165   \n",
       "1115  HexNAc(2)Hex(1)dHex(2)    H1N2F2   Asn-1159          NaN  702      1159   \n",
       "1116  HexNAc(2)Hex(1)dHex(2)    H1N2F2     Asn-61          NaN  702        61   \n",
       "1117  HexNAc(2)Hex(1)dHex(2)    H1N2F2   Asn-1074          NaN  702      1074   \n",
       "1118  HexNAc(2)Hex(1)dHex(2)    H1N2F2   Asn-1174          NaN  702      1174   \n",
       "\n",
       "          mass  mass_monoisotopic                      numeric  reviewed  \\\n",
       "1114  878.8337            878.338  1,2,2,0,0,0,0,0,0,0,0,0,0,0      True   \n",
       "1115  878.8337            878.338  1,2,2,0,0,0,0,0,0,0,0,0,0,0      True   \n",
       "1116  878.8337            878.338  1,2,2,0,0,0,0,0,0,0,0,0,0,0      True   \n",
       "1117  878.8337            878.338  1,2,2,0,0,0,0,0,0,0,0,0,0,0      True   \n",
       "1118  878.8337            878.338  1,2,2,0,0,0,0,0,0,0,0,0,0,0      True   \n",
       "\n",
       "                     string uniprot_acc   uniprot_id  \n",
       "1114  Hex:1 HexNAc:2 dHex:2      P0DTC2  SPIKE_SARS2  \n",
       "1115  Hex:1 HexNAc:2 dHex:2      P0DTC2  SPIKE_SARS2  \n",
       "1116  Hex:1 HexNAc:2 dHex:2      P0DTC2  SPIKE_SARS2  \n",
       "1117  Hex:1 HexNAc:2 dHex:2      P0DTC2  SPIKE_SARS2  \n",
       "1118  Hex:1 HexNAc:2 dHex:2      P0DTC2  SPIKE_SARS2  "
      ]
     },
     "execution_count": 120,
     "metadata": {},
     "output_type": "execute_result"
    }
   ],
   "source": [
    "df_dump = pd.DataFrame()\n",
    "for r in range(len(my_response['results'])):\n",
    "    df_results_uniprots = pd.DataFrame(my_response['results'][r]['protein']['uniprots'],index=[r])\n",
    "    df_results_site = pd.DataFrame(my_response['results'][r]['site'],index=[r])\n",
    "    df_results_composition = pd.DataFrame(my_response['results'][r][\"composition\"],index=[r])\n",
    "    df_temp = pd.concat([df_results_composition,df_results_site, df_results_uniprots], sort=False, axis=1)\n",
    "    df_dump = pd.concat([df_dump,df_temp],sort=True,axis=0)\n",
    "df_dump.tail()"
   ]
  },
  {
   "cell_type": "code",
   "execution_count": 126,
   "metadata": {},
   "outputs": [
    {
     "data": {
      "text/plain": [
       "array(['Asn-657', 'Asn-717', 'Asn-1098', 'Asn-1159', 'Asn-343', 'Asn-331',\n",
       "       'Asn-61', 'Asn-1174', 'Asn-709', 'Asn-1074', 'Asn-74', 'Asn-1194',\n",
       "       'Asn-801', 'Asn-149', 'Asn-282', 'Asn-122', 'Asn-165', 'Asn-234',\n",
       "       'Asn-615', 'Asn-602'], dtype=object)"
      ]
     },
     "execution_count": 126,
     "metadata": {},
     "output_type": "execute_result"
    }
   ],
   "source": [
    "df_dump.glyco_site.unique()"
   ]
  },
  {
   "cell_type": "code",
   "execution_count": 128,
   "metadata": {},
   "outputs": [
    {
     "data": {
      "text/plain": [
       "array([ 657,  717, 1098, 1159,  343,  331,   61, 1174,  709, 1074,   74,\n",
       "       1194,  801,  149,  282,  122,  165,  234,  615,  602])"
      ]
     },
     "execution_count": 128,
     "metadata": {},
     "output_type": "execute_result"
    }
   ],
   "source": [
    "df_dump.location.unique()"
   ]
  },
  {
   "cell_type": "code",
   "execution_count": 129,
   "metadata": {},
   "outputs": [],
   "source": [
    "df_dump.drop_duplicates(inplace=True)"
   ]
  },
  {
   "cell_type": "code",
   "execution_count": 130,
   "metadata": {},
   "outputs": [
    {
     "data": {
      "text/plain": [
       "(486, 13)"
      ]
     },
     "execution_count": 130,
     "metadata": {},
     "output_type": "execute_result"
    }
   ],
   "source": [
    "df_dump.shape"
   ]
  },
  {
   "cell_type": "code",
   "execution_count": 131,
   "metadata": {},
   "outputs": [
    {
     "data": {
      "text/html": [
       "<div>\n",
       "<style scoped>\n",
       "    .dataframe tbody tr th:only-of-type {\n",
       "        vertical-align: middle;\n",
       "    }\n",
       "\n",
       "    .dataframe tbody tr th {\n",
       "        vertical-align: top;\n",
       "    }\n",
       "\n",
       "    .dataframe thead th {\n",
       "        text-align: right;\n",
       "    }\n",
       "</style>\n",
       "<table border=\"1\" class=\"dataframe\">\n",
       "  <thead>\n",
       "    <tr style=\"text-align: right;\">\n",
       "      <th></th>\n",
       "      <th>byonic</th>\n",
       "      <th>character</th>\n",
       "      <th>glyco_site</th>\n",
       "      <th>glytoucan_id</th>\n",
       "      <th>id</th>\n",
       "      <th>location</th>\n",
       "      <th>mass</th>\n",
       "      <th>mass_monoisotopic</th>\n",
       "      <th>numeric</th>\n",
       "      <th>reviewed</th>\n",
       "      <th>string</th>\n",
       "      <th>uniprot_acc</th>\n",
       "      <th>uniprot_id</th>\n",
       "    </tr>\n",
       "  </thead>\n",
       "  <tbody>\n",
       "    <tr>\n",
       "      <td>0</td>\n",
       "      <td>HexNAc(2)Hex(5)dHex(1)</td>\n",
       "      <td>H5N2F1</td>\n",
       "      <td>Asn-657</td>\n",
       "      <td>G25637MV</td>\n",
       "      <td>773</td>\n",
       "      <td>657</td>\n",
       "      <td>1381.2603</td>\n",
       "      <td>1380.4913</td>\n",
       "      <td>5,2,1,0,0,0,0,0,0,0,0,0,0,0</td>\n",
       "      <td>True</td>\n",
       "      <td>Hex:5 HexNAc:2 dHex:1</td>\n",
       "      <td>P0DTC2</td>\n",
       "      <td>SPIKE_SARS2</td>\n",
       "    </tr>\n",
       "    <tr>\n",
       "      <td>1</td>\n",
       "      <td>HexNAc(2)Hex(5)dHex(1)</td>\n",
       "      <td>H5N2F1</td>\n",
       "      <td>Asn-717</td>\n",
       "      <td>G25637MV</td>\n",
       "      <td>773</td>\n",
       "      <td>717</td>\n",
       "      <td>1381.2603</td>\n",
       "      <td>1380.4913</td>\n",
       "      <td>5,2,1,0,0,0,0,0,0,0,0,0,0,0</td>\n",
       "      <td>True</td>\n",
       "      <td>Hex:5 HexNAc:2 dHex:1</td>\n",
       "      <td>P0DTC2</td>\n",
       "      <td>SPIKE_SARS2</td>\n",
       "    </tr>\n",
       "    <tr>\n",
       "      <td>3</td>\n",
       "      <td>HexNAc(2)Hex(5)dHex(1)</td>\n",
       "      <td>H5N2F1</td>\n",
       "      <td>Asn-1098</td>\n",
       "      <td>G25637MV</td>\n",
       "      <td>773</td>\n",
       "      <td>1098</td>\n",
       "      <td>1381.2603</td>\n",
       "      <td>1380.4913</td>\n",
       "      <td>5,2,1,0,0,0,0,0,0,0,0,0,0,0</td>\n",
       "      <td>True</td>\n",
       "      <td>Hex:5 HexNAc:2 dHex:1</td>\n",
       "      <td>P0DTC2</td>\n",
       "      <td>SPIKE_SARS2</td>\n",
       "    </tr>\n",
       "    <tr>\n",
       "      <td>4</td>\n",
       "      <td>HexNAc(2)Hex(5)dHex(1)</td>\n",
       "      <td>H5N2F1</td>\n",
       "      <td>Asn-1159</td>\n",
       "      <td>G25637MV</td>\n",
       "      <td>773</td>\n",
       "      <td>1159</td>\n",
       "      <td>1381.2603</td>\n",
       "      <td>1380.4913</td>\n",
       "      <td>5,2,1,0,0,0,0,0,0,0,0,0,0,0</td>\n",
       "      <td>True</td>\n",
       "      <td>Hex:5 HexNAc:2 dHex:1</td>\n",
       "      <td>P0DTC2</td>\n",
       "      <td>SPIKE_SARS2</td>\n",
       "    </tr>\n",
       "    <tr>\n",
       "      <td>5</td>\n",
       "      <td>HexNAc(2)Hex(5)dHex(1)</td>\n",
       "      <td>H5N2F1</td>\n",
       "      <td>Asn-343</td>\n",
       "      <td>G25637MV</td>\n",
       "      <td>773</td>\n",
       "      <td>343</td>\n",
       "      <td>1381.2603</td>\n",
       "      <td>1380.4913</td>\n",
       "      <td>5,2,1,0,0,0,0,0,0,0,0,0,0,0</td>\n",
       "      <td>True</td>\n",
       "      <td>Hex:5 HexNAc:2 dHex:1</td>\n",
       "      <td>P0DTC2</td>\n",
       "      <td>SPIKE_SARS2</td>\n",
       "    </tr>\n",
       "  </tbody>\n",
       "</table>\n",
       "</div>"
      ],
      "text/plain": [
       "                   byonic character glyco_site glytoucan_id   id  location  \\\n",
       "0  HexNAc(2)Hex(5)dHex(1)    H5N2F1    Asn-657     G25637MV  773       657   \n",
       "1  HexNAc(2)Hex(5)dHex(1)    H5N2F1    Asn-717     G25637MV  773       717   \n",
       "3  HexNAc(2)Hex(5)dHex(1)    H5N2F1   Asn-1098     G25637MV  773      1098   \n",
       "4  HexNAc(2)Hex(5)dHex(1)    H5N2F1   Asn-1159     G25637MV  773      1159   \n",
       "5  HexNAc(2)Hex(5)dHex(1)    H5N2F1    Asn-343     G25637MV  773       343   \n",
       "\n",
       "        mass  mass_monoisotopic                      numeric  reviewed  \\\n",
       "0  1381.2603          1380.4913  5,2,1,0,0,0,0,0,0,0,0,0,0,0      True   \n",
       "1  1381.2603          1380.4913  5,2,1,0,0,0,0,0,0,0,0,0,0,0      True   \n",
       "3  1381.2603          1380.4913  5,2,1,0,0,0,0,0,0,0,0,0,0,0      True   \n",
       "4  1381.2603          1380.4913  5,2,1,0,0,0,0,0,0,0,0,0,0,0      True   \n",
       "5  1381.2603          1380.4913  5,2,1,0,0,0,0,0,0,0,0,0,0,0      True   \n",
       "\n",
       "                  string uniprot_acc   uniprot_id  \n",
       "0  Hex:5 HexNAc:2 dHex:1      P0DTC2  SPIKE_SARS2  \n",
       "1  Hex:5 HexNAc:2 dHex:1      P0DTC2  SPIKE_SARS2  \n",
       "3  Hex:5 HexNAc:2 dHex:1      P0DTC2  SPIKE_SARS2  \n",
       "4  Hex:5 HexNAc:2 dHex:1      P0DTC2  SPIKE_SARS2  \n",
       "5  Hex:5 HexNAc:2 dHex:1      P0DTC2  SPIKE_SARS2  "
      ]
     },
     "execution_count": 131,
     "metadata": {},
     "output_type": "execute_result"
    }
   ],
   "source": [
    "df_dump.head()"
   ]
  },
  {
   "cell_type": "code",
   "execution_count": 132,
   "metadata": {},
   "outputs": [
    {
     "data": {
      "text/plain": [
       "array(['H5N2F1', 'H7N6F4S2', 'H3N2F1', 'H9N2', 'H4N2F1', 'H8N2', 'H5N3F1',\n",
       "       'H5N2', 'H3N3', 'H3N4', 'H3N3F1', 'H6N2', 'H3N2', 'H7N2', 'H4N3F1',\n",
       "       'H3N4F1', 'H4N3', 'H3N3F2', 'H5N3', 'H5N3F2', 'H4N3F2', 'H4N2',\n",
       "       'H10N2', 'H2N2', 'H2N2F1', 'H1N2F1', 'H11N2', 'N2F1', 'N1', 'H1N2',\n",
       "       'N2', 'N1F1', 'H3N2F2', 'H4N2F2', 'H2N2F2', 'N1F2', 'N2F2',\n",
       "       'H1N2F2'], dtype=object)"
      ]
     },
     "execution_count": 132,
     "metadata": {},
     "output_type": "execute_result"
    }
   ],
   "source": [
    "df_dump.character.unique()"
   ]
  },
  {
   "cell_type": "code",
   "execution_count": null,
   "metadata": {},
   "outputs": [],
   "source": []
  }
 ],
 "metadata": {
  "kernelspec": {
   "display_name": "Python 3",
   "language": "python",
   "name": "python3"
  },
  "language_info": {
   "codemirror_mode": {
    "name": "ipython",
    "version": 3
   },
   "file_extension": ".py",
   "mimetype": "text/x-python",
   "name": "python",
   "nbconvert_exporter": "python",
   "pygments_lexer": "ipython3",
   "version": "3.7.6"
  }
 },
 "nbformat": 4,
 "nbformat_minor": 4
}
