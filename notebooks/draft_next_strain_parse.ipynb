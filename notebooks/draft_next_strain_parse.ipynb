{
 "cells": [
  {
   "cell_type": "code",
   "execution_count": 1,
   "metadata": {},
   "outputs": [],
   "source": [
    "import requests\n",
    "import json\n",
    "import pandas as pd\n",
    "url = \"http://data.nextstrain.org/ncov.json\""
   ]
  },
  {
   "cell_type": "code",
   "execution_count": 2,
   "metadata": {},
   "outputs": [],
   "source": [
    "params = {}\n",
    "response = requests.get(url )"
   ]
  },
  {
   "cell_type": "code",
   "execution_count": 3,
   "metadata": {},
   "outputs": [
    {
     "data": {
      "text/plain": [
       "dict"
      ]
     },
     "execution_count": 3,
     "metadata": {},
     "output_type": "execute_result"
    }
   ],
   "source": [
    "type(response.json())\n"
   ]
  },
  {
   "cell_type": "code",
   "execution_count": 4,
   "metadata": {},
   "outputs": [],
   "source": [
    "# def jprint(obj):\n",
    "#     # create a formatted string of the Python JSON object\n",
    "#     text = json.dumps(obj, sort_keys=True, indent=4)\n",
    "#     return(text)\n",
    "\n",
    "# jprint(response.json())"
   ]
  },
  {
   "cell_type": "code",
   "execution_count": 6,
   "metadata": {},
   "outputs": [],
   "source": [
    "json_str = json.dumps(response.json()[\"tree\"])"
   ]
  },
  {
   "cell_type": "code",
   "execution_count": 16,
   "metadata": {},
   "outputs": [],
   "source": [
    "# data = json.load(response.json()[\"meta\"])\n",
    "data = response.text\n",
    "# convert 'str' to Json\n",
    "data = json.loads(data)"
   ]
  },
  {
   "cell_type": "code",
   "execution_count": 21,
   "metadata": {},
   "outputs": [
    {
     "data": {
      "text/plain": [
       "dict_keys(['meta', 'tree', 'version'])"
      ]
     },
     "execution_count": 21,
     "metadata": {},
     "output_type": "execute_result"
    }
   ],
   "source": [
    "data.keys()"
   ]
  },
  {
   "cell_type": "code",
   "execution_count": 10,
   "metadata": {},
   "outputs": [
    {
     "data": {
      "text/plain": [
       "'{\"branch_attrs\": {\"mutations\": {}}, \"children\": [{'"
      ]
     },
     "execution_count": 10,
     "metadata": {},
     "output_type": "execute_result"
    }
   ],
   "source": [
    "json_str[0:50]"
   ]
  },
  {
   "cell_type": "code",
   "execution_count": null,
   "metadata": {},
   "outputs": [],
   "source": []
  },
  {
   "cell_type": "code",
   "execution_count": 22,
   "metadata": {},
   "outputs": [
    {
     "ename": "ValueError",
     "evalue": "Invalid file path or buffer object type: <class 'dict'>",
     "output_type": "error",
     "traceback": [
      "\u001b[0;31m---------------------------------------------------------------------------\u001b[0m",
      "\u001b[0;31mValueError\u001b[0m                                Traceback (most recent call last)",
      "\u001b[0;32m<ipython-input-22-632f05cd1dea>\u001b[0m in \u001b[0;36m<module>\u001b[0;34m\u001b[0m\n\u001b[0;32m----> 1\u001b[0;31m \u001b[0mpd\u001b[0m\u001b[0;34m.\u001b[0m\u001b[0mread_json\u001b[0m\u001b[0;34m(\u001b[0m\u001b[0mdata\u001b[0m\u001b[0;34m[\u001b[0m\u001b[0;34m\"tree\"\u001b[0m\u001b[0;34m]\u001b[0m\u001b[0;34m)\u001b[0m\u001b[0;34m\u001b[0m\u001b[0;34m\u001b[0m\u001b[0m\n\u001b[0m",
      "\u001b[0;32m~/anaconda2/envs/scrappingweb/lib/python3.7/site-packages/pandas/io/json/_json.py\u001b[0m in \u001b[0;36mread_json\u001b[0;34m(path_or_buf, orient, typ, dtype, convert_axes, convert_dates, keep_default_dates, numpy, precise_float, date_unit, encoding, lines, chunksize, compression)\u001b[0m\n\u001b[1;32m    567\u001b[0m     \u001b[0mcompression\u001b[0m \u001b[0;34m=\u001b[0m \u001b[0m_infer_compression\u001b[0m\u001b[0;34m(\u001b[0m\u001b[0mpath_or_buf\u001b[0m\u001b[0;34m,\u001b[0m \u001b[0mcompression\u001b[0m\u001b[0;34m)\u001b[0m\u001b[0;34m\u001b[0m\u001b[0;34m\u001b[0m\u001b[0m\n\u001b[1;32m    568\u001b[0m     filepath_or_buffer, _, compression, should_close = get_filepath_or_buffer(\n\u001b[0;32m--> 569\u001b[0;31m         \u001b[0mpath_or_buf\u001b[0m\u001b[0;34m,\u001b[0m \u001b[0mencoding\u001b[0m\u001b[0;34m=\u001b[0m\u001b[0mencoding\u001b[0m\u001b[0;34m,\u001b[0m \u001b[0mcompression\u001b[0m\u001b[0;34m=\u001b[0m\u001b[0mcompression\u001b[0m\u001b[0;34m\u001b[0m\u001b[0;34m\u001b[0m\u001b[0m\n\u001b[0m\u001b[1;32m    570\u001b[0m     )\n\u001b[1;32m    571\u001b[0m \u001b[0;34m\u001b[0m\u001b[0m\n",
      "\u001b[0;32m~/anaconda2/envs/scrappingweb/lib/python3.7/site-packages/pandas/io/common.py\u001b[0m in \u001b[0;36mget_filepath_or_buffer\u001b[0;34m(filepath_or_buffer, encoding, compression, mode)\u001b[0m\n\u001b[1;32m    222\u001b[0m     \u001b[0;32mif\u001b[0m \u001b[0;32mnot\u001b[0m \u001b[0mis_file_like\u001b[0m\u001b[0;34m(\u001b[0m\u001b[0mfilepath_or_buffer\u001b[0m\u001b[0;34m)\u001b[0m\u001b[0;34m:\u001b[0m\u001b[0;34m\u001b[0m\u001b[0;34m\u001b[0m\u001b[0m\n\u001b[1;32m    223\u001b[0m         \u001b[0mmsg\u001b[0m \u001b[0;34m=\u001b[0m \u001b[0;34m\"Invalid file path or buffer object type: {_type}\"\u001b[0m\u001b[0;34m\u001b[0m\u001b[0;34m\u001b[0m\u001b[0m\n\u001b[0;32m--> 224\u001b[0;31m         \u001b[0;32mraise\u001b[0m \u001b[0mValueError\u001b[0m\u001b[0;34m(\u001b[0m\u001b[0mmsg\u001b[0m\u001b[0;34m.\u001b[0m\u001b[0mformat\u001b[0m\u001b[0;34m(\u001b[0m\u001b[0m_type\u001b[0m\u001b[0;34m=\u001b[0m\u001b[0mtype\u001b[0m\u001b[0;34m(\u001b[0m\u001b[0mfilepath_or_buffer\u001b[0m\u001b[0;34m)\u001b[0m\u001b[0;34m)\u001b[0m\u001b[0;34m)\u001b[0m\u001b[0;34m\u001b[0m\u001b[0;34m\u001b[0m\u001b[0m\n\u001b[0m\u001b[1;32m    225\u001b[0m \u001b[0;34m\u001b[0m\u001b[0m\n\u001b[1;32m    226\u001b[0m     \u001b[0;32mreturn\u001b[0m \u001b[0mfilepath_or_buffer\u001b[0m\u001b[0;34m,\u001b[0m \u001b[0;32mNone\u001b[0m\u001b[0;34m,\u001b[0m \u001b[0mcompression\u001b[0m\u001b[0;34m,\u001b[0m \u001b[0;32mFalse\u001b[0m\u001b[0;34m\u001b[0m\u001b[0;34m\u001b[0m\u001b[0m\n",
      "\u001b[0;31mValueError\u001b[0m: Invalid file path or buffer object type: <class 'dict'>"
     ]
    }
   ],
   "source": [
    "pd.read_json(data[\"tree\"])"
   ]
  },
  {
   "cell_type": "code",
   "execution_count": 12,
   "metadata": {},
   "outputs": [],
   "source": [
    "my_response = response.json()"
   ]
  },
  {
   "cell_type": "code",
   "execution_count": 15,
   "metadata": {},
   "outputs": [
    {
     "data": {
      "text/plain": [
       "dict_keys(['meta', 'tree', 'version'])"
      ]
     },
     "execution_count": 15,
     "metadata": {},
     "output_type": "execute_result"
    }
   ],
   "source": [
    "my_response.keys()"
   ]
  },
  {
   "cell_type": "code",
   "execution_count": 18,
   "metadata": {},
   "outputs": [
    {
     "name": "stdout",
     "output_type": "stream",
     "text": [
      "meta dict_keys(['build_url', 'colorings', 'description', 'display_defaults', 'filters', 'genome_annotations', 'geo_resolutions', 'maintainers', 'panels', 'title', 'updated'])\n",
      "tree dict_keys(['branch_attrs', 'children', 'name', 'node_attrs'])\n"
     ]
    },
    {
     "ename": "AttributeError",
     "evalue": "'str' object has no attribute 'keys'",
     "output_type": "error",
     "traceback": [
      "\u001b[0;31m---------------------------------------------------------------------------\u001b[0m",
      "\u001b[0;31mAttributeError\u001b[0m                            Traceback (most recent call last)",
      "\u001b[0;32m<ipython-input-18-165629ea1d9d>\u001b[0m in \u001b[0;36m<module>\u001b[0;34m\u001b[0m\n\u001b[1;32m      1\u001b[0m \u001b[0;32mfor\u001b[0m \u001b[0mm\u001b[0m \u001b[0;32min\u001b[0m \u001b[0mmy_response\u001b[0m\u001b[0;34m.\u001b[0m\u001b[0mkeys\u001b[0m\u001b[0;34m(\u001b[0m\u001b[0;34m)\u001b[0m\u001b[0;34m:\u001b[0m\u001b[0;34m\u001b[0m\u001b[0;34m\u001b[0m\u001b[0m\n\u001b[0;32m----> 2\u001b[0;31m     \u001b[0mprint\u001b[0m \u001b[0;34m(\u001b[0m\u001b[0mm\u001b[0m\u001b[0;34m,\u001b[0m\u001b[0mmy_response\u001b[0m\u001b[0;34m[\u001b[0m\u001b[0mm\u001b[0m\u001b[0;34m]\u001b[0m\u001b[0;34m.\u001b[0m\u001b[0mkeys\u001b[0m\u001b[0;34m(\u001b[0m\u001b[0;34m)\u001b[0m\u001b[0;34m)\u001b[0m\u001b[0;34m\u001b[0m\u001b[0;34m\u001b[0m\u001b[0m\n\u001b[0m",
      "\u001b[0;31mAttributeError\u001b[0m: 'str' object has no attribute 'keys'"
     ]
    }
   ],
   "source": [
    "for m in my_response.keys():\n",
    "    print (m,my_response[m].keys())"
   ]
  },
  {
   "cell_type": "code",
   "execution_count": 28,
   "metadata": {},
   "outputs": [
    {
     "data": {
      "text/plain": [
       "dict"
      ]
     },
     "execution_count": 28,
     "metadata": {},
     "output_type": "execute_result"
    }
   ],
   "source": [
    "type(my_response[\"tree\"])"
   ]
  },
  {
   "cell_type": "code",
   "execution_count": 76,
   "metadata": {},
   "outputs": [
    {
     "data": {
      "text/plain": [
       "dict_keys(['E', 'M', 'N', 'ORF10', 'ORF14', 'ORF1a', 'ORF1b', 'ORF3a', 'ORF6', 'ORF7a', 'ORF7b', 'ORF8', 'ORF9b', 'S', 'nuc'])"
      ]
     },
     "execution_count": 76,
     "metadata": {},
     "output_type": "execute_result"
    }
   ],
   "source": [
    "my_response[\"meta\"][\"genome_annotations\"].keys()"
   ]
  },
  {
   "cell_type": "code",
   "execution_count": 25,
   "metadata": {},
   "outputs": [
    {
     "data": {
      "text/plain": [
       "{'E': {'end': 26472,\n",
       "  'seqid': 'config/reference.gb',\n",
       "  'start': 26245,\n",
       "  'strand': '+',\n",
       "  'type': 'CDS'},\n",
       " 'M': {'end': 27191,\n",
       "  'seqid': 'config/reference.gb',\n",
       "  'start': 26523,\n",
       "  'strand': '+',\n",
       "  'type': 'CDS'},\n",
       " 'N': {'end': 29533,\n",
       "  'seqid': 'config/reference.gb',\n",
       "  'start': 28274,\n",
       "  'strand': '+',\n",
       "  'type': 'CDS'},\n",
       " 'ORF10': {'end': 29674,\n",
       "  'seqid': 'config/reference.gb',\n",
       "  'start': 29558,\n",
       "  'strand': '+',\n",
       "  'type': 'CDS'},\n",
       " 'ORF14': {'end': 28955,\n",
       "  'seqid': 'config/reference.gb',\n",
       "  'start': 28734,\n",
       "  'strand': '+',\n",
       "  'type': 'CDS'},\n",
       " 'ORF1a': {'end': 13468,\n",
       "  'seqid': 'config/reference.gb',\n",
       "  'start': 266,\n",
       "  'strand': '+',\n",
       "  'type': 'CDS'},\n",
       " 'ORF1b': {'end': 21555,\n",
       "  'seqid': 'config/reference.gb',\n",
       "  'start': 13468,\n",
       "  'strand': '+',\n",
       "  'type': 'CDS'},\n",
       " 'ORF3a': {'end': 26220,\n",
       "  'seqid': 'config/reference.gb',\n",
       "  'start': 25393,\n",
       "  'strand': '+',\n",
       "  'type': 'CDS'},\n",
       " 'ORF6': {'end': 27387,\n",
       "  'seqid': 'config/reference.gb',\n",
       "  'start': 27202,\n",
       "  'strand': '+',\n",
       "  'type': 'CDS'},\n",
       " 'ORF7a': {'end': 27759,\n",
       "  'seqid': 'config/reference.gb',\n",
       "  'start': 27394,\n",
       "  'strand': '+',\n",
       "  'type': 'CDS'},\n",
       " 'ORF7b': {'end': 27887,\n",
       "  'seqid': 'config/reference.gb',\n",
       "  'start': 27756,\n",
       "  'strand': '+',\n",
       "  'type': 'CDS'},\n",
       " 'ORF8': {'end': 28259,\n",
       "  'seqid': 'config/reference.gb',\n",
       "  'start': 27894,\n",
       "  'strand': '+',\n",
       "  'type': 'CDS'},\n",
       " 'ORF9b': {'end': 28577,\n",
       "  'seqid': 'config/reference.gb',\n",
       "  'start': 28284,\n",
       "  'strand': '+',\n",
       "  'type': 'CDS'},\n",
       " 'S': {'end': 25384,\n",
       "  'seqid': 'config/reference.gb',\n",
       "  'start': 21563,\n",
       "  'strand': '+',\n",
       "  'type': 'CDS'},\n",
       " 'nuc': {'end': 29903,\n",
       "  'seqid': 'config/reference.gb',\n",
       "  'start': 1,\n",
       "  'strand': '+',\n",
       "  'type': 'source'}}"
      ]
     },
     "execution_count": 25,
     "metadata": {},
     "output_type": "execute_result"
    }
   ],
   "source": [
    "my_response[\"meta\"][\"genome_annotations\"]"
   ]
  },
  {
   "cell_type": "code",
   "execution_count": 26,
   "metadata": {},
   "outputs": [
    {
     "data": {
      "text/plain": [
       "dict_keys(['build_url', 'colorings', 'description', 'display_defaults', 'filters', 'genome_annotations', 'geo_resolutions', 'maintainers', 'panels', 'title', 'updated'])"
      ]
     },
     "execution_count": 26,
     "metadata": {},
     "output_type": "execute_result"
    }
   ],
   "source": [
    "my_response[\"meta\"].keys()"
   ]
  },
  {
   "cell_type": "code",
   "execution_count": 32,
   "metadata": {},
   "outputs": [
    {
     "ename": "ValueError",
     "evalue": "Mixing dicts with non-Series may lead to ambiguous ordering.",
     "output_type": "error",
     "traceback": [
      "\u001b[0;31m---------------------------------------------------------------------------\u001b[0m",
      "\u001b[0;31mValueError\u001b[0m                                Traceback (most recent call last)",
      "\u001b[0;32m<ipython-input-32-bcf976811d8f>\u001b[0m in \u001b[0;36m<module>\u001b[0;34m\u001b[0m\n\u001b[0;32m----> 1\u001b[0;31m \u001b[0mpd\u001b[0m\u001b[0;34m.\u001b[0m\u001b[0mDataFrame\u001b[0m\u001b[0;34m(\u001b[0m\u001b[0mmy_response\u001b[0m\u001b[0;34m[\u001b[0m\u001b[0;34m\"tree\"\u001b[0m\u001b[0;34m]\u001b[0m\u001b[0;34m)\u001b[0m\u001b[0;34m\u001b[0m\u001b[0;34m\u001b[0m\u001b[0m\n\u001b[0m",
      "\u001b[0;32m~/anaconda2/envs/scrappingweb/lib/python3.7/site-packages/pandas/core/frame.py\u001b[0m in \u001b[0;36m__init__\u001b[0;34m(self, data, index, columns, dtype, copy)\u001b[0m\n\u001b[1;32m    409\u001b[0m             )\n\u001b[1;32m    410\u001b[0m         \u001b[0;32melif\u001b[0m \u001b[0misinstance\u001b[0m\u001b[0;34m(\u001b[0m\u001b[0mdata\u001b[0m\u001b[0;34m,\u001b[0m \u001b[0mdict\u001b[0m\u001b[0;34m)\u001b[0m\u001b[0;34m:\u001b[0m\u001b[0;34m\u001b[0m\u001b[0;34m\u001b[0m\u001b[0m\n\u001b[0;32m--> 411\u001b[0;31m             \u001b[0mmgr\u001b[0m \u001b[0;34m=\u001b[0m \u001b[0minit_dict\u001b[0m\u001b[0;34m(\u001b[0m\u001b[0mdata\u001b[0m\u001b[0;34m,\u001b[0m \u001b[0mindex\u001b[0m\u001b[0;34m,\u001b[0m \u001b[0mcolumns\u001b[0m\u001b[0;34m,\u001b[0m \u001b[0mdtype\u001b[0m\u001b[0;34m=\u001b[0m\u001b[0mdtype\u001b[0m\u001b[0;34m)\u001b[0m\u001b[0;34m\u001b[0m\u001b[0;34m\u001b[0m\u001b[0m\n\u001b[0m\u001b[1;32m    412\u001b[0m         \u001b[0;32melif\u001b[0m \u001b[0misinstance\u001b[0m\u001b[0;34m(\u001b[0m\u001b[0mdata\u001b[0m\u001b[0;34m,\u001b[0m \u001b[0mma\u001b[0m\u001b[0;34m.\u001b[0m\u001b[0mMaskedArray\u001b[0m\u001b[0;34m)\u001b[0m\u001b[0;34m:\u001b[0m\u001b[0;34m\u001b[0m\u001b[0;34m\u001b[0m\u001b[0m\n\u001b[1;32m    413\u001b[0m             \u001b[0;32mimport\u001b[0m \u001b[0mnumpy\u001b[0m\u001b[0;34m.\u001b[0m\u001b[0mma\u001b[0m\u001b[0;34m.\u001b[0m\u001b[0mmrecords\u001b[0m \u001b[0;32mas\u001b[0m \u001b[0mmrecords\u001b[0m\u001b[0;34m\u001b[0m\u001b[0;34m\u001b[0m\u001b[0m\n",
      "\u001b[0;32m~/anaconda2/envs/scrappingweb/lib/python3.7/site-packages/pandas/core/internals/construction.py\u001b[0m in \u001b[0;36minit_dict\u001b[0;34m(data, index, columns, dtype)\u001b[0m\n\u001b[1;32m    255\u001b[0m             \u001b[0marr\u001b[0m \u001b[0;32mif\u001b[0m \u001b[0;32mnot\u001b[0m \u001b[0mis_datetime64tz_dtype\u001b[0m\u001b[0;34m(\u001b[0m\u001b[0marr\u001b[0m\u001b[0;34m)\u001b[0m \u001b[0;32melse\u001b[0m \u001b[0marr\u001b[0m\u001b[0;34m.\u001b[0m\u001b[0mcopy\u001b[0m\u001b[0;34m(\u001b[0m\u001b[0;34m)\u001b[0m \u001b[0;32mfor\u001b[0m \u001b[0marr\u001b[0m \u001b[0;32min\u001b[0m \u001b[0marrays\u001b[0m\u001b[0;34m\u001b[0m\u001b[0;34m\u001b[0m\u001b[0m\n\u001b[1;32m    256\u001b[0m         ]\n\u001b[0;32m--> 257\u001b[0;31m     \u001b[0;32mreturn\u001b[0m \u001b[0marrays_to_mgr\u001b[0m\u001b[0;34m(\u001b[0m\u001b[0marrays\u001b[0m\u001b[0;34m,\u001b[0m \u001b[0mdata_names\u001b[0m\u001b[0;34m,\u001b[0m \u001b[0mindex\u001b[0m\u001b[0;34m,\u001b[0m \u001b[0mcolumns\u001b[0m\u001b[0;34m,\u001b[0m \u001b[0mdtype\u001b[0m\u001b[0;34m=\u001b[0m\u001b[0mdtype\u001b[0m\u001b[0;34m)\u001b[0m\u001b[0;34m\u001b[0m\u001b[0;34m\u001b[0m\u001b[0m\n\u001b[0m\u001b[1;32m    258\u001b[0m \u001b[0;34m\u001b[0m\u001b[0m\n\u001b[1;32m    259\u001b[0m \u001b[0;34m\u001b[0m\u001b[0m\n",
      "\u001b[0;32m~/anaconda2/envs/scrappingweb/lib/python3.7/site-packages/pandas/core/internals/construction.py\u001b[0m in \u001b[0;36marrays_to_mgr\u001b[0;34m(arrays, arr_names, index, columns, dtype)\u001b[0m\n\u001b[1;32m     75\u001b[0m     \u001b[0;31m# figure out the index, if necessary\u001b[0m\u001b[0;34m\u001b[0m\u001b[0;34m\u001b[0m\u001b[0;34m\u001b[0m\u001b[0m\n\u001b[1;32m     76\u001b[0m     \u001b[0;32mif\u001b[0m \u001b[0mindex\u001b[0m \u001b[0;32mis\u001b[0m \u001b[0;32mNone\u001b[0m\u001b[0;34m:\u001b[0m\u001b[0;34m\u001b[0m\u001b[0;34m\u001b[0m\u001b[0m\n\u001b[0;32m---> 77\u001b[0;31m         \u001b[0mindex\u001b[0m \u001b[0;34m=\u001b[0m \u001b[0mextract_index\u001b[0m\u001b[0;34m(\u001b[0m\u001b[0marrays\u001b[0m\u001b[0;34m)\u001b[0m\u001b[0;34m\u001b[0m\u001b[0;34m\u001b[0m\u001b[0m\n\u001b[0m\u001b[1;32m     78\u001b[0m     \u001b[0;32melse\u001b[0m\u001b[0;34m:\u001b[0m\u001b[0;34m\u001b[0m\u001b[0;34m\u001b[0m\u001b[0m\n\u001b[1;32m     79\u001b[0m         \u001b[0mindex\u001b[0m \u001b[0;34m=\u001b[0m \u001b[0mensure_index\u001b[0m\u001b[0;34m(\u001b[0m\u001b[0mindex\u001b[0m\u001b[0;34m)\u001b[0m\u001b[0;34m\u001b[0m\u001b[0;34m\u001b[0m\u001b[0m\n",
      "\u001b[0;32m~/anaconda2/envs/scrappingweb/lib/python3.7/site-packages/pandas/core/internals/construction.py\u001b[0m in \u001b[0;36mextract_index\u001b[0;34m(data)\u001b[0m\n\u001b[1;32m    370\u001b[0m             \u001b[0;32mif\u001b[0m \u001b[0mhave_dicts\u001b[0m\u001b[0;34m:\u001b[0m\u001b[0;34m\u001b[0m\u001b[0;34m\u001b[0m\u001b[0m\n\u001b[1;32m    371\u001b[0m                 raise ValueError(\n\u001b[0;32m--> 372\u001b[0;31m                     \u001b[0;34m\"Mixing dicts with non-Series may lead to ambiguous ordering.\"\u001b[0m\u001b[0;34m\u001b[0m\u001b[0;34m\u001b[0m\u001b[0m\n\u001b[0m\u001b[1;32m    373\u001b[0m                 )\n\u001b[1;32m    374\u001b[0m \u001b[0;34m\u001b[0m\u001b[0m\n",
      "\u001b[0;31mValueError\u001b[0m: Mixing dicts with non-Series may lead to ambiguous ordering."
     ]
    }
   ],
   "source": [
    "pd.DataFrame(my_response[\"tree\"])"
   ]
  },
  {
   "cell_type": "code",
   "execution_count": 42,
   "metadata": {},
   "outputs": [],
   "source": [
    "# my_response[\"tree\"][\"children\"] \n",
    "\n",
    "# [{'branch_attrs': {'labels': {'aa': 'ORF1a: L2235I, N3833K'},\n",
    "#    'mutations': {'ORF1a': ['L2235I', 'N3833K'], 'nuc': ['C6968A', 'T11764A']}},\n",
    "#   'name': 'Wuhan/WH01/2019',\n",
    "#   'node_attrs': {'age': {'value': '44'},\n",
    "#    'author': {'author': 'Chen et al', 'value': 'Chen et al'},\n",
    "#    'clade_membership': {'value': 'unassigned'},\n",
    "#    'country': {'confidence': {'China': 0.9999999999999999},\n",
    "#     'entropy': -9.99866855976916e-13,\n",
    "#     'value': 'China'},\n",
    "#    'div': 2.007177379935021,\n",
    "#    'division': {'value': 'Hubei'},\n",
    "#    'genbank_accession': {'value': 'LR757998'},\n",
    "#    'gisaid_epi_isl': {'value': 'EPI_ISL_406798'},\n",
    "#    'host': {'value': 'Human'},\n",
    "#    'location': {'value': 'Wuhan'},\n",
    "#    'num_date': {'confidence': [2019.9849315068493, 2019.9849315068493],\n",
    "#     'value': 2019.9849315068493},\n",
    "#    'originating_lab': {'value': \"General Hospital of Central Theater Command of People's Liberation Army of China\"},\n",
    "#    'recency': {'value': 'Older'},\n",
    "#    'region': {'value': 'Asia'},\n",
    "#    'sex': {'value': 'Male'},\n",
    "#    'submitting_lab': {'value': \"BGI & Institute of Microbiology, Chinese Academy of Sciences & Shandong First Medical University & Shandong Academy of Medical Sciences & General Hospital of Central Theater Command of People's Liberation Army of China\"},\n",
    "#    'url': 'https://www.gisaid.org'}},"
   ]
  },
  {
   "cell_type": "code",
   "execution_count": 46,
   "metadata": {},
   "outputs": [
    {
     "ename": "KeyError",
     "evalue": "'labels'",
     "output_type": "error",
     "traceback": [
      "\u001b[0;31m---------------------------------------------------------------------------\u001b[0m",
      "\u001b[0;31mKeyError\u001b[0m                                  Traceback (most recent call last)",
      "\u001b[0;32m<ipython-input-46-36a4f30bd45f>\u001b[0m in \u001b[0;36m<module>\u001b[0;34m\u001b[0m\n\u001b[0;32m----> 1\u001b[0;31m \u001b[0mpd\u001b[0m\u001b[0;34m.\u001b[0m\u001b[0mDataFrame\u001b[0m\u001b[0;34m(\u001b[0m\u001b[0mmy_response\u001b[0m\u001b[0;34m[\u001b[0m\u001b[0;34m\"tree\"\u001b[0m\u001b[0;34m]\u001b[0m\u001b[0;34m[\u001b[0m\u001b[0;34m\"children\"\u001b[0m\u001b[0;34m]\u001b[0m\u001b[0;34m[\u001b[0m\u001b[0;36m0\u001b[0m\u001b[0;34m]\u001b[0m\u001b[0;34m[\u001b[0m\u001b[0;34m\"labels\"\u001b[0m\u001b[0;34m]\u001b[0m\u001b[0;34m)\u001b[0m\u001b[0;34m\u001b[0m\u001b[0;34m\u001b[0m\u001b[0m\n\u001b[0m",
      "\u001b[0;31mKeyError\u001b[0m: 'labels'"
     ]
    }
   ],
   "source": [
    "pd.DataFrame(my_response[\"tree\"][\"children\"][0])"
   ]
  },
  {
   "cell_type": "code",
   "execution_count": 247,
   "metadata": {},
   "outputs": [
    {
     "data": {
      "text/plain": [
       "{'age': {'value': '32'},\n",
       " 'author': {'author': 'Tan et al', 'value': 'Tan et al'},\n",
       " 'clade_membership': {'value': 'unassigned'},\n",
       " 'country': {'confidence': {'China': 0.9999999999999999},\n",
       "  'entropy': -9.99866855976916e-13,\n",
       "  'value': 'China'},\n",
       " 'div': 2.007030396596991,\n",
       " 'division': {'value': 'Hubei'},\n",
       " 'gisaid_epi_isl': {'value': 'EPI_ISL_402121'},\n",
       " 'host': {'value': 'Human'},\n",
       " 'location': {'value': 'Wuhan'},\n",
       " 'num_date': {'confidence': [2019.995890410959, 2019.995890410959],\n",
       "  'value': 2019.995890410959},\n",
       " 'originating_lab': {'value': 'National Institute for Viral Disease Control and Prevention, China CDC'},\n",
       " 'recency': {'value': 'Older'},\n",
       " 'region': {'value': 'Asia'},\n",
       " 'sex': {'value': 'Male'},\n",
       " 'submitting_lab': {'value': 'National Institute for Viral Disease Control and Prevention, China CDC'},\n",
       " 'url': 'https://www.gisaid.org'}"
      ]
     },
     "execution_count": 247,
     "metadata": {},
     "output_type": "execute_result"
    }
   ],
   "source": [
    "my_response[\"tree\"][\"children\"][6][\"node_attrs\"]"
   ]
  },
  {
   "cell_type": "code",
   "execution_count": 156,
   "metadata": {},
   "outputs": [
    {
     "data": {
      "text/plain": [
       "dict_keys(['age', 'author', 'clade_membership', 'country', 'div', 'division', 'genbank_accession', 'gisaid_epi_isl', 'host', 'location', 'num_date', 'originating_lab', 'recency', 'region', 'sex', 'submitting_lab', 'url'])"
      ]
     },
     "execution_count": 156,
     "metadata": {},
     "output_type": "execute_result"
    }
   ],
   "source": [
    "my_response[\"tree\"][\"children\"][9][\"node_attrs\"].keys()"
   ]
  },
  {
   "cell_type": "code",
   "execution_count": 61,
   "metadata": {},
   "outputs": [
    {
     "data": {
      "text/plain": [
       "dict_keys(['age', 'author', 'clade_membership', 'country', 'div', 'division', 'genbank_accession', 'gisaid_epi_isl', 'host', 'location', 'num_date', 'originating_lab', 'recency', 'region', 'sex', 'submitting_lab', 'url'])"
      ]
     },
     "execution_count": 61,
     "metadata": {},
     "output_type": "execute_result"
    }
   ],
   "source": [
    "my_response[\"tree\"][\"children\"][0][\"node_attrs\"].keys()"
   ]
  },
  {
   "cell_type": "code",
   "execution_count": 62,
   "metadata": {},
   "outputs": [
    {
     "data": {
      "text/plain": [
       "{'value': 'EPI_ISL_406798'}"
      ]
     },
     "execution_count": 62,
     "metadata": {},
     "output_type": "execute_result"
    }
   ],
   "source": [
    "my_response[\"tree\"][\"children\"][0][\"node_attrs\"]['gisaid_epi_isl']"
   ]
  },
  {
   "cell_type": "code",
   "execution_count": 246,
   "metadata": {},
   "outputs": [
    {
     "data": {
      "text/plain": [
       "{'author': 'Tan et al', 'value': 'Tan et al'}"
      ]
     },
     "execution_count": 246,
     "metadata": {},
     "output_type": "execute_result"
    }
   ],
   "source": [
    "my_response[\"tree\"][\"children\"][6][\"node_attrs\"]['author']"
   ]
  },
  {
   "cell_type": "code",
   "execution_count": 73,
   "metadata": {},
   "outputs": [
    {
     "data": {
      "text/html": [
       "<div>\n",
       "<style scoped>\n",
       "    .dataframe tbody tr th:only-of-type {\n",
       "        vertical-align: middle;\n",
       "    }\n",
       "\n",
       "    .dataframe tbody tr th {\n",
       "        vertical-align: top;\n",
       "    }\n",
       "\n",
       "    .dataframe thead th {\n",
       "        text-align: right;\n",
       "    }\n",
       "</style>\n",
       "<table border=\"1\" class=\"dataframe\">\n",
       "  <thead>\n",
       "    <tr style=\"text-align: right;\">\n",
       "      <th></th>\n",
       "      <th>value</th>\n",
       "    </tr>\n",
       "  </thead>\n",
       "  <tbody>\n",
       "    <tr>\n",
       "      <td>0</td>\n",
       "      <td>LR757998</td>\n",
       "    </tr>\n",
       "  </tbody>\n",
       "</table>\n",
       "</div>"
      ],
      "text/plain": [
       "      value\n",
       "0  LR757998"
      ]
     },
     "execution_count": 73,
     "metadata": {},
     "output_type": "execute_result"
    }
   ],
   "source": [
    "pd.DataFrame(my_response[\"tree\"][\"children\"][0][\"node_attrs\"]['genbank_accession'],index=[0])"
   ]
  },
  {
   "cell_type": "code",
   "execution_count": 251,
   "metadata": {},
   "outputs": [
    {
     "data": {
      "text/plain": [
       "{'branch_attrs': {'mutations': {'nuc': ['G20670A', 'G20679A']}},\n",
       " 'name': 'Wuhan/IVDC-HB-05/2019',\n",
       " 'node_attrs': {'age': {'value': '32'},\n",
       "  'author': {'author': 'Tan et al', 'value': 'Tan et al'},\n",
       "  'clade_membership': {'value': 'unassigned'},\n",
       "  'country': {'confidence': {'China': 0.9999999999999999},\n",
       "   'entropy': -9.99866855976916e-13,\n",
       "   'value': 'China'},\n",
       "  'div': 2.007030396596991,\n",
       "  'division': {'value': 'Hubei'},\n",
       "  'gisaid_epi_isl': {'value': 'EPI_ISL_402121'},\n",
       "  'host': {'value': 'Human'},\n",
       "  'location': {'value': 'Wuhan'},\n",
       "  'num_date': {'confidence': [2019.995890410959, 2019.995890410959],\n",
       "   'value': 2019.995890410959},\n",
       "  'originating_lab': {'value': 'National Institute for Viral Disease Control and Prevention, China CDC'},\n",
       "  'recency': {'value': 'Older'},\n",
       "  'region': {'value': 'Asia'},\n",
       "  'sex': {'value': 'Male'},\n",
       "  'submitting_lab': {'value': 'National Institute for Viral Disease Control and Prevention, China CDC'},\n",
       "  'url': 'https://www.gisaid.org'}}"
      ]
     },
     "execution_count": 251,
     "metadata": {},
     "output_type": "execute_result"
    }
   ],
   "source": [
    "my_response[\"tree\"][\"children\"][6]"
   ]
  },
  {
   "cell_type": "code",
   "execution_count": 74,
   "metadata": {},
   "outputs": [
    {
     "data": {
      "text/plain": [
       "15"
      ]
     },
     "execution_count": 74,
     "metadata": {},
     "output_type": "execute_result"
    }
   ],
   "source": [
    "len(my_response[\"tree\"][\"children\"])"
   ]
  },
  {
   "cell_type": "code",
   "execution_count": 58,
   "metadata": {},
   "outputs": [],
   "source": [
    "# ## send the correct params to query the api\n",
    "# params = {'mutations':'ORF1a'}\n",
    "\n",
    "# # Severe acute respiratory syndrome coronavirus2  (2019-nCoV)&protein=Recombinant Spike glycoprotein (HEK293)\n",
    "# response = requests.get(url ,params=params)"
   ]
  },
  {
   "cell_type": "code",
   "execution_count": 77,
   "metadata": {},
   "outputs": [],
   "source": [
    "# response.json()"
   ]
  },
  {
   "cell_type": "code",
   "execution_count": 239,
   "metadata": {},
   "outputs": [
    {
     "name": "stdout",
     "output_type": "stream",
     "text": [
      "0 ['C6968A', 'T11764A'] {'ORF1a': ['L2235I', 'N3833K'], 'nuc': ['C6968A', 'T11764A']}\n",
      "0 {'value': 'EPI_ISL_406798'}\n",
      "1 ['T6996C'] {'ORF1a': ['I2244T'], 'nuc': ['T6996C']}\n",
      "1 {'value': 'EPI_ISL_403930'}\n",
      "2 ['T21656A'] {'S': ['F32I'], 'nuc': ['T21656A']}\n",
      "2 {'value': 'EPI_ISL_402132'}\n",
      "3 ['A8001C', 'C9534T'] {'ORF1a': ['D2579A', 'T3090I'], 'nuc': ['A8001C', 'C9534T']}\n",
      "3 {'value': 'EPI_ISL_402130'}\n",
      "4 ['C27493T', 'C28253T'] {'ORF7a': ['P34S'], 'nuc': ['C27493T', 'C28253T']}\n",
      "4 {'value': 'EPI_ISL_402120'}\n",
      "5 ['T1405C', 'G9802T', 'A19945G', 'C25267T', 'C27615G'] {'ORF1b': ['K2160E'], 'nuc': ['T1405C', 'G9802T', 'A19945G', 'C25267T', 'C27615G']}\n",
      "5 {'value': 'EPI_ISL_416425'}\n",
      "6 ['G20670A', 'G20679A'] {'nuc': ['G20670A', 'G20679A']}\n",
      "6 {'value': 'EPI_ISL_402121'}\n",
      "7 ['G7016A', 'A21137G'] {'ORF1a': ['G2251S'], 'ORF1b': ['K2557R'], 'nuc': ['G7016A', 'A21137G']}\n",
      "7 {'value': 'EPI_ISL_402128'}\n",
      "8 ['C6696T', 'G7070A', 'A13175G', 'A27690T', 'A27691T', 'C28887T'] {'N': ['T205I'], 'ORF14': ['L52F'], 'ORF1a': ['P2144L', 'G2269S', 'T4304A'], 'ORF7a': ['I100F'], 'nuc': ['C6696T', 'G7070A', 'A13175G', 'A27690T', 'A27691T', 'C28887T']}\n",
      "8 {'value': 'EPI_ISL_416345'}\n",
      "9 ['A3778G', 'A8388G', 'T8987A'] {'ORF1a': ['N2708S', 'F2908I'], 'nuc': ['A3778G', 'A8388G', 'T8987A']}\n",
      "9 {'value': 'EPI_ISL_402123'}\n",
      "10 ['C20692T', 'G28233A'] {'ORF1b': ['P2409S'], 'ORF8': ['V114I'], 'nuc': ['C20692T', 'G28233A']}\n"
     ]
    },
    {
     "ename": "KeyError",
     "evalue": "'gisaid_epi_isl'",
     "output_type": "error",
     "traceback": [
      "\u001b[0;31m---------------------------------------------------------------------------\u001b[0m",
      "\u001b[0;31mKeyError\u001b[0m                                  Traceback (most recent call last)",
      "\u001b[0;32m<ipython-input-239-53fc4d10398b>\u001b[0m in \u001b[0;36m<module>\u001b[0;34m\u001b[0m\n\u001b[1;32m      1\u001b[0m \u001b[0;32mfor\u001b[0m \u001b[0mr\u001b[0m \u001b[0;32min\u001b[0m \u001b[0mrange\u001b[0m\u001b[0;34m(\u001b[0m\u001b[0mlen\u001b[0m\u001b[0;34m(\u001b[0m\u001b[0mmy_response\u001b[0m\u001b[0;34m[\u001b[0m\u001b[0;34m\"tree\"\u001b[0m\u001b[0;34m]\u001b[0m\u001b[0;34m[\u001b[0m\u001b[0;34m\"children\"\u001b[0m\u001b[0;34m]\u001b[0m\u001b[0;34m)\u001b[0m\u001b[0;34m)\u001b[0m\u001b[0;34m:\u001b[0m\u001b[0;34m\u001b[0m\u001b[0;34m\u001b[0m\u001b[0m\n\u001b[1;32m      2\u001b[0m                \u001b[0mprint\u001b[0m \u001b[0;34m(\u001b[0m\u001b[0mr\u001b[0m\u001b[0;34m,\u001b[0m\u001b[0mmy_response\u001b[0m\u001b[0;34m[\u001b[0m\u001b[0;34m\"tree\"\u001b[0m\u001b[0;34m]\u001b[0m\u001b[0;34m[\u001b[0m\u001b[0;34m\"children\"\u001b[0m\u001b[0;34m]\u001b[0m\u001b[0;34m[\u001b[0m\u001b[0mr\u001b[0m\u001b[0;34m]\u001b[0m\u001b[0;34m[\u001b[0m\u001b[0;34m'branch_attrs'\u001b[0m\u001b[0;34m]\u001b[0m\u001b[0;34m[\u001b[0m\u001b[0;34m\"mutations\"\u001b[0m\u001b[0;34m]\u001b[0m\u001b[0;34m[\u001b[0m\u001b[0;34m\"nuc\"\u001b[0m\u001b[0;34m]\u001b[0m\u001b[0;34m,\u001b[0m\u001b[0mmy_response\u001b[0m\u001b[0;34m[\u001b[0m\u001b[0;34m\"tree\"\u001b[0m\u001b[0;34m]\u001b[0m\u001b[0;34m[\u001b[0m\u001b[0;34m\"children\"\u001b[0m\u001b[0;34m]\u001b[0m\u001b[0;34m[\u001b[0m\u001b[0mr\u001b[0m\u001b[0;34m]\u001b[0m\u001b[0;34m[\u001b[0m\u001b[0;34m'branch_attrs'\u001b[0m\u001b[0;34m]\u001b[0m\u001b[0;34m[\u001b[0m\u001b[0;34m\"mutations\"\u001b[0m\u001b[0;34m]\u001b[0m\u001b[0;34m)\u001b[0m\u001b[0;34m\u001b[0m\u001b[0;34m\u001b[0m\u001b[0m\n\u001b[0;32m----> 3\u001b[0;31m                \u001b[0mprint\u001b[0m \u001b[0;34m(\u001b[0m\u001b[0mr\u001b[0m\u001b[0;34m,\u001b[0m\u001b[0mmy_response\u001b[0m\u001b[0;34m[\u001b[0m\u001b[0;34m\"tree\"\u001b[0m\u001b[0;34m]\u001b[0m\u001b[0;34m[\u001b[0m\u001b[0;34m\"children\"\u001b[0m\u001b[0;34m]\u001b[0m\u001b[0;34m[\u001b[0m\u001b[0mr\u001b[0m\u001b[0;34m]\u001b[0m\u001b[0;34m[\u001b[0m\u001b[0;34m\"node_attrs\"\u001b[0m\u001b[0;34m]\u001b[0m\u001b[0;34m[\u001b[0m\u001b[0;34m'gisaid_epi_isl'\u001b[0m\u001b[0;34m]\u001b[0m\u001b[0;34m)\u001b[0m\u001b[0;34m\u001b[0m\u001b[0;34m\u001b[0m\u001b[0m\n\u001b[0m\u001b[1;32m      4\u001b[0m \u001b[0;31m#                df_mut = pd.DataFrame(my_response[\"tree\"][\"children\"][r]['branch_attrs'][\"mutations\"],index=[r])\u001b[0m\u001b[0;34m\u001b[0m\u001b[0;34m\u001b[0m\u001b[0;34m\u001b[0m\u001b[0m\n\u001b[1;32m      5\u001b[0m \u001b[0;31m#                df_genebank = pd.DataFrame(my_response[\"tree\"][\"children\"][r][\"node_attrs\"]['genbank_accession'],index=[r])\u001b[0m\u001b[0;34m\u001b[0m\u001b[0;34m\u001b[0m\u001b[0;34m\u001b[0m\u001b[0m\n",
      "\u001b[0;31mKeyError\u001b[0m: 'gisaid_epi_isl'"
     ]
    }
   ],
   "source": [
    "for r in range(len(my_response[\"tree\"][\"children\"])):\n",
    "               print (r,my_response[\"tree\"][\"children\"][r]['branch_attrs'][\"mutations\"][\"nuc\"],my_response[\"tree\"][\"children\"][r]['branch_attrs'][\"mutations\"])\n",
    "               print (r,my_response[\"tree\"][\"children\"][r][\"node_attrs\"]['gisaid_epi_isl'])\n",
    "#                df_mut = pd.DataFrame(my_response[\"tree\"][\"children\"][r]['branch_attrs'][\"mutations\"],index=[r])\n",
    "#                df_genebank = pd.DataFrame(my_response[\"tree\"][\"children\"][r][\"node_attrs\"]['genbank_accession'],index=[r])\n",
    "#                df_genebank.columns = [\"genbank_accession\"]\n",
    "#                df_gisaid = pd.DataFrame(my_response[\"tree\"][\"children\"][0][\"node_attrs\"]['gisaid_epi_isl'],index=[r])\n",
    "#                df_gisaid.columns = [\"gisaid_epi_isl\"]\n",
    "#                pd.concat([])"
   ]
  },
  {
   "cell_type": "code",
   "execution_count": 143,
   "metadata": {},
   "outputs": [
    {
     "name": "stdout",
     "output_type": "stream",
     "text": [
      "ORF1a 0 LR757998 EPI_ISL_406798 L2235I\n",
      "ORF1a 0 LR757998 EPI_ISL_406798 N3833K\n",
      "ORF1a 0 nan nan L2235I\n",
      "ORF1a 0 nan nan N3833K\n",
      "nuc 0 LR757998 EPI_ISL_406798 C6968A\n",
      "nuc 0 LR757998 EPI_ISL_406798 T11764A\n",
      "nuc 0 nan nan C6968A\n",
      "nuc 0 nan nan T11764A\n",
      "ORF1a 1 MT019531 EPI_ISL_403930 I2244T\n",
      "ORF1a 1 nan nan I2244T\n",
      "nuc 1 MT019531 EPI_ISL_403930 T6996C\n",
      "nuc 1 nan nan T6996C\n",
      "nuc 2 nan nan T21656A\n",
      "S 2 nan nan F32I\n",
      "ORF1a 3 MN996531 EPI_ISL_402130 D2579A\n",
      "ORF1a 3 MN996531 EPI_ISL_402130 T3090I\n",
      "ORF1a 3 nan nan D2579A\n",
      "ORF1a 3 nan nan T3090I\n",
      "nuc 3 MN996531 EPI_ISL_402130 A8001C\n",
      "nuc 3 MN996531 EPI_ISL_402130 C9534T\n",
      "nuc 3 nan nan A8001C\n",
      "nuc 3 nan nan C9534T\n",
      "nuc 4 nan nan C27493T\n",
      "nuc 4 nan nan C28253T\n",
      "ORF7a 4 nan nan P34S\n",
      "ORF1b 5 nan nan K2160E\n",
      "nuc 5 nan nan T1405C\n",
      "nuc 5 nan nan G9802T\n",
      "nuc 5 nan nan A19945G\n",
      "nuc 5 nan nan C25267T\n",
      "nuc 5 nan nan C27615G\n",
      "nuc 6 nan nan G20670A\n",
      "nuc 6 nan nan G20679A\n",
      "ORF1a 7 MN996529 EPI_ISL_402128 G2251S\n",
      "ORF1a 7 nan nan G2251S\n",
      "ORF1b 7 MN996529 EPI_ISL_402128 K2557R\n",
      "ORF1b 7 nan nan K2557R\n",
      "nuc 7 MN996529 EPI_ISL_402128 G7016A\n",
      "nuc 7 MN996529 EPI_ISL_402128 A21137G\n",
      "nuc 7 nan nan G7016A\n",
      "nuc 7 nan nan A21137G\n",
      "ORF1a 8 nan nan P2144L\n",
      "ORF1a 8 nan nan G2269S\n",
      "ORF1a 8 nan nan T4304A\n",
      "nuc 8 nan nan C6696T\n",
      "nuc 8 nan nan G7070A\n",
      "nuc 8 nan nan A13175G\n",
      "nuc 8 nan nan A27690T\n",
      "nuc 8 nan nan A27691T\n",
      "nuc 8 nan nan C28887T\n",
      "ORF7a 8 nan nan I100F\n",
      "ORF1a 9 MT019529 EPI_ISL_402123 N2708S\n",
      "ORF1a 9 MT019529 EPI_ISL_402123 F2908I\n",
      "ORF1a 9 nan nan N2708S\n",
      "ORF1a 9 nan nan F2908I\n",
      "nuc 9 MT019529 EPI_ISL_402123 A3778G\n",
      "nuc 9 MT019529 EPI_ISL_402123 A8388G\n",
      "nuc 9 MT019529 EPI_ISL_402123 T8987A\n",
      "nuc 9 nan nan A3778G\n",
      "nuc 9 nan nan A8388G\n",
      "nuc 9 nan nan T8987A\n",
      "ORF1b 10 nan nan P2409S\n",
      "nuc 10 nan nan C20692T\n",
      "nuc 10 nan nan G28233A\n",
      "ORF8 10 nan nan V114I\n",
      "nuc 11 nan nan A24325G\n",
      "nuc 12 nan nan C8782T\n",
      "ORF1b 14 nan nan P314L\n",
      "nuc 14 nan nan C241T\n",
      "nuc 14 nan nan C14408T\n"
     ]
    }
   ],
   "source": [
    "for r in range(len(my_response[\"tree\"][\"children\"])):\n",
    "    for key  in ['ORF1a','ORF1b','nuc','S','ORF7a','ORF8']:\n",
    "        if key in my_response[\"tree\"][\"children\"][r]['branch_attrs'][\"mutations\"].keys():\n",
    "#             for r in range(len(my_response[\"tree\"][\"children\"])):\n",
    "            if 'genbank_accession' in my_response[\"tree\"][\"children\"][r][\"node_attrs\"].keys() and 'gisaid_epi_isl' in my_response[\"tree\"][\"children\"][r][\"node_attrs\"].keys():\n",
    "        #     print (r,my_response[\"tree\"][\"children\"][r]['branch_attrs'][\"mutations\"])\n",
    "                for mut in my_response[\"tree\"][\"children\"][r]['branch_attrs'][\"mutations\"][key]:\n",
    "\n",
    "                    print (key,r,\n",
    "                           my_response[\"tree\"][\"children\"][r][\"node_attrs\"]['genbank_accession']['value'],\n",
    "                           my_response[\"tree\"][\"children\"][r][\"node_attrs\"]['gisaid_epi_isl']['value'],\n",
    "                           mut,\n",
    "#                            my_response[\"tree\"][\"children\"][r][\"node_attrs\"]['author'][\"value\"]\n",
    "                          )\n",
    "            if 'genbank_accession' in my_response[\"tree\"][\"children\"][r][\"node_attrs\"].keys() and 'gisaid_epi_isl' not in my_response[\"tree\"][\"children\"][r][\"node_attrs\"].keys():\n",
    "        #     print (r,my_response[\"tree\"][\"children\"][r]['branch_attrs'][\"mutations\"])\n",
    "                for mut in my_response[\"tree\"][\"children\"][r]['branch_attrs'][\"mutations\"][key]:\n",
    "\n",
    "                    print (key,r,\n",
    "                           my_response[\"tree\"][\"children\"][r][\"node_attrs\"]['genbank_accession']['value'],\n",
    "#                            my_response[\"tree\"][\"children\"][r][\"node_attrs\"]['gisaid_epi_isl']['value'],\n",
    "                           \"nan\",\n",
    "                           mut\n",
    "#                            my_response[\"tree\"][\"children\"][r][\"node_attrs\"]['author'][\"value\"]\n",
    "                          )\n",
    "            else :\n",
    "                for mut in my_response[\"tree\"][\"children\"][r]['branch_attrs'][\"mutations\"][key]:\n",
    "                    print (key,r,\n",
    "                           \"nan\",\n",
    "                           \"nan\",\n",
    "                           mut\n",
    "#                            my_response[\"tree\"][\"children\"][r][\"node_attrs\"]['author'][\"value\"]\n",
    "                          )\n",
    "#                        print (r,key,my_response[\"tree\"][\"children\"][r]['branch_attrs'][\"mutations\"][key])\n",
    "#                print (my_response[\"tree\"][\"children\"][r][\"node_attrs\"]['genbank_accession'])\n",
    "#                df_mut = pd.DataFrame(my_response[\"tree\"][\"children\"][r]['branch_attrs'][\"mutations\"],index=[r])\n",
    "#                df_genebank = pd.DataFrame(my_response[\"tree\"][\"children\"][r][\"node_attrs\"]['genbank_accession'],index=[r])\n",
    "#                df_genebank.columns = [\"genbank_accession\"]\n",
    "#                df_gisaid = pd.DataFrame(my_response[\"tree\"][\"children\"][0][\"node_attrs\"]['gisaid_epi_isl'],index=[r])\n",
    "#                df_gisaid.columns = [\"gisaid_epi_isl\"]\n",
    "#                pd.concat([])"
   ]
  },
  {
   "cell_type": "code",
   "execution_count": 191,
   "metadata": {},
   "outputs": [
    {
     "data": {
      "text/plain": [
       "dict_keys(['E', 'M', 'N', 'ORF10', 'ORF14', 'ORF1a', 'ORF1b', 'ORF3a', 'ORF6', 'ORF7a', 'ORF7b', 'ORF8', 'ORF9b', 'S', 'nuc'])"
      ]
     },
     "execution_count": 191,
     "metadata": {},
     "output_type": "execute_result"
    }
   ],
   "source": [
    "my_response[\"meta\"][\"genome_annotations\"].keys()"
   ]
  },
  {
   "cell_type": "code",
   "execution_count": 105,
   "metadata": {},
   "outputs": [
    {
     "name": "stdout",
     "output_type": "stream",
     "text": [
      "{'value': 'LR757998'} {'value': 'EPI_ISL_406798'}\n",
      "{'value': 'MT019531'} {'value': 'EPI_ISL_406798'}\n",
      "nan {'value': 'EPI_ISL_406798'}\n",
      "{'value': 'MN996531'} {'value': 'EPI_ISL_406798'}\n",
      "nan {'value': 'EPI_ISL_406798'}\n",
      "nan {'value': 'EPI_ISL_406798'}\n",
      "nan {'value': 'EPI_ISL_406798'}\n",
      "{'value': 'MN996529'} {'value': 'EPI_ISL_406798'}\n",
      "nan {'value': 'EPI_ISL_406798'}\n",
      "{'value': 'MT019529'} {'value': 'EPI_ISL_406798'}\n",
      "nan {'value': 'EPI_ISL_406798'}\n",
      "nan {'value': 'EPI_ISL_406798'}\n",
      "nan {'value': 'EPI_ISL_406798'}\n",
      "nan {'value': 'EPI_ISL_406798'}\n",
      "nan {'value': 'EPI_ISL_406798'}\n"
     ]
    }
   ],
   "source": [
    "for r in range(len(my_response[\"tree\"][\"children\"])):\n",
    "    if 'genbank_accession' in my_response[\"tree\"][\"children\"][r][\"node_attrs\"].keys():\n",
    "#     print (r,my_response[\"tree\"][\"children\"][r]['branch_attrs'][\"mutations\"])\n",
    "\n",
    "        print (my_response[\"tree\"][\"children\"][r][\"node_attrs\"]['genbank_accession'],my_response[\"tree\"][\"children\"][0][\"node_attrs\"]['gisaid_epi_isl'])\n",
    "        \n",
    "    else :\n",
    "        print (\"nan\",my_response[\"tree\"][\"children\"][0][\"node_attrs\"]['gisaid_epi_isl'])"
   ]
  },
  {
   "cell_type": "code",
   "execution_count": 205,
   "metadata": {},
   "outputs": [
    {
     "data": {
      "text/plain": [
       "{'ORF1b': ['K2160E'],\n",
       " 'nuc': ['T1405C', 'G9802T', 'A19945G', 'C25267T', 'C27615G']}"
      ]
     },
     "execution_count": 205,
     "metadata": {},
     "output_type": "execute_result"
    }
   ],
   "source": [
    "# my_response[\"tree\"][\"children\"][0][\"node_attrs\"]\n",
    "my_response[\"tree\"][\"children\"][5]['branch_attrs'][\"mutations\"]"
   ]
  },
  {
   "cell_type": "code",
   "execution_count": 144,
   "metadata": {},
   "outputs": [
    {
     "name": "stdout",
     "output_type": "stream",
     "text": [
      "ORF1a 0 LR757998 EPI_ISL_406798 L2235I\n",
      "ORF1a 0 LR757998 EPI_ISL_406798 N3833K\n",
      "nuc 0 LR757998 EPI_ISL_406798 C6968A\n",
      "nuc 0 LR757998 EPI_ISL_406798 T11764A\n",
      "ORF1a 1 MT019531 EPI_ISL_403930 I2244T\n",
      "nuc 1 MT019531 EPI_ISL_403930 T6996C\n",
      "ORF1a 3 MN996531 EPI_ISL_402130 D2579A\n",
      "ORF1a 3 MN996531 EPI_ISL_402130 T3090I\n",
      "nuc 3 MN996531 EPI_ISL_402130 A8001C\n",
      "nuc 3 MN996531 EPI_ISL_402130 C9534T\n",
      "ORF1a 7 MN996529 EPI_ISL_402128 G2251S\n",
      "ORF1b 7 MN996529 EPI_ISL_402128 K2557R\n",
      "nuc 7 MN996529 EPI_ISL_402128 G7016A\n",
      "nuc 7 MN996529 EPI_ISL_402128 A21137G\n",
      "ORF1a 9 MT019529 EPI_ISL_402123 N2708S\n",
      "ORF1a 9 MT019529 EPI_ISL_402123 F2908I\n",
      "nuc 9 MT019529 EPI_ISL_402123 A3778G\n",
      "nuc 9 MT019529 EPI_ISL_402123 A8388G\n",
      "nuc 9 MT019529 EPI_ISL_402123 T8987A\n"
     ]
    }
   ],
   "source": [
    "for r in range(len(my_response[\"tree\"][\"children\"])):\n",
    "    for key  in ['ORF1a','ORF1b','nuc','S','ORF7a','ORF8']:\n",
    "        if key in my_response[\"tree\"][\"children\"][r]['branch_attrs'][\"mutations\"].keys():\n",
    "#             for r in range(len(my_response[\"tree\"][\"children\"])):\n",
    "            if 'genbank_accession' in my_response[\"tree\"][\"children\"][r][\"node_attrs\"].keys() and 'gisaid_epi_isl' in my_response[\"tree\"][\"children\"][r][\"node_attrs\"].keys():\n",
    "        #     print (r,my_response[\"tree\"][\"children\"][r]['branch_attrs'][\"mutations\"])\n",
    "                for mut in my_response[\"tree\"][\"children\"][r]['branch_attrs'][\"mutations\"][key]:\n",
    "\n",
    "                    print (key,r,\n",
    "                           my_response[\"tree\"][\"children\"][r][\"node_attrs\"]['genbank_accession']['value'],\n",
    "                           my_response[\"tree\"][\"children\"][r][\"node_attrs\"]['gisaid_epi_isl']['value'],\n",
    "                           mut,\n",
    "#                            my_response[\"tree\"][\"children\"][r][\"node_attrs\"]['author'][\"value\"]\n",
    "                          )"
   ]
  },
  {
   "cell_type": "code",
   "execution_count": 147,
   "metadata": {},
   "outputs": [
    {
     "name": "stdout",
     "output_type": "stream",
     "text": [
      "ORF1a 0 LR757998 EPI_ISL_406798 L2235I\n",
      "ORF1a 0 LR757998 EPI_ISL_406798 N3833K\n",
      "nuc 0 LR757998 EPI_ISL_406798 C6968A\n",
      "nuc 0 LR757998 EPI_ISL_406798 T11764A\n",
      "ORF1a 1 MT019531 EPI_ISL_403930 I2244T\n",
      "nuc 1 MT019531 EPI_ISL_403930 T6996C\n",
      "ORF1a 3 MN996531 EPI_ISL_402130 D2579A\n",
      "ORF1a 3 MN996531 EPI_ISL_402130 T3090I\n",
      "nuc 3 MN996531 EPI_ISL_402130 A8001C\n",
      "nuc 3 MN996531 EPI_ISL_402130 C9534T\n",
      "ORF1a 7 MN996529 EPI_ISL_402128 G2251S\n",
      "ORF1b 7 MN996529 EPI_ISL_402128 K2557R\n",
      "nuc 7 MN996529 EPI_ISL_402128 G7016A\n",
      "nuc 7 MN996529 EPI_ISL_402128 A21137G\n",
      "ORF1a 9 MT019529 EPI_ISL_402123 N2708S\n",
      "ORF1a 9 MT019529 EPI_ISL_402123 F2908I\n",
      "nuc 9 MT019529 EPI_ISL_402123 A3778G\n",
      "nuc 9 MT019529 EPI_ISL_402123 A8388G\n",
      "nuc 9 MT019529 EPI_ISL_402123 T8987A\n"
     ]
    }
   ],
   "source": [
    "for r in range(len(my_response[\"tree\"][\"children\"])):\n",
    "    for key  in ['ORF1a','ORF1b','nuc','S','ORF7a','ORF8']:\n",
    "        if key in my_response[\"tree\"][\"children\"][r]['branch_attrs'][\"mutations\"].keys():\n",
    "#             for r in range(len(my_response[\"tree\"][\"children\"])):\n",
    "            if 'genbank_accession' in my_response[\"tree\"][\"children\"][r][\"node_attrs\"].keys() :#and 'gisaid_epi_isl' in my_response[\"tree\"][\"children\"][r][\"node_attrs\"].keys():\n",
    "        #     print (r,my_response[\"tree\"][\"children\"][r]['branch_attrs'][\"mutations\"])\n",
    "                for mut in my_response[\"tree\"][\"children\"][r]['branch_attrs'][\"mutations\"][key]:\n",
    "\n",
    "                    print (key,r,\n",
    "                           my_response[\"tree\"][\"children\"][r][\"node_attrs\"]['genbank_accession']['value'],\n",
    "                           my_response[\"tree\"][\"children\"][r][\"node_attrs\"]['gisaid_epi_isl']['value'],\n",
    "                           mut,\n",
    "#                            my_response[\"tree\"][\"children\"][r][\"node_attrs\"]['author'][\"value\"]\n",
    "                          )"
   ]
  },
  {
   "cell_type": "code",
   "execution_count": 165,
   "metadata": {},
   "outputs": [
    {
     "name": "stdout",
     "output_type": "stream",
     "text": [
      "nuc 2 nan EPI_ISL_402132 T21656A\n",
      "S 2 nan EPI_ISL_402132 F32I\n",
      "nuc 4 nan EPI_ISL_402120 C27493T\n",
      "nuc 4 nan EPI_ISL_402120 C28253T\n",
      "ORF7a 4 nan EPI_ISL_402120 P34S\n",
      "ORF1b 5 nan EPI_ISL_416425 K2160E\n",
      "nuc 5 nan EPI_ISL_416425 T1405C\n",
      "nuc 5 nan EPI_ISL_416425 G9802T\n",
      "nuc 5 nan EPI_ISL_416425 A19945G\n",
      "nuc 5 nan EPI_ISL_416425 C25267T\n",
      "nuc 5 nan EPI_ISL_416425 C27615G\n",
      "nuc 6 nan EPI_ISL_402121 G20670A\n",
      "nuc 6 nan EPI_ISL_402121 G20679A\n",
      "ORF1a 8 nan EPI_ISL_416345 P2144L\n",
      "ORF1a 8 nan EPI_ISL_416345 G2269S\n",
      "ORF1a 8 nan EPI_ISL_416345 T4304A\n",
      "nuc 8 nan EPI_ISL_416345 C6696T\n",
      "nuc 8 nan EPI_ISL_416345 G7070A\n",
      "nuc 8 nan EPI_ISL_416345 A13175G\n",
      "nuc 8 nan EPI_ISL_416345 A27690T\n",
      "nuc 8 nan EPI_ISL_416345 A27691T\n",
      "nuc 8 nan EPI_ISL_416345 C28887T\n",
      "ORF7a 8 nan EPI_ISL_416345 I100F\n"
     ]
    }
   ],
   "source": [
    "for r in range(len(my_response[\"tree\"][\"children\"])):\n",
    "    for key  in ['ORF1a','ORF1b','nuc','S','ORF7a','ORF8']:\n",
    "        if key in my_response[\"tree\"][\"children\"][r]['branch_attrs'][\"mutations\"].keys():\n",
    "#             for r in range(len(my_response[\"tree\"][\"children\"])):\n",
    "            if 'gisaid_epi_isl' in my_response[\"tree\"][\"children\"][r][\"node_attrs\"].keys() and 'genbank_accession' not in my_response[\"tree\"][\"children\"][r][\"node_attrs\"].keys():\n",
    "        #     print (r,my_response[\"tree\"][\"children\"][r]['branch_attrs'][\"mutations\"])\n",
    "                for mut in my_response[\"tree\"][\"children\"][r]['branch_attrs'][\"mutations\"][key]:\n",
    "\n",
    "                    print (key,r,\"nan\",\n",
    "#                            my_response[\"tree\"][\"children\"][r][\"node_attrs\"]['genbank_accession']['value'],\n",
    "                           my_response[\"tree\"][\"children\"][r][\"node_attrs\"]['gisaid_epi_isl']['value'],\n",
    "                           mut,\n",
    "#                            my_response[\"tree\"][\"children\"][r][\"node_attrs\"]['author'][\"value\"]\n",
    "                          )"
   ]
  },
  {
   "cell_type": "code",
   "execution_count": 162,
   "metadata": {},
   "outputs": [
    {
     "name": "stdout",
     "output_type": "stream",
     "text": [
      "ORF1b 10 nan nan P2409S\n",
      "nuc 10 nan nan C20692T\n",
      "nuc 10 nan nan G28233A\n",
      "ORF8 10 nan nan V114I\n",
      "nuc 11 nan nan A24325G\n",
      "nuc 12 nan nan C8782T\n",
      "ORF1b 14 nan nan P314L\n",
      "nuc 14 nan nan C241T\n",
      "nuc 14 nan nan C14408T\n"
     ]
    }
   ],
   "source": [
    "for r in range(len(my_response[\"tree\"][\"children\"])):\n",
    "    for key  in ['ORF1a','ORF1b','nuc','S','ORF7a','ORF8']:\n",
    "        if key in my_response[\"tree\"][\"children\"][r]['branch_attrs'][\"mutations\"].keys():\n",
    "#             for r in range(len(my_response[\"tree\"][\"children\"])):\n",
    "            if 'gisaid_epi_isl' not in my_response[\"tree\"][\"children\"][r][\"node_attrs\"].keys() and 'gisaid_epi_isl' not in my_response[\"tree\"][\"children\"][r][\"node_attrs\"].keys():\n",
    "        #     print (r,my_response[\"tree\"][\"children\"][r]['branch_attrs'][\"mutations\"])\n",
    "                for mut in my_response[\"tree\"][\"children\"][r]['branch_attrs'][\"mutations\"][key]:\n",
    "\n",
    "                    print (key,r,\n",
    "                           \"nan\",\"nan\",\n",
    "#                            my_response[\"tree\"][\"children\"][r][\"node_attrs\"]['genbank_accession']['value'],\n",
    "#                            my_response[\"tree\"][\"children\"][r][\"node_attrs\"]['gisaid_epi_isl']['value'],\n",
    "                           mut,\n",
    "#                            my_response[\"tree\"][\"children\"][r][\"node_attrs\"]['author'][\"value\"]\n",
    "                          )"
   ]
  },
  {
   "cell_type": "code",
   "execution_count": 241,
   "metadata": {},
   "outputs": [
    {
     "name": "stdout",
     "output_type": "stream",
     "text": [
      "ORF1a 0 LR757998 EPI_ISL_406798 L2235I Chen et al\n",
      "ORF1a 0 LR757998 EPI_ISL_406798 N3833K Chen et al\n",
      "nuc 0 LR757998 EPI_ISL_406798 C6968A Chen et al\n",
      "nuc 0 LR757998 EPI_ISL_406798 T11764A Chen et al\n",
      "ORF1a 1 MT019531 EPI_ISL_403930 I2244T Ren et al\n",
      "nuc 1 MT019531 EPI_ISL_403930 T6996C Ren et al\n",
      "S 2 nan EPI_ISL_402132 F32I Fang et al\n",
      "nuc 2 nan EPI_ISL_402132 T21656A Fang et al\n",
      "ORF1a 3 MN996531 EPI_ISL_402130 D2579A Zhou et al\n",
      "ORF1a 3 MN996531 EPI_ISL_402130 T3090I Zhou et al\n",
      "nuc 3 MN996531 EPI_ISL_402130 A8001C Zhou et al\n",
      "nuc 3 MN996531 EPI_ISL_402130 C9534T Zhou et al\n",
      "ORF7a 4 nan EPI_ISL_402120 P34S Tan et al\n",
      "nuc 4 nan EPI_ISL_402120 C27493T Tan et al\n",
      "nuc 4 nan EPI_ISL_402120 C28253T Tan et al\n",
      "ORF1b 5 nan EPI_ISL_416425 K2160E Yao et al\n",
      "nuc 5 nan EPI_ISL_416425 T1405C Yao et al\n",
      "nuc 5 nan EPI_ISL_416425 G9802T Yao et al\n",
      "nuc 5 nan EPI_ISL_416425 A19945G Yao et al\n",
      "nuc 5 nan EPI_ISL_416425 C25267T Yao et al\n",
      "nuc 5 nan EPI_ISL_416425 C27615G Yao et al\n",
      "nuc 6 nan EPI_ISL_402121 G20670A Tan et al\n",
      "nuc 6 nan EPI_ISL_402121 G20679A Tan et al\n",
      "ORF1a 7 MN996529 EPI_ISL_402128 G2251S Zhou et al\n",
      "ORF1b 7 MN996529 EPI_ISL_402128 K2557R Zhou et al\n",
      "nuc 7 MN996529 EPI_ISL_402128 G7016A Zhou et al\n",
      "nuc 7 MN996529 EPI_ISL_402128 A21137G Zhou et al\n",
      "ORF1a 8 nan EPI_ISL_416345 P2144L Wang et al\n",
      "ORF1a 8 nan EPI_ISL_416345 G2269S Wang et al\n",
      "ORF1a 8 nan EPI_ISL_416345 T4304A Wang et al\n",
      "ORF7a 8 nan EPI_ISL_416345 I100F Wang et al\n",
      "nuc 8 nan EPI_ISL_416345 C6696T Wang et al\n",
      "nuc 8 nan EPI_ISL_416345 G7070A Wang et al\n",
      "nuc 8 nan EPI_ISL_416345 A13175G Wang et al\n",
      "nuc 8 nan EPI_ISL_416345 A27690T Wang et al\n",
      "nuc 8 nan EPI_ISL_416345 A27691T Wang et al\n",
      "nuc 8 nan EPI_ISL_416345 C28887T Wang et al\n",
      "ORF1a 9 MT019529 EPI_ISL_402123 N2708S Ren et al\n",
      "ORF1a 9 MT019529 EPI_ISL_402123 F2908I Ren et al\n",
      "nuc 9 MT019529 EPI_ISL_402123 A3778G Ren et al\n",
      "nuc 9 MT019529 EPI_ISL_402123 A8388G Ren et al\n",
      "nuc 9 MT019529 EPI_ISL_402123 T8987A Ren et al\n",
      "ORF1b 10 nan nan P2409S nan\n",
      "ORF8 10 nan nan V114I nan\n",
      "nuc 10 nan nan C20692T nan\n",
      "nuc 10 nan nan G28233A nan\n",
      "nuc 11 nan nan A24325G nan\n",
      "nuc 12 nan nan C8782T nan\n",
      "ORF1b 14 nan nan P314L nan\n",
      "nuc 14 nan nan C241T nan\n",
      "nuc 14 nan nan C14408T nan\n"
     ]
    }
   ],
   "source": [
    "summary_response = []\n",
    "for r in range(len(my_response[\"tree\"][\"children\"])):\n",
    "    for key  in ['ORF1a','ORF1b','S','ORF7a','ORF8','nuc']: \n",
    "        if key in my_response[\"tree\"][\"children\"][r]['branch_attrs'][\"mutations\"].keys():\n",
    "#             for r in range(len(my_response[\"tree\"][\"children\"])):\n",
    "            if 'genbank_accession' in my_response[\"tree\"][\"children\"][r][\"node_attrs\"].keys() :#and 'gisaid_epi_isl' in my_response[\"tree\"][\"children\"][r][\"node_attrs\"].keys():\n",
    "        #     print (r,my_response[\"tree\"][\"children\"][r]['branch_attrs'][\"mutations\"])\n",
    "                for mut in my_response[\"tree\"][\"children\"][r]['branch_attrs'][\"mutations\"][key]:\n",
    "                    summary_response.append((\n",
    "                    key,\n",
    "                           my_response[\"tree\"][\"children\"][r][\"node_attrs\"]['genbank_accession']['value'],\n",
    "                           my_response[\"tree\"][\"children\"][r][\"node_attrs\"]['gisaid_epi_isl']['value'],\n",
    "                           mut,\n",
    "                           my_response[\"tree\"][\"children\"][r][\"node_attrs\"]['author'][\"value\"]\n",
    "                          ))\n",
    "                    \n",
    "                    print (key,r,\n",
    "                           my_response[\"tree\"][\"children\"][r][\"node_attrs\"]['genbank_accession']['value'],\n",
    "                           my_response[\"tree\"][\"children\"][r][\"node_attrs\"]['gisaid_epi_isl']['value'],\n",
    "                           mut,\n",
    "                           my_response[\"tree\"][\"children\"][r][\"node_attrs\"]['author'][\"value\"]\n",
    "                          )\n",
    "            elif 'gisaid_epi_isl' in my_response[\"tree\"][\"children\"][r][\"node_attrs\"].keys() and 'genbank_accession' not in my_response[\"tree\"][\"children\"][r][\"node_attrs\"].keys():\n",
    "        #     print (r,my_response[\"tree\"][\"children\"][r]['branch_attrs'][\"mutations\"])\n",
    "                for mut in my_response[\"tree\"][\"children\"][r]['branch_attrs'][\"mutations\"][key]:\n",
    "                    summary_response.append((\n",
    "                    key,\"nan\",\n",
    "#                            my_response[\"tree\"][\"children\"][r][\"node_attrs\"]['genbank_accession']['value'],\n",
    "                           my_response[\"tree\"][\"children\"][r][\"node_attrs\"]['gisaid_epi_isl']['value'],\n",
    "                           mut,\n",
    "                           my_response[\"tree\"][\"children\"][r][\"node_attrs\"]['author'][\"value\"]\n",
    "                ))\n",
    "\n",
    "                    print (key,r,\"nan\",\n",
    "#                            my_response[\"tree\"][\"children\"][r][\"node_attrs\"]['genbank_accession']['value'],\n",
    "                           my_response[\"tree\"][\"children\"][r][\"node_attrs\"]['gisaid_epi_isl']['value'],\n",
    "                           mut,\n",
    "                           my_response[\"tree\"][\"children\"][r][\"node_attrs\"]['author'][\"value\"]\n",
    "                          )\n",
    "            elif 'gisaid_epi_isl' not in my_response[\"tree\"][\"children\"][r][\"node_attrs\"].keys() and 'gisaid_epi_isl' not in my_response[\"tree\"][\"children\"][r][\"node_attrs\"].keys():\n",
    "        #     print (r,my_response[\"tree\"][\"children\"][r]['branch_attrs'][\"mutations\"])\n",
    "                for mut in my_response[\"tree\"][\"children\"][r]['branch_attrs'][\"mutations\"][key]:\n",
    "                    summary_response.append((key,\"nan\",\"nan\",mut,\"nan\"))\n",
    "\n",
    "\n",
    "                    print (key,r,\n",
    "                           \"nan\",\"nan\",\n",
    "#                            my_response[\"tree\"][\"children\"][r][\"node_attrs\"]['genbank_accession']['value'],\n",
    "#                            my_response[\"tree\"][\"children\"][r][\"node_attrs\"]['gisaid_epi_isl']['value'],\n",
    "                           mut,\"nan\"\n",
    "#                            my_response[\"tree\"][\"children\"][r][\"node_attrs\"]['author'][\"value\"]\n",
    "                          )\n",
    "                    "
   ]
  },
  {
   "cell_type": "code",
   "execution_count": 242,
   "metadata": {},
   "outputs": [],
   "source": [
    "df_result = pd.DataFrame(summary_response,columns=['gene','genbank_accession','gisaid_epi_isl','mutations','author'])"
   ]
  },
  {
   "cell_type": "code",
   "execution_count": 243,
   "metadata": {},
   "outputs": [
    {
     "data": {
      "text/html": [
       "<div>\n",
       "<style scoped>\n",
       "    .dataframe tbody tr th:only-of-type {\n",
       "        vertical-align: middle;\n",
       "    }\n",
       "\n",
       "    .dataframe tbody tr th {\n",
       "        vertical-align: top;\n",
       "    }\n",
       "\n",
       "    .dataframe thead th {\n",
       "        text-align: right;\n",
       "    }\n",
       "</style>\n",
       "<table border=\"1\" class=\"dataframe\">\n",
       "  <thead>\n",
       "    <tr style=\"text-align: right;\">\n",
       "      <th></th>\n",
       "      <th>gene</th>\n",
       "      <th>genbank_accession</th>\n",
       "      <th>gisaid_epi_isl</th>\n",
       "      <th>mutations</th>\n",
       "      <th>author</th>\n",
       "    </tr>\n",
       "  </thead>\n",
       "  <tbody>\n",
       "    <tr>\n",
       "      <td>0</td>\n",
       "      <td>ORF1a</td>\n",
       "      <td>LR757998</td>\n",
       "      <td>EPI_ISL_406798</td>\n",
       "      <td>L2235I</td>\n",
       "      <td>Chen et al</td>\n",
       "    </tr>\n",
       "    <tr>\n",
       "      <td>1</td>\n",
       "      <td>ORF1a</td>\n",
       "      <td>LR757998</td>\n",
       "      <td>EPI_ISL_406798</td>\n",
       "      <td>N3833K</td>\n",
       "      <td>Chen et al</td>\n",
       "    </tr>\n",
       "    <tr>\n",
       "      <td>2</td>\n",
       "      <td>nuc</td>\n",
       "      <td>LR757998</td>\n",
       "      <td>EPI_ISL_406798</td>\n",
       "      <td>C6968A</td>\n",
       "      <td>Chen et al</td>\n",
       "    </tr>\n",
       "    <tr>\n",
       "      <td>3</td>\n",
       "      <td>nuc</td>\n",
       "      <td>LR757998</td>\n",
       "      <td>EPI_ISL_406798</td>\n",
       "      <td>T11764A</td>\n",
       "      <td>Chen et al</td>\n",
       "    </tr>\n",
       "    <tr>\n",
       "      <td>4</td>\n",
       "      <td>ORF1a</td>\n",
       "      <td>MT019531</td>\n",
       "      <td>EPI_ISL_403930</td>\n",
       "      <td>I2244T</td>\n",
       "      <td>Ren et al</td>\n",
       "    </tr>\n",
       "    <tr>\n",
       "      <td>5</td>\n",
       "      <td>nuc</td>\n",
       "      <td>MT019531</td>\n",
       "      <td>EPI_ISL_403930</td>\n",
       "      <td>T6996C</td>\n",
       "      <td>Ren et al</td>\n",
       "    </tr>\n",
       "    <tr>\n",
       "      <td>6</td>\n",
       "      <td>S</td>\n",
       "      <td>nan</td>\n",
       "      <td>EPI_ISL_402132</td>\n",
       "      <td>F32I</td>\n",
       "      <td>Fang et al</td>\n",
       "    </tr>\n",
       "    <tr>\n",
       "      <td>7</td>\n",
       "      <td>nuc</td>\n",
       "      <td>nan</td>\n",
       "      <td>EPI_ISL_402132</td>\n",
       "      <td>T21656A</td>\n",
       "      <td>Fang et al</td>\n",
       "    </tr>\n",
       "    <tr>\n",
       "      <td>8</td>\n",
       "      <td>ORF1a</td>\n",
       "      <td>MN996531</td>\n",
       "      <td>EPI_ISL_402130</td>\n",
       "      <td>D2579A</td>\n",
       "      <td>Zhou et al</td>\n",
       "    </tr>\n",
       "    <tr>\n",
       "      <td>9</td>\n",
       "      <td>ORF1a</td>\n",
       "      <td>MN996531</td>\n",
       "      <td>EPI_ISL_402130</td>\n",
       "      <td>T3090I</td>\n",
       "      <td>Zhou et al</td>\n",
       "    </tr>\n",
       "    <tr>\n",
       "      <td>10</td>\n",
       "      <td>nuc</td>\n",
       "      <td>MN996531</td>\n",
       "      <td>EPI_ISL_402130</td>\n",
       "      <td>A8001C</td>\n",
       "      <td>Zhou et al</td>\n",
       "    </tr>\n",
       "    <tr>\n",
       "      <td>11</td>\n",
       "      <td>nuc</td>\n",
       "      <td>MN996531</td>\n",
       "      <td>EPI_ISL_402130</td>\n",
       "      <td>C9534T</td>\n",
       "      <td>Zhou et al</td>\n",
       "    </tr>\n",
       "    <tr>\n",
       "      <td>12</td>\n",
       "      <td>ORF7a</td>\n",
       "      <td>nan</td>\n",
       "      <td>EPI_ISL_402120</td>\n",
       "      <td>P34S</td>\n",
       "      <td>Tan et al</td>\n",
       "    </tr>\n",
       "    <tr>\n",
       "      <td>13</td>\n",
       "      <td>nuc</td>\n",
       "      <td>nan</td>\n",
       "      <td>EPI_ISL_402120</td>\n",
       "      <td>C27493T</td>\n",
       "      <td>Tan et al</td>\n",
       "    </tr>\n",
       "    <tr>\n",
       "      <td>14</td>\n",
       "      <td>nuc</td>\n",
       "      <td>nan</td>\n",
       "      <td>EPI_ISL_402120</td>\n",
       "      <td>C28253T</td>\n",
       "      <td>Tan et al</td>\n",
       "    </tr>\n",
       "    <tr>\n",
       "      <td>15</td>\n",
       "      <td>ORF1b</td>\n",
       "      <td>nan</td>\n",
       "      <td>EPI_ISL_416425</td>\n",
       "      <td>K2160E</td>\n",
       "      <td>Yao et al</td>\n",
       "    </tr>\n",
       "    <tr>\n",
       "      <td>16</td>\n",
       "      <td>nuc</td>\n",
       "      <td>nan</td>\n",
       "      <td>EPI_ISL_416425</td>\n",
       "      <td>T1405C</td>\n",
       "      <td>Yao et al</td>\n",
       "    </tr>\n",
       "    <tr>\n",
       "      <td>17</td>\n",
       "      <td>nuc</td>\n",
       "      <td>nan</td>\n",
       "      <td>EPI_ISL_416425</td>\n",
       "      <td>G9802T</td>\n",
       "      <td>Yao et al</td>\n",
       "    </tr>\n",
       "    <tr>\n",
       "      <td>18</td>\n",
       "      <td>nuc</td>\n",
       "      <td>nan</td>\n",
       "      <td>EPI_ISL_416425</td>\n",
       "      <td>A19945G</td>\n",
       "      <td>Yao et al</td>\n",
       "    </tr>\n",
       "    <tr>\n",
       "      <td>19</td>\n",
       "      <td>nuc</td>\n",
       "      <td>nan</td>\n",
       "      <td>EPI_ISL_416425</td>\n",
       "      <td>C25267T</td>\n",
       "      <td>Yao et al</td>\n",
       "    </tr>\n",
       "    <tr>\n",
       "      <td>20</td>\n",
       "      <td>nuc</td>\n",
       "      <td>nan</td>\n",
       "      <td>EPI_ISL_416425</td>\n",
       "      <td>C27615G</td>\n",
       "      <td>Yao et al</td>\n",
       "    </tr>\n",
       "    <tr>\n",
       "      <td>21</td>\n",
       "      <td>nuc</td>\n",
       "      <td>nan</td>\n",
       "      <td>EPI_ISL_402121</td>\n",
       "      <td>G20670A</td>\n",
       "      <td>Tan et al</td>\n",
       "    </tr>\n",
       "    <tr>\n",
       "      <td>22</td>\n",
       "      <td>nuc</td>\n",
       "      <td>nan</td>\n",
       "      <td>EPI_ISL_402121</td>\n",
       "      <td>G20679A</td>\n",
       "      <td>Tan et al</td>\n",
       "    </tr>\n",
       "    <tr>\n",
       "      <td>23</td>\n",
       "      <td>ORF1a</td>\n",
       "      <td>MN996529</td>\n",
       "      <td>EPI_ISL_402128</td>\n",
       "      <td>G2251S</td>\n",
       "      <td>Zhou et al</td>\n",
       "    </tr>\n",
       "    <tr>\n",
       "      <td>24</td>\n",
       "      <td>ORF1b</td>\n",
       "      <td>MN996529</td>\n",
       "      <td>EPI_ISL_402128</td>\n",
       "      <td>K2557R</td>\n",
       "      <td>Zhou et al</td>\n",
       "    </tr>\n",
       "    <tr>\n",
       "      <td>25</td>\n",
       "      <td>nuc</td>\n",
       "      <td>MN996529</td>\n",
       "      <td>EPI_ISL_402128</td>\n",
       "      <td>G7016A</td>\n",
       "      <td>Zhou et al</td>\n",
       "    </tr>\n",
       "    <tr>\n",
       "      <td>26</td>\n",
       "      <td>nuc</td>\n",
       "      <td>MN996529</td>\n",
       "      <td>EPI_ISL_402128</td>\n",
       "      <td>A21137G</td>\n",
       "      <td>Zhou et al</td>\n",
       "    </tr>\n",
       "    <tr>\n",
       "      <td>27</td>\n",
       "      <td>ORF1a</td>\n",
       "      <td>nan</td>\n",
       "      <td>EPI_ISL_416345</td>\n",
       "      <td>P2144L</td>\n",
       "      <td>Wang et al</td>\n",
       "    </tr>\n",
       "    <tr>\n",
       "      <td>28</td>\n",
       "      <td>ORF1a</td>\n",
       "      <td>nan</td>\n",
       "      <td>EPI_ISL_416345</td>\n",
       "      <td>G2269S</td>\n",
       "      <td>Wang et al</td>\n",
       "    </tr>\n",
       "    <tr>\n",
       "      <td>29</td>\n",
       "      <td>ORF1a</td>\n",
       "      <td>nan</td>\n",
       "      <td>EPI_ISL_416345</td>\n",
       "      <td>T4304A</td>\n",
       "      <td>Wang et al</td>\n",
       "    </tr>\n",
       "    <tr>\n",
       "      <td>30</td>\n",
       "      <td>ORF7a</td>\n",
       "      <td>nan</td>\n",
       "      <td>EPI_ISL_416345</td>\n",
       "      <td>I100F</td>\n",
       "      <td>Wang et al</td>\n",
       "    </tr>\n",
       "    <tr>\n",
       "      <td>31</td>\n",
       "      <td>nuc</td>\n",
       "      <td>nan</td>\n",
       "      <td>EPI_ISL_416345</td>\n",
       "      <td>C6696T</td>\n",
       "      <td>Wang et al</td>\n",
       "    </tr>\n",
       "    <tr>\n",
       "      <td>32</td>\n",
       "      <td>nuc</td>\n",
       "      <td>nan</td>\n",
       "      <td>EPI_ISL_416345</td>\n",
       "      <td>G7070A</td>\n",
       "      <td>Wang et al</td>\n",
       "    </tr>\n",
       "    <tr>\n",
       "      <td>33</td>\n",
       "      <td>nuc</td>\n",
       "      <td>nan</td>\n",
       "      <td>EPI_ISL_416345</td>\n",
       "      <td>A13175G</td>\n",
       "      <td>Wang et al</td>\n",
       "    </tr>\n",
       "    <tr>\n",
       "      <td>34</td>\n",
       "      <td>nuc</td>\n",
       "      <td>nan</td>\n",
       "      <td>EPI_ISL_416345</td>\n",
       "      <td>A27690T</td>\n",
       "      <td>Wang et al</td>\n",
       "    </tr>\n",
       "    <tr>\n",
       "      <td>35</td>\n",
       "      <td>nuc</td>\n",
       "      <td>nan</td>\n",
       "      <td>EPI_ISL_416345</td>\n",
       "      <td>A27691T</td>\n",
       "      <td>Wang et al</td>\n",
       "    </tr>\n",
       "    <tr>\n",
       "      <td>36</td>\n",
       "      <td>nuc</td>\n",
       "      <td>nan</td>\n",
       "      <td>EPI_ISL_416345</td>\n",
       "      <td>C28887T</td>\n",
       "      <td>Wang et al</td>\n",
       "    </tr>\n",
       "    <tr>\n",
       "      <td>37</td>\n",
       "      <td>ORF1a</td>\n",
       "      <td>MT019529</td>\n",
       "      <td>EPI_ISL_402123</td>\n",
       "      <td>N2708S</td>\n",
       "      <td>Ren et al</td>\n",
       "    </tr>\n",
       "    <tr>\n",
       "      <td>38</td>\n",
       "      <td>ORF1a</td>\n",
       "      <td>MT019529</td>\n",
       "      <td>EPI_ISL_402123</td>\n",
       "      <td>F2908I</td>\n",
       "      <td>Ren et al</td>\n",
       "    </tr>\n",
       "    <tr>\n",
       "      <td>39</td>\n",
       "      <td>nuc</td>\n",
       "      <td>MT019529</td>\n",
       "      <td>EPI_ISL_402123</td>\n",
       "      <td>A3778G</td>\n",
       "      <td>Ren et al</td>\n",
       "    </tr>\n",
       "    <tr>\n",
       "      <td>40</td>\n",
       "      <td>nuc</td>\n",
       "      <td>MT019529</td>\n",
       "      <td>EPI_ISL_402123</td>\n",
       "      <td>A8388G</td>\n",
       "      <td>Ren et al</td>\n",
       "    </tr>\n",
       "    <tr>\n",
       "      <td>41</td>\n",
       "      <td>nuc</td>\n",
       "      <td>MT019529</td>\n",
       "      <td>EPI_ISL_402123</td>\n",
       "      <td>T8987A</td>\n",
       "      <td>Ren et al</td>\n",
       "    </tr>\n",
       "    <tr>\n",
       "      <td>42</td>\n",
       "      <td>ORF1b</td>\n",
       "      <td>nan</td>\n",
       "      <td>nan</td>\n",
       "      <td>P2409S</td>\n",
       "      <td>nan</td>\n",
       "    </tr>\n",
       "    <tr>\n",
       "      <td>43</td>\n",
       "      <td>ORF8</td>\n",
       "      <td>nan</td>\n",
       "      <td>nan</td>\n",
       "      <td>V114I</td>\n",
       "      <td>nan</td>\n",
       "    </tr>\n",
       "    <tr>\n",
       "      <td>44</td>\n",
       "      <td>nuc</td>\n",
       "      <td>nan</td>\n",
       "      <td>nan</td>\n",
       "      <td>C20692T</td>\n",
       "      <td>nan</td>\n",
       "    </tr>\n",
       "    <tr>\n",
       "      <td>45</td>\n",
       "      <td>nuc</td>\n",
       "      <td>nan</td>\n",
       "      <td>nan</td>\n",
       "      <td>G28233A</td>\n",
       "      <td>nan</td>\n",
       "    </tr>\n",
       "    <tr>\n",
       "      <td>46</td>\n",
       "      <td>nuc</td>\n",
       "      <td>nan</td>\n",
       "      <td>nan</td>\n",
       "      <td>A24325G</td>\n",
       "      <td>nan</td>\n",
       "    </tr>\n",
       "    <tr>\n",
       "      <td>47</td>\n",
       "      <td>nuc</td>\n",
       "      <td>nan</td>\n",
       "      <td>nan</td>\n",
       "      <td>C8782T</td>\n",
       "      <td>nan</td>\n",
       "    </tr>\n",
       "    <tr>\n",
       "      <td>48</td>\n",
       "      <td>ORF1b</td>\n",
       "      <td>nan</td>\n",
       "      <td>nan</td>\n",
       "      <td>P314L</td>\n",
       "      <td>nan</td>\n",
       "    </tr>\n",
       "    <tr>\n",
       "      <td>49</td>\n",
       "      <td>nuc</td>\n",
       "      <td>nan</td>\n",
       "      <td>nan</td>\n",
       "      <td>C241T</td>\n",
       "      <td>nan</td>\n",
       "    </tr>\n",
       "    <tr>\n",
       "      <td>50</td>\n",
       "      <td>nuc</td>\n",
       "      <td>nan</td>\n",
       "      <td>nan</td>\n",
       "      <td>C14408T</td>\n",
       "      <td>nan</td>\n",
       "    </tr>\n",
       "  </tbody>\n",
       "</table>\n",
       "</div>"
      ],
      "text/plain": [
       "     gene genbank_accession  gisaid_epi_isl mutations      author\n",
       "0   ORF1a          LR757998  EPI_ISL_406798    L2235I  Chen et al\n",
       "1   ORF1a          LR757998  EPI_ISL_406798    N3833K  Chen et al\n",
       "2     nuc          LR757998  EPI_ISL_406798    C6968A  Chen et al\n",
       "3     nuc          LR757998  EPI_ISL_406798   T11764A  Chen et al\n",
       "4   ORF1a          MT019531  EPI_ISL_403930    I2244T   Ren et al\n",
       "5     nuc          MT019531  EPI_ISL_403930    T6996C   Ren et al\n",
       "6       S               nan  EPI_ISL_402132      F32I  Fang et al\n",
       "7     nuc               nan  EPI_ISL_402132   T21656A  Fang et al\n",
       "8   ORF1a          MN996531  EPI_ISL_402130    D2579A  Zhou et al\n",
       "9   ORF1a          MN996531  EPI_ISL_402130    T3090I  Zhou et al\n",
       "10    nuc          MN996531  EPI_ISL_402130    A8001C  Zhou et al\n",
       "11    nuc          MN996531  EPI_ISL_402130    C9534T  Zhou et al\n",
       "12  ORF7a               nan  EPI_ISL_402120      P34S   Tan et al\n",
       "13    nuc               nan  EPI_ISL_402120   C27493T   Tan et al\n",
       "14    nuc               nan  EPI_ISL_402120   C28253T   Tan et al\n",
       "15  ORF1b               nan  EPI_ISL_416425    K2160E   Yao et al\n",
       "16    nuc               nan  EPI_ISL_416425    T1405C   Yao et al\n",
       "17    nuc               nan  EPI_ISL_416425    G9802T   Yao et al\n",
       "18    nuc               nan  EPI_ISL_416425   A19945G   Yao et al\n",
       "19    nuc               nan  EPI_ISL_416425   C25267T   Yao et al\n",
       "20    nuc               nan  EPI_ISL_416425   C27615G   Yao et al\n",
       "21    nuc               nan  EPI_ISL_402121   G20670A   Tan et al\n",
       "22    nuc               nan  EPI_ISL_402121   G20679A   Tan et al\n",
       "23  ORF1a          MN996529  EPI_ISL_402128    G2251S  Zhou et al\n",
       "24  ORF1b          MN996529  EPI_ISL_402128    K2557R  Zhou et al\n",
       "25    nuc          MN996529  EPI_ISL_402128    G7016A  Zhou et al\n",
       "26    nuc          MN996529  EPI_ISL_402128   A21137G  Zhou et al\n",
       "27  ORF1a               nan  EPI_ISL_416345    P2144L  Wang et al\n",
       "28  ORF1a               nan  EPI_ISL_416345    G2269S  Wang et al\n",
       "29  ORF1a               nan  EPI_ISL_416345    T4304A  Wang et al\n",
       "30  ORF7a               nan  EPI_ISL_416345     I100F  Wang et al\n",
       "31    nuc               nan  EPI_ISL_416345    C6696T  Wang et al\n",
       "32    nuc               nan  EPI_ISL_416345    G7070A  Wang et al\n",
       "33    nuc               nan  EPI_ISL_416345   A13175G  Wang et al\n",
       "34    nuc               nan  EPI_ISL_416345   A27690T  Wang et al\n",
       "35    nuc               nan  EPI_ISL_416345   A27691T  Wang et al\n",
       "36    nuc               nan  EPI_ISL_416345   C28887T  Wang et al\n",
       "37  ORF1a          MT019529  EPI_ISL_402123    N2708S   Ren et al\n",
       "38  ORF1a          MT019529  EPI_ISL_402123    F2908I   Ren et al\n",
       "39    nuc          MT019529  EPI_ISL_402123    A3778G   Ren et al\n",
       "40    nuc          MT019529  EPI_ISL_402123    A8388G   Ren et al\n",
       "41    nuc          MT019529  EPI_ISL_402123    T8987A   Ren et al\n",
       "42  ORF1b               nan             nan    P2409S         nan\n",
       "43   ORF8               nan             nan     V114I         nan\n",
       "44    nuc               nan             nan   C20692T         nan\n",
       "45    nuc               nan             nan   G28233A         nan\n",
       "46    nuc               nan             nan   A24325G         nan\n",
       "47    nuc               nan             nan    C8782T         nan\n",
       "48  ORF1b               nan             nan     P314L         nan\n",
       "49    nuc               nan             nan     C241T         nan\n",
       "50    nuc               nan             nan   C14408T         nan"
      ]
     },
     "execution_count": 243,
     "metadata": {},
     "output_type": "execute_result"
    }
   ],
   "source": [
    "df_result"
   ]
  },
  {
   "cell_type": "code",
   "execution_count": 244,
   "metadata": {},
   "outputs": [],
   "source": [
    "df_result.to_csv(\"mutations_nexstrain.csv\",index=False)"
   ]
  },
  {
   "cell_type": "code",
   "execution_count": 182,
   "metadata": {},
   "outputs": [
    {
     "name": "stdout",
     "output_type": "stream",
     "text": [
      "/Users/barradd/Documents/BARRADD_Things/VirtualHackatonCoV19\n"
     ]
    }
   ],
   "source": [
    "!pwd"
   ]
  },
  {
   "cell_type": "code",
   "execution_count": 187,
   "metadata": {},
   "outputs": [],
   "source": [
    "genome_annotation = pd.DataFrame(my_response[\"meta\"][\"genome_annotations\"])"
   ]
  },
  {
   "cell_type": "code",
   "execution_count": 213,
   "metadata": {},
   "outputs": [
    {
     "data": {
      "text/html": [
       "<div>\n",
       "<style scoped>\n",
       "    .dataframe tbody tr th:only-of-type {\n",
       "        vertical-align: middle;\n",
       "    }\n",
       "\n",
       "    .dataframe tbody tr th {\n",
       "        vertical-align: top;\n",
       "    }\n",
       "\n",
       "    .dataframe thead th {\n",
       "        text-align: right;\n",
       "    }\n",
       "</style>\n",
       "<table border=\"1\" class=\"dataframe\">\n",
       "  <thead>\n",
       "    <tr style=\"text-align: right;\">\n",
       "      <th></th>\n",
       "      <th>end</th>\n",
       "      <th>start</th>\n",
       "      <th>strand</th>\n",
       "      <th>type</th>\n",
       "    </tr>\n",
       "  </thead>\n",
       "  <tbody>\n",
       "    <tr>\n",
       "      <td>E</td>\n",
       "      <td>26472</td>\n",
       "      <td>26245</td>\n",
       "      <td>+</td>\n",
       "      <td>CDS</td>\n",
       "    </tr>\n",
       "    <tr>\n",
       "      <td>M</td>\n",
       "      <td>27191</td>\n",
       "      <td>26523</td>\n",
       "      <td>+</td>\n",
       "      <td>CDS</td>\n",
       "    </tr>\n",
       "    <tr>\n",
       "      <td>N</td>\n",
       "      <td>29533</td>\n",
       "      <td>28274</td>\n",
       "      <td>+</td>\n",
       "      <td>CDS</td>\n",
       "    </tr>\n",
       "    <tr>\n",
       "      <td>ORF10</td>\n",
       "      <td>29674</td>\n",
       "      <td>29558</td>\n",
       "      <td>+</td>\n",
       "      <td>CDS</td>\n",
       "    </tr>\n",
       "    <tr>\n",
       "      <td>ORF14</td>\n",
       "      <td>28955</td>\n",
       "      <td>28734</td>\n",
       "      <td>+</td>\n",
       "      <td>CDS</td>\n",
       "    </tr>\n",
       "    <tr>\n",
       "      <td>ORF1a</td>\n",
       "      <td>13468</td>\n",
       "      <td>266</td>\n",
       "      <td>+</td>\n",
       "      <td>CDS</td>\n",
       "    </tr>\n",
       "    <tr>\n",
       "      <td>ORF1b</td>\n",
       "      <td>21555</td>\n",
       "      <td>13468</td>\n",
       "      <td>+</td>\n",
       "      <td>CDS</td>\n",
       "    </tr>\n",
       "    <tr>\n",
       "      <td>ORF3a</td>\n",
       "      <td>26220</td>\n",
       "      <td>25393</td>\n",
       "      <td>+</td>\n",
       "      <td>CDS</td>\n",
       "    </tr>\n",
       "    <tr>\n",
       "      <td>ORF6</td>\n",
       "      <td>27387</td>\n",
       "      <td>27202</td>\n",
       "      <td>+</td>\n",
       "      <td>CDS</td>\n",
       "    </tr>\n",
       "    <tr>\n",
       "      <td>ORF7a</td>\n",
       "      <td>27759</td>\n",
       "      <td>27394</td>\n",
       "      <td>+</td>\n",
       "      <td>CDS</td>\n",
       "    </tr>\n",
       "    <tr>\n",
       "      <td>ORF7b</td>\n",
       "      <td>27887</td>\n",
       "      <td>27756</td>\n",
       "      <td>+</td>\n",
       "      <td>CDS</td>\n",
       "    </tr>\n",
       "    <tr>\n",
       "      <td>ORF8</td>\n",
       "      <td>28259</td>\n",
       "      <td>27894</td>\n",
       "      <td>+</td>\n",
       "      <td>CDS</td>\n",
       "    </tr>\n",
       "    <tr>\n",
       "      <td>ORF9b</td>\n",
       "      <td>28577</td>\n",
       "      <td>28284</td>\n",
       "      <td>+</td>\n",
       "      <td>CDS</td>\n",
       "    </tr>\n",
       "    <tr>\n",
       "      <td>S</td>\n",
       "      <td>25384</td>\n",
       "      <td>21563</td>\n",
       "      <td>+</td>\n",
       "      <td>CDS</td>\n",
       "    </tr>\n",
       "    <tr>\n",
       "      <td>nuc</td>\n",
       "      <td>29903</td>\n",
       "      <td>1</td>\n",
       "      <td>+</td>\n",
       "      <td>source</td>\n",
       "    </tr>\n",
       "  </tbody>\n",
       "</table>\n",
       "</div>"
      ],
      "text/plain": [
       "         end  start strand    type\n",
       "E      26472  26245      +     CDS\n",
       "M      27191  26523      +     CDS\n",
       "N      29533  28274      +     CDS\n",
       "ORF10  29674  29558      +     CDS\n",
       "ORF14  28955  28734      +     CDS\n",
       "ORF1a  13468    266      +     CDS\n",
       "ORF1b  21555  13468      +     CDS\n",
       "ORF3a  26220  25393      +     CDS\n",
       "ORF6   27387  27202      +     CDS\n",
       "ORF7a  27759  27394      +     CDS\n",
       "ORF7b  27887  27756      +     CDS\n",
       "ORF8   28259  27894      +     CDS\n",
       "ORF9b  28577  28284      +     CDS\n",
       "S      25384  21563      +     CDS\n",
       "nuc    29903      1      +  source"
      ]
     },
     "execution_count": 213,
     "metadata": {},
     "output_type": "execute_result"
    }
   ],
   "source": [
    "genome_annotation.T.drop([\"seqid\"],axis=1)"
   ]
  },
  {
   "cell_type": "code",
   "execution_count": 195,
   "metadata": {},
   "outputs": [
    {
     "data": {
      "text/plain": [
       "dict_keys(['build_url', 'colorings', 'description', 'display_defaults', 'filters', 'genome_annotations', 'geo_resolutions', 'maintainers', 'panels', 'title', 'updated'])"
      ]
     },
     "execution_count": 195,
     "metadata": {},
     "output_type": "execute_result"
    }
   ],
   "source": [
    "my_response[\"meta\"].keys()"
   ]
  },
  {
   "cell_type": "code",
   "execution_count": 203,
   "metadata": {},
   "outputs": [],
   "source": [
    "# def parse_json(input_file):\n",
    "#     ''' Wrapper to colect the data from parse_node. Currently, results are organized as a list for each isolate. First field contains isolate name, second field mutation data and third field all the metadata'''\n",
    "\n",
    "#     data = []\n",
    "\n",
    "#     def parse_node(input_file, array):    \n",
    "#         '''\n",
    "#         Search recursively across a json dictionary and return the keys corresponding to name, branch_attrs (mutations info), node_attrs (metadata, e.g. authors).\n",
    "#         ''' \n",
    "#         for record in input_file['children']:\n",
    "#             isolate = record['name']                   \n",
    "#             if 'branch_attrs' in record.keys():\n",
    "#                 mutations = record['branch_attrs']['mutations'] \n",
    "#             else:\n",
    "#                 mutations = []\n",
    "#             if 'node_attrs' in record.keys():\n",
    "#                 metadata = record['node_attrs'] \n",
    "#             else:\n",
    "#                 metadata = []\n",
    "#             array.append([isolate, mutations, metadata])\n",
    "#             if 'children' in record.keys():\n",
    "#                 parse_node(record, array)\n",
    "#         return array\n",
    "\n",
    "#     results = parse_node(input_file, data)\n",
    "#     return results\n",
    "\n",
    "# def get_nextstrain_data():\n",
    "#     ''' Fetch data from nextstrain raw data site.'''\n",
    "\n",
    "#     url = 'https://data.nextstrain.org/ncov.json'\n",
    "#     r = requests.get(url)\n",
    "#     nextstrain_json = r.json()\n",
    "#     results = parse_json(nextstrain_json['tree'])\n",
    "#     return results\n",
    "\n",
    "# if __name__ == '__main__':\n",
    "#     results = get_nextstrain_data()\n",
    "#     print(results)"
   ]
  },
  {
   "cell_type": "code",
   "execution_count": 223,
   "metadata": {},
   "outputs": [],
   "source": [
    "# uniprot = \"https://covid-19.uniprot.org/uniprotkb?query=*\""
   ]
  },
  {
   "cell_type": "code",
   "execution_count": 224,
   "metadata": {},
   "outputs": [],
   "source": [
    "# params = {\"Gene Names\":\"S\"}\n",
    "# uni_response = requests.get(uniprot ,params=params)"
   ]
  },
  {
   "cell_type": "code",
   "execution_count": 225,
   "metadata": {},
   "outputs": [
    {
     "data": {
      "text/plain": [
       "200"
      ]
     },
     "execution_count": 225,
     "metadata": {},
     "output_type": "execute_result"
    }
   ],
   "source": [
    "# uni_response.status_code"
   ]
  },
  {
   "cell_type": "code",
   "execution_count": 217,
   "metadata": {},
   "outputs": [
    {
     "ename": "JSONDecodeError",
     "evalue": "Expecting value: line 1 column 1 (char 0)",
     "output_type": "error",
     "traceback": [
      "\u001b[0;31m---------------------------------------------------------------------------\u001b[0m",
      "\u001b[0;31mJSONDecodeError\u001b[0m                           Traceback (most recent call last)",
      "\u001b[0;32m<ipython-input-217-3d66c35c2e41>\u001b[0m in \u001b[0;36m<module>\u001b[0;34m\u001b[0m\n\u001b[1;32m      4\u001b[0m     \u001b[0;32mreturn\u001b[0m\u001b[0;34m(\u001b[0m\u001b[0mtext\u001b[0m\u001b[0;34m)\u001b[0m\u001b[0;34m\u001b[0m\u001b[0;34m\u001b[0m\u001b[0m\n\u001b[1;32m      5\u001b[0m \u001b[0;34m\u001b[0m\u001b[0m\n\u001b[0;32m----> 6\u001b[0;31m \u001b[0mjprint\u001b[0m\u001b[0;34m(\u001b[0m\u001b[0muni_response\u001b[0m\u001b[0;34m.\u001b[0m\u001b[0mjson\u001b[0m\u001b[0;34m(\u001b[0m\u001b[0;34m)\u001b[0m\u001b[0;34m)\u001b[0m\u001b[0;34m\u001b[0m\u001b[0;34m\u001b[0m\u001b[0m\n\u001b[0m",
      "\u001b[0;32m~/anaconda2/envs/scrappingweb/lib/python3.7/site-packages/requests/models.py\u001b[0m in \u001b[0;36mjson\u001b[0;34m(self, **kwargs)\u001b[0m\n\u001b[1;32m    896\u001b[0m                     \u001b[0;31m# used.\u001b[0m\u001b[0;34m\u001b[0m\u001b[0;34m\u001b[0m\u001b[0;34m\u001b[0m\u001b[0m\n\u001b[1;32m    897\u001b[0m                     \u001b[0;32mpass\u001b[0m\u001b[0;34m\u001b[0m\u001b[0;34m\u001b[0m\u001b[0m\n\u001b[0;32m--> 898\u001b[0;31m         \u001b[0;32mreturn\u001b[0m \u001b[0mcomplexjson\u001b[0m\u001b[0;34m.\u001b[0m\u001b[0mloads\u001b[0m\u001b[0;34m(\u001b[0m\u001b[0mself\u001b[0m\u001b[0;34m.\u001b[0m\u001b[0mtext\u001b[0m\u001b[0;34m,\u001b[0m \u001b[0;34m**\u001b[0m\u001b[0mkwargs\u001b[0m\u001b[0;34m)\u001b[0m\u001b[0;34m\u001b[0m\u001b[0;34m\u001b[0m\u001b[0m\n\u001b[0m\u001b[1;32m    899\u001b[0m \u001b[0;34m\u001b[0m\u001b[0m\n\u001b[1;32m    900\u001b[0m     \u001b[0;34m@\u001b[0m\u001b[0mproperty\u001b[0m\u001b[0;34m\u001b[0m\u001b[0;34m\u001b[0m\u001b[0m\n",
      "\u001b[0;32m~/anaconda2/envs/scrappingweb/lib/python3.7/json/__init__.py\u001b[0m in \u001b[0;36mloads\u001b[0;34m(s, encoding, cls, object_hook, parse_float, parse_int, parse_constant, object_pairs_hook, **kw)\u001b[0m\n\u001b[1;32m    346\u001b[0m             \u001b[0mparse_int\u001b[0m \u001b[0;32mis\u001b[0m \u001b[0;32mNone\u001b[0m \u001b[0;32mand\u001b[0m \u001b[0mparse_float\u001b[0m \u001b[0;32mis\u001b[0m \u001b[0;32mNone\u001b[0m \u001b[0;32mand\u001b[0m\u001b[0;34m\u001b[0m\u001b[0;34m\u001b[0m\u001b[0m\n\u001b[1;32m    347\u001b[0m             parse_constant is None and object_pairs_hook is None and not kw):\n\u001b[0;32m--> 348\u001b[0;31m         \u001b[0;32mreturn\u001b[0m \u001b[0m_default_decoder\u001b[0m\u001b[0;34m.\u001b[0m\u001b[0mdecode\u001b[0m\u001b[0;34m(\u001b[0m\u001b[0ms\u001b[0m\u001b[0;34m)\u001b[0m\u001b[0;34m\u001b[0m\u001b[0;34m\u001b[0m\u001b[0m\n\u001b[0m\u001b[1;32m    349\u001b[0m     \u001b[0;32mif\u001b[0m \u001b[0mcls\u001b[0m \u001b[0;32mis\u001b[0m \u001b[0;32mNone\u001b[0m\u001b[0;34m:\u001b[0m\u001b[0;34m\u001b[0m\u001b[0;34m\u001b[0m\u001b[0m\n\u001b[1;32m    350\u001b[0m         \u001b[0mcls\u001b[0m \u001b[0;34m=\u001b[0m \u001b[0mJSONDecoder\u001b[0m\u001b[0;34m\u001b[0m\u001b[0;34m\u001b[0m\u001b[0m\n",
      "\u001b[0;32m~/anaconda2/envs/scrappingweb/lib/python3.7/json/decoder.py\u001b[0m in \u001b[0;36mdecode\u001b[0;34m(self, s, _w)\u001b[0m\n\u001b[1;32m    335\u001b[0m \u001b[0;34m\u001b[0m\u001b[0m\n\u001b[1;32m    336\u001b[0m         \"\"\"\n\u001b[0;32m--> 337\u001b[0;31m         \u001b[0mobj\u001b[0m\u001b[0;34m,\u001b[0m \u001b[0mend\u001b[0m \u001b[0;34m=\u001b[0m \u001b[0mself\u001b[0m\u001b[0;34m.\u001b[0m\u001b[0mraw_decode\u001b[0m\u001b[0;34m(\u001b[0m\u001b[0ms\u001b[0m\u001b[0;34m,\u001b[0m \u001b[0midx\u001b[0m\u001b[0;34m=\u001b[0m\u001b[0m_w\u001b[0m\u001b[0;34m(\u001b[0m\u001b[0ms\u001b[0m\u001b[0;34m,\u001b[0m \u001b[0;36m0\u001b[0m\u001b[0;34m)\u001b[0m\u001b[0;34m.\u001b[0m\u001b[0mend\u001b[0m\u001b[0;34m(\u001b[0m\u001b[0;34m)\u001b[0m\u001b[0;34m)\u001b[0m\u001b[0;34m\u001b[0m\u001b[0;34m\u001b[0m\u001b[0m\n\u001b[0m\u001b[1;32m    338\u001b[0m         \u001b[0mend\u001b[0m \u001b[0;34m=\u001b[0m \u001b[0m_w\u001b[0m\u001b[0;34m(\u001b[0m\u001b[0ms\u001b[0m\u001b[0;34m,\u001b[0m \u001b[0mend\u001b[0m\u001b[0;34m)\u001b[0m\u001b[0;34m.\u001b[0m\u001b[0mend\u001b[0m\u001b[0;34m(\u001b[0m\u001b[0;34m)\u001b[0m\u001b[0;34m\u001b[0m\u001b[0;34m\u001b[0m\u001b[0m\n\u001b[1;32m    339\u001b[0m         \u001b[0;32mif\u001b[0m \u001b[0mend\u001b[0m \u001b[0;34m!=\u001b[0m \u001b[0mlen\u001b[0m\u001b[0;34m(\u001b[0m\u001b[0ms\u001b[0m\u001b[0;34m)\u001b[0m\u001b[0;34m:\u001b[0m\u001b[0;34m\u001b[0m\u001b[0;34m\u001b[0m\u001b[0m\n",
      "\u001b[0;32m~/anaconda2/envs/scrappingweb/lib/python3.7/json/decoder.py\u001b[0m in \u001b[0;36mraw_decode\u001b[0;34m(self, s, idx)\u001b[0m\n\u001b[1;32m    353\u001b[0m             \u001b[0mobj\u001b[0m\u001b[0;34m,\u001b[0m \u001b[0mend\u001b[0m \u001b[0;34m=\u001b[0m \u001b[0mself\u001b[0m\u001b[0;34m.\u001b[0m\u001b[0mscan_once\u001b[0m\u001b[0;34m(\u001b[0m\u001b[0ms\u001b[0m\u001b[0;34m,\u001b[0m \u001b[0midx\u001b[0m\u001b[0;34m)\u001b[0m\u001b[0;34m\u001b[0m\u001b[0;34m\u001b[0m\u001b[0m\n\u001b[1;32m    354\u001b[0m         \u001b[0;32mexcept\u001b[0m \u001b[0mStopIteration\u001b[0m \u001b[0;32mas\u001b[0m \u001b[0merr\u001b[0m\u001b[0;34m:\u001b[0m\u001b[0;34m\u001b[0m\u001b[0;34m\u001b[0m\u001b[0m\n\u001b[0;32m--> 355\u001b[0;31m             \u001b[0;32mraise\u001b[0m \u001b[0mJSONDecodeError\u001b[0m\u001b[0;34m(\u001b[0m\u001b[0;34m\"Expecting value\"\u001b[0m\u001b[0;34m,\u001b[0m \u001b[0ms\u001b[0m\u001b[0;34m,\u001b[0m \u001b[0merr\u001b[0m\u001b[0;34m.\u001b[0m\u001b[0mvalue\u001b[0m\u001b[0;34m)\u001b[0m \u001b[0;32mfrom\u001b[0m \u001b[0;32mNone\u001b[0m\u001b[0;34m\u001b[0m\u001b[0;34m\u001b[0m\u001b[0m\n\u001b[0m\u001b[1;32m    356\u001b[0m         \u001b[0;32mreturn\u001b[0m \u001b[0mobj\u001b[0m\u001b[0;34m,\u001b[0m \u001b[0mend\u001b[0m\u001b[0;34m\u001b[0m\u001b[0;34m\u001b[0m\u001b[0m\n",
      "\u001b[0;31mJSONDecodeError\u001b[0m: Expecting value: line 1 column 1 (char 0)"
     ]
    }
   ],
   "source": [
    "# def jprint(obj):\n",
    "#     # create a formatted string of the Python JSON object\n",
    "#     text = json.dumps(obj, sort_keys=True, indent=4)\n",
    "#     return(text)\n",
    "\n",
    "# jprint(uni_response.json())"
   ]
  },
  {
   "cell_type": "code",
   "execution_count": 227,
   "metadata": {},
   "outputs": [],
   "source": [
    "uniprot_table = pd.read_csv(\"data/uniprot_table_covid19.tsv\",sep='\\t')"
   ]
  },
  {
   "cell_type": "code",
   "execution_count": 228,
   "metadata": {},
   "outputs": [
    {
     "data": {
      "text/plain": [
       "Index(['Entry', 'Reviewed', 'Entry Name', 'Protein names', 'Gene Names',\n",
       "       'Organism', 'Gene Names (ORF)'],\n",
       "      dtype='object')"
      ]
     },
     "execution_count": 228,
     "metadata": {},
     "output_type": "execute_result"
    }
   ],
   "source": [
    "uniprot_table.columns"
   ]
  },
  {
   "cell_type": "code",
   "execution_count": 231,
   "metadata": {},
   "outputs": [
    {
     "data": {
      "text/plain": [
       "array([nan, 'UNQ868/PRO1885', '1a', '1a-1b', '2', '9a', '5', '3a', '3b',\n",
       "       '6', '7a', '9b', '4', '8a', '7b', 'ORF14', '8b'], dtype=object)"
      ]
     },
     "execution_count": 231,
     "metadata": {},
     "output_type": "execute_result"
    }
   ],
   "source": [
    "uniprot_table['Gene Names (ORF)'].unique()"
   ]
  },
  {
   "cell_type": "code",
   "execution_count": 232,
   "metadata": {},
   "outputs": [
    {
     "data": {
      "text/plain": [
       "array(['TMPRSS2 PRSS10', 'SGTA SGT SGT1', 'ITGAL CD11A', 'PHB',\n",
       "       'SMAD3 MADH3', 'MPP5 PALS1', 'DDX1', 'PHB2 BAP REA',\n",
       "       'ACE2 UNQ868/PRO1885', '1a', 'rep 1a-1b', 'S 2', 'N 9a', 'M 5',\n",
       "       '3a', '3b', '6', '7a', '9b', 'E sM 4', '8a', '7b', 'ORF14', '8b',\n",
       "       'ORF10', nan, 'E 4', 'N'], dtype=object)"
      ]
     },
     "execution_count": 232,
     "metadata": {},
     "output_type": "execute_result"
    }
   ],
   "source": [
    "uniprot_table['Gene Names'].unique()"
   ]
  },
  {
   "cell_type": "code",
   "execution_count": 233,
   "metadata": {},
   "outputs": [
    {
     "data": {
      "text/plain": [
       "array(['Transmembrane protease serine 2, EC 3.4.21.- (Serine protease 10) [Cleaved into: Transmembrane protease serine 2 non-catalytic chain; Transmembrane protease serine 2 catalytic chain ]',\n",
       "       'Small glutamine-rich tetratricopeptide repeat-containing protein alpha (Alpha-SGT) (Vpu-binding protein, UBP)',\n",
       "       'Integrin alpha-L (CD11 antigen-like family member A) (Leukocyte adhesion glycoprotein LFA-1 alpha chain, LFA-1A) (Leukocyte function-associated molecule 1 alpha chain) (CD antigen CD11a)',\n",
       "       'Prohibitin',\n",
       "       'Mothers against decapentaplegic homolog 3, MAD homolog 3, Mad3, Mothers against DPP homolog 3, hMAD-3 (JV15-2) (SMAD family member 3, SMAD 3, Smad3, hSMAD3)',\n",
       "       'MAGUK p55 subfamily member 5',\n",
       "       'ATP-dependent RNA helicase DDX1, EC 3.6.4.13 (DEAD box protein 1) (DEAD box protein retinoblastoma, DBP-RB)',\n",
       "       'Prohibitin-2 (B-cell receptor-associated protein BAP37) (D-prohibitin) (Repressor of estrogen receptor activity)',\n",
       "       'Angiotensin-converting enzyme 2, EC 3.4.17.23 (ACE-related carboxypeptidase, EC 3.4.17.-) (Angiotensin-converting enzyme homolog, ACEH) (Metalloprotease MPROT15) [Cleaved into: Processed angiotensin-converting enzyme 2 ]',\n",
       "       'Replicase polyprotein 1a, pp1a (ORF1a polyprotein) [Cleaved into: Non-structural protein 1, nsp1 (Leader protein); Non-structural protein 2, nsp2 (p65 homolog); Non-structural protein 3, nsp3, EC 3.4.19.12, EC 3.4.22.- (PL2-PRO) (Papain-like proteinase, PL-PRO) (SARS coronavirus main proteinase); Non-structural protein 4, nsp4; 3C-like proteinase, 3CL-PRO, 3CLp, EC 3.4.22.69 (nsp5); Non-structural protein 6, nsp6; Non-structural protein 7, nsp7; Non-structural protein 8, nsp8; Non-structural protein 9, nsp9; Non-structural protein 10, nsp10 (Growth factor-like peptide, GFL); Non-structural protein 11, nsp11 ]',\n",
       "       \"Replicase polyprotein 1ab, pp1ab (ORF1ab polyprotein) [Cleaved into: Host translation inhibitor nsp1, nsp1 (Leader protein); Non-structural protein 2, nsp2 (p65 homolog); Non-structural protein 3, nsp3, EC 3.4.19.12, EC 3.4.22.69 (PL2-PRO) (Papain-like proteinase, PL-PRO) (SARS coronavirus main proteinase); Non-structural protein 4, nsp4; 3C-like proteinase, 3CL-PRO, 3CLp, EC 3.4.22.- (nsp5); Non-structural protein 6, nsp6; Non-structural protein 7, nsp7; Non-structural protein 8, nsp8; Non-structural protein 9, nsp9; Non-structural protein 10, nsp10 (Growth factor-like peptide, GFL); RNA-directed RNA polymerase, Pol, RdRp, EC 2.7.7.48 (nsp12); Helicase, Hel, EC 3.6.4.12, EC 3.6.4.13 (nsp13); Proofreading exoribonuclease, ExoN, EC 2.1.1.-, EC 3.1.13.- (Guanine-N7 methyltransferase) (Non-structural protein 14, nsp14); Uridylate-specific endoribonuclease, EC 3.1.-.- (NendoU) (nsp15); 2'-O-methyltransferase, EC 2.1.1.- (nsp16) ]\",\n",
       "       \"Spike glycoprotein, S glycoprotein (E2) (Peplomer protein) [Cleaved into: Spike protein S1; Spike protein S2; Spike protein S2' ]\",\n",
       "       'Nucleoprotein (Nucleocapsid protein, NC, Protein N)',\n",
       "       'Membrane protein, M protein (E1 glycoprotein) (Matrix glycoprotein) (Membrane glycoprotein)',\n",
       "       'Protein 3a (Accessory protein 3a) (Protein U274) (Protein X1)',\n",
       "       'Non-structural protein 3b, ns3b (Accessory protein 3b) (Protein X2)',\n",
       "       'Non-structural protein 6, ns6 (Accessory protein 6) (Protein X3)',\n",
       "       'Protein 7a (Accessory protein 7a) (Protein U122) (Protein X4)',\n",
       "       'Protein 9b (Accessory protein 9b) (ORF-9b)',\n",
       "       'Envelope small membrane protein, E protein, sM protein',\n",
       "       'Protein non-structural 8a, ns8a (Accessory protein 8a)',\n",
       "       'Protein non-structural 7b, ns7b (Accessory protein 7b)',\n",
       "       'Uncharacterized protein 14',\n",
       "       'Non-structural protein 8b, ns8b (Accessory protein 8b)',\n",
       "       'ORF10 protein', 'Non-structural protein 8, ns8',\n",
       "       \"Replicase polyprotein 1ab, pp1ab (ORF1ab polyprotein) [Cleaved into: Host translation inhibitor nsp1, nsp1 (Leader protein); Non-structural protein 2, nsp2 (p65 homolog); Non-structural protein 3, nsp3, EC 3.4.19.12, EC 3.4.22.- (PL2-PRO) (Papain-like proteinase, PL-PRO) (SARS coronavirus main proteinase); Non-structural protein 4, nsp4; 3C-like proteinase, 3CL-PRO, 3CLp, EC 3.4.22.69 (nsp5); Non-structural protein 6, nsp6; Non-structural protein 7, nsp7; Non-structural protein 8, nsp8; Non-structural protein 9, nsp9; Non-structural protein 10, nsp10 (Growth factor-like peptide, GFL); RNA-directed RNA polymerase, Pol, RdRp, EC 2.7.7.48 (nsp12); Helicase, Hel, EC 3.6.4.12, EC 3.6.4.13 (nsp13); Proofreading exoribonuclease, ExoN, EC 3.1.13.- (Guanine-N7 methyltransferase) (Non-structural protein 14, nsp14); Uridylate-specific endoribonuclease, EC 3.1.-.- (NendoU) (nsp15); 2'-O-methyltransferase, EC 2.1.1.- (nsp16) ]\"],\n",
       "      dtype=object)"
      ]
     },
     "execution_count": 233,
     "metadata": {},
     "output_type": "execute_result"
    }
   ],
   "source": [
    "uniprot_table['Protein names'].unique()"
   ]
  },
  {
   "cell_type": "code",
   "execution_count": 230,
   "metadata": {},
   "outputs": [
    {
     "data": {
      "text/plain": [
       "array(['ORF1a', 'nuc', 'S', 'ORF7a', 'ORF1b', 'ORF8'], dtype=object)"
      ]
     },
     "execution_count": 230,
     "metadata": {},
     "output_type": "execute_result"
    }
   ],
   "source": [
    "df_result.gene.unique()"
   ]
  },
  {
   "cell_type": "code",
   "execution_count": 234,
   "metadata": {},
   "outputs": [
    {
     "data": {
      "text/html": [
       "<div>\n",
       "<style scoped>\n",
       "    .dataframe tbody tr th:only-of-type {\n",
       "        vertical-align: middle;\n",
       "    }\n",
       "\n",
       "    .dataframe tbody tr th {\n",
       "        vertical-align: top;\n",
       "    }\n",
       "\n",
       "    .dataframe thead th {\n",
       "        text-align: right;\n",
       "    }\n",
       "</style>\n",
       "<table border=\"1\" class=\"dataframe\">\n",
       "  <thead>\n",
       "    <tr style=\"text-align: right;\">\n",
       "      <th></th>\n",
       "      <th>Entry</th>\n",
       "      <th>Reviewed</th>\n",
       "      <th>Entry Name</th>\n",
       "      <th>Protein names</th>\n",
       "      <th>Gene Names</th>\n",
       "      <th>Organism</th>\n",
       "      <th>Gene Names (ORF)</th>\n",
       "    </tr>\n",
       "  </thead>\n",
       "  <tbody>\n",
       "    <tr>\n",
       "      <td>0</td>\n",
       "      <td>O15393</td>\n",
       "      <td>reviewed</td>\n",
       "      <td>TMPS2_HUMAN</td>\n",
       "      <td>Transmembrane protease serine 2, EC 3.4.21.- (...</td>\n",
       "      <td>TMPRSS2 PRSS10</td>\n",
       "      <td>Homo sapiens (Human)</td>\n",
       "      <td>NaN</td>\n",
       "    </tr>\n",
       "    <tr>\n",
       "      <td>1</td>\n",
       "      <td>O43765</td>\n",
       "      <td>reviewed</td>\n",
       "      <td>SGTA_HUMAN</td>\n",
       "      <td>Small glutamine-rich tetratricopeptide repeat-...</td>\n",
       "      <td>SGTA SGT SGT1</td>\n",
       "      <td>Homo sapiens (Human)</td>\n",
       "      <td>NaN</td>\n",
       "    </tr>\n",
       "    <tr>\n",
       "      <td>2</td>\n",
       "      <td>P20701</td>\n",
       "      <td>reviewed</td>\n",
       "      <td>ITAL_HUMAN</td>\n",
       "      <td>Integrin alpha-L (CD11 antigen-like family mem...</td>\n",
       "      <td>ITGAL CD11A</td>\n",
       "      <td>Homo sapiens (Human)</td>\n",
       "      <td>NaN</td>\n",
       "    </tr>\n",
       "    <tr>\n",
       "      <td>3</td>\n",
       "      <td>P35232</td>\n",
       "      <td>reviewed</td>\n",
       "      <td>PHB_HUMAN</td>\n",
       "      <td>Prohibitin</td>\n",
       "      <td>PHB</td>\n",
       "      <td>Homo sapiens (Human)</td>\n",
       "      <td>NaN</td>\n",
       "    </tr>\n",
       "    <tr>\n",
       "      <td>4</td>\n",
       "      <td>P84022</td>\n",
       "      <td>reviewed</td>\n",
       "      <td>SMAD3_HUMAN</td>\n",
       "      <td>Mothers against decapentaplegic homolog 3, MAD...</td>\n",
       "      <td>SMAD3 MADH3</td>\n",
       "      <td>Homo sapiens (Human)</td>\n",
       "      <td>NaN</td>\n",
       "    </tr>\n",
       "    <tr>\n",
       "      <td>5</td>\n",
       "      <td>Q8N3R9</td>\n",
       "      <td>reviewed</td>\n",
       "      <td>MPP5_HUMAN</td>\n",
       "      <td>MAGUK p55 subfamily member 5</td>\n",
       "      <td>MPP5 PALS1</td>\n",
       "      <td>Homo sapiens (Human)</td>\n",
       "      <td>NaN</td>\n",
       "    </tr>\n",
       "    <tr>\n",
       "      <td>6</td>\n",
       "      <td>Q92499</td>\n",
       "      <td>reviewed</td>\n",
       "      <td>DDX1_HUMAN</td>\n",
       "      <td>ATP-dependent RNA helicase DDX1, EC 3.6.4.13 (...</td>\n",
       "      <td>DDX1</td>\n",
       "      <td>Homo sapiens (Human)</td>\n",
       "      <td>NaN</td>\n",
       "    </tr>\n",
       "    <tr>\n",
       "      <td>7</td>\n",
       "      <td>Q99623</td>\n",
       "      <td>reviewed</td>\n",
       "      <td>PHB2_HUMAN</td>\n",
       "      <td>Prohibitin-2 (B-cell receptor-associated prote...</td>\n",
       "      <td>PHB2 BAP REA</td>\n",
       "      <td>Homo sapiens (Human)</td>\n",
       "      <td>NaN</td>\n",
       "    </tr>\n",
       "    <tr>\n",
       "      <td>8</td>\n",
       "      <td>Q9BYF1</td>\n",
       "      <td>reviewed</td>\n",
       "      <td>ACE2_HUMAN</td>\n",
       "      <td>Angiotensin-converting enzyme 2, EC 3.4.17.23 ...</td>\n",
       "      <td>ACE2 UNQ868/PRO1885</td>\n",
       "      <td>Homo sapiens (Human)</td>\n",
       "      <td>UNQ868/PRO1885</td>\n",
       "    </tr>\n",
       "    <tr>\n",
       "      <td>9</td>\n",
       "      <td>P0C6U8</td>\n",
       "      <td>reviewed</td>\n",
       "      <td>R1A_CVHSA</td>\n",
       "      <td>Replicase polyprotein 1a, pp1a (ORF1a polyprot...</td>\n",
       "      <td>1a</td>\n",
       "      <td>Human SARS coronavirus (SARS-CoV) (Severe acut...</td>\n",
       "      <td>1a</td>\n",
       "    </tr>\n",
       "    <tr>\n",
       "      <td>10</td>\n",
       "      <td>P0C6X7</td>\n",
       "      <td>reviewed</td>\n",
       "      <td>R1AB_CVHSA</td>\n",
       "      <td>Replicase polyprotein 1ab, pp1ab (ORF1ab polyp...</td>\n",
       "      <td>rep 1a-1b</td>\n",
       "      <td>Human SARS coronavirus (SARS-CoV) (Severe acut...</td>\n",
       "      <td>1a-1b</td>\n",
       "    </tr>\n",
       "    <tr>\n",
       "      <td>11</td>\n",
       "      <td>P59594</td>\n",
       "      <td>reviewed</td>\n",
       "      <td>SPIKE_CVHSA</td>\n",
       "      <td>Spike glycoprotein, S glycoprotein (E2) (Peplo...</td>\n",
       "      <td>S 2</td>\n",
       "      <td>Human SARS coronavirus (SARS-CoV) (Severe acut...</td>\n",
       "      <td>2</td>\n",
       "    </tr>\n",
       "    <tr>\n",
       "      <td>12</td>\n",
       "      <td>P59595</td>\n",
       "      <td>reviewed</td>\n",
       "      <td>NCAP_CVHSA</td>\n",
       "      <td>Nucleoprotein (Nucleocapsid protein, NC, Prote...</td>\n",
       "      <td>N 9a</td>\n",
       "      <td>Human SARS coronavirus (SARS-CoV) (Severe acut...</td>\n",
       "      <td>9a</td>\n",
       "    </tr>\n",
       "    <tr>\n",
       "      <td>13</td>\n",
       "      <td>P59596</td>\n",
       "      <td>reviewed</td>\n",
       "      <td>VME1_CVHSA</td>\n",
       "      <td>Membrane protein, M protein (E1 glycoprotein) ...</td>\n",
       "      <td>M 5</td>\n",
       "      <td>Human SARS coronavirus (SARS-CoV) (Severe acut...</td>\n",
       "      <td>5</td>\n",
       "    </tr>\n",
       "    <tr>\n",
       "      <td>14</td>\n",
       "      <td>P59632</td>\n",
       "      <td>reviewed</td>\n",
       "      <td>AP3A_CVHSA</td>\n",
       "      <td>Protein 3a (Accessory protein 3a) (Protein U27...</td>\n",
       "      <td>3a</td>\n",
       "      <td>Human SARS coronavirus (SARS-CoV) (Severe acut...</td>\n",
       "      <td>3a</td>\n",
       "    </tr>\n",
       "    <tr>\n",
       "      <td>15</td>\n",
       "      <td>P59633</td>\n",
       "      <td>reviewed</td>\n",
       "      <td>NS3B_CVHSA</td>\n",
       "      <td>Non-structural protein 3b, ns3b (Accessory pro...</td>\n",
       "      <td>3b</td>\n",
       "      <td>Human SARS coronavirus (SARS-CoV) (Severe acut...</td>\n",
       "      <td>3b</td>\n",
       "    </tr>\n",
       "    <tr>\n",
       "      <td>16</td>\n",
       "      <td>P59634</td>\n",
       "      <td>reviewed</td>\n",
       "      <td>NS6_CVHSA</td>\n",
       "      <td>Non-structural protein 6, ns6 (Accessory prote...</td>\n",
       "      <td>6</td>\n",
       "      <td>Human SARS coronavirus (SARS-CoV) (Severe acut...</td>\n",
       "      <td>6</td>\n",
       "    </tr>\n",
       "    <tr>\n",
       "      <td>17</td>\n",
       "      <td>P59635</td>\n",
       "      <td>reviewed</td>\n",
       "      <td>NS7A_CVHSA</td>\n",
       "      <td>Protein 7a (Accessory protein 7a) (Protein U12...</td>\n",
       "      <td>7a</td>\n",
       "      <td>Human SARS coronavirus (SARS-CoV) (Severe acut...</td>\n",
       "      <td>7a</td>\n",
       "    </tr>\n",
       "    <tr>\n",
       "      <td>18</td>\n",
       "      <td>P59636</td>\n",
       "      <td>reviewed</td>\n",
       "      <td>ORF9B_CVHSA</td>\n",
       "      <td>Protein 9b (Accessory protein 9b) (ORF-9b)</td>\n",
       "      <td>9b</td>\n",
       "      <td>Human SARS coronavirus (SARS-CoV) (Severe acut...</td>\n",
       "      <td>9b</td>\n",
       "    </tr>\n",
       "    <tr>\n",
       "      <td>19</td>\n",
       "      <td>P59637</td>\n",
       "      <td>reviewed</td>\n",
       "      <td>VEMP_CVHSA</td>\n",
       "      <td>Envelope small membrane protein, E protein, sM...</td>\n",
       "      <td>E sM 4</td>\n",
       "      <td>Human SARS coronavirus (SARS-CoV) (Severe acut...</td>\n",
       "      <td>4</td>\n",
       "    </tr>\n",
       "    <tr>\n",
       "      <td>20</td>\n",
       "      <td>Q7TFA0</td>\n",
       "      <td>reviewed</td>\n",
       "      <td>NS8A_CVHSA</td>\n",
       "      <td>Protein non-structural 8a, ns8a (Accessory pro...</td>\n",
       "      <td>8a</td>\n",
       "      <td>Human SARS coronavirus (SARS-CoV) (Severe acut...</td>\n",
       "      <td>8a</td>\n",
       "    </tr>\n",
       "    <tr>\n",
       "      <td>21</td>\n",
       "      <td>Q7TFA1</td>\n",
       "      <td>reviewed</td>\n",
       "      <td>NS7B_CVHSA</td>\n",
       "      <td>Protein non-structural 7b, ns7b (Accessory pro...</td>\n",
       "      <td>7b</td>\n",
       "      <td>Human SARS coronavirus (SARS-CoV) (Severe acut...</td>\n",
       "      <td>7b</td>\n",
       "    </tr>\n",
       "    <tr>\n",
       "      <td>22</td>\n",
       "      <td>Q7TLC7</td>\n",
       "      <td>reviewed</td>\n",
       "      <td>Y14_CVHSA</td>\n",
       "      <td>Uncharacterized protein 14</td>\n",
       "      <td>ORF14</td>\n",
       "      <td>Human SARS coronavirus (SARS-CoV) (Severe acut...</td>\n",
       "      <td>ORF14</td>\n",
       "    </tr>\n",
       "    <tr>\n",
       "      <td>23</td>\n",
       "      <td>Q80H93</td>\n",
       "      <td>reviewed</td>\n",
       "      <td>NS8B_CVHSA</td>\n",
       "      <td>Non-structural protein 8b, ns8b (Accessory pro...</td>\n",
       "      <td>8b</td>\n",
       "      <td>Human SARS coronavirus (SARS-CoV) (Severe acut...</td>\n",
       "      <td>8b</td>\n",
       "    </tr>\n",
       "    <tr>\n",
       "      <td>24</td>\n",
       "      <td>A0A663DJA2</td>\n",
       "      <td>unreviewed</td>\n",
       "      <td>A0A663DJA2_SARS2</td>\n",
       "      <td>ORF10 protein</td>\n",
       "      <td>ORF10</td>\n",
       "      <td>Severe acute respiratory syndrome coronavirus ...</td>\n",
       "      <td>NaN</td>\n",
       "    </tr>\n",
       "    <tr>\n",
       "      <td>25</td>\n",
       "      <td>P0DTC1</td>\n",
       "      <td>reviewed</td>\n",
       "      <td>R1A_SARS2</td>\n",
       "      <td>Replicase polyprotein 1a, pp1a (ORF1a polyprot...</td>\n",
       "      <td>NaN</td>\n",
       "      <td>Severe acute respiratory syndrome coronavirus ...</td>\n",
       "      <td>NaN</td>\n",
       "    </tr>\n",
       "    <tr>\n",
       "      <td>26</td>\n",
       "      <td>P0DTC2</td>\n",
       "      <td>reviewed</td>\n",
       "      <td>SPIKE_SARS2</td>\n",
       "      <td>Spike glycoprotein, S glycoprotein (E2) (Peplo...</td>\n",
       "      <td>S 2</td>\n",
       "      <td>Severe acute respiratory syndrome coronavirus ...</td>\n",
       "      <td>2</td>\n",
       "    </tr>\n",
       "    <tr>\n",
       "      <td>27</td>\n",
       "      <td>P0DTC3</td>\n",
       "      <td>reviewed</td>\n",
       "      <td>AP3A_SARS2</td>\n",
       "      <td>Protein 3a (Accessory protein 3a) (Protein U27...</td>\n",
       "      <td>3a</td>\n",
       "      <td>Severe acute respiratory syndrome coronavirus ...</td>\n",
       "      <td>3a</td>\n",
       "    </tr>\n",
       "    <tr>\n",
       "      <td>28</td>\n",
       "      <td>P0DTC4</td>\n",
       "      <td>reviewed</td>\n",
       "      <td>VEMP_SARS2</td>\n",
       "      <td>Envelope small membrane protein, E protein, sM...</td>\n",
       "      <td>E 4</td>\n",
       "      <td>Severe acute respiratory syndrome coronavirus ...</td>\n",
       "      <td>4</td>\n",
       "    </tr>\n",
       "    <tr>\n",
       "      <td>29</td>\n",
       "      <td>P0DTC5</td>\n",
       "      <td>reviewed</td>\n",
       "      <td>VME1_SARS2</td>\n",
       "      <td>Membrane protein, M protein (E1 glycoprotein) ...</td>\n",
       "      <td>NaN</td>\n",
       "      <td>Severe acute respiratory syndrome coronavirus ...</td>\n",
       "      <td>NaN</td>\n",
       "    </tr>\n",
       "    <tr>\n",
       "      <td>30</td>\n",
       "      <td>P0DTC6</td>\n",
       "      <td>reviewed</td>\n",
       "      <td>NS6_SARS2</td>\n",
       "      <td>Non-structural protein 6, ns6 (Accessory prote...</td>\n",
       "      <td>6</td>\n",
       "      <td>Severe acute respiratory syndrome coronavirus ...</td>\n",
       "      <td>6</td>\n",
       "    </tr>\n",
       "    <tr>\n",
       "      <td>31</td>\n",
       "      <td>P0DTC7</td>\n",
       "      <td>reviewed</td>\n",
       "      <td>NS7A_SARS2</td>\n",
       "      <td>Protein 7a (Accessory protein 7a) (Protein U12...</td>\n",
       "      <td>7a</td>\n",
       "      <td>Severe acute respiratory syndrome coronavirus ...</td>\n",
       "      <td>7a</td>\n",
       "    </tr>\n",
       "    <tr>\n",
       "      <td>32</td>\n",
       "      <td>P0DTC8</td>\n",
       "      <td>reviewed</td>\n",
       "      <td>NS8_SARS2</td>\n",
       "      <td>Non-structural protein 8, ns8</td>\n",
       "      <td>NaN</td>\n",
       "      <td>Severe acute respiratory syndrome coronavirus ...</td>\n",
       "      <td>NaN</td>\n",
       "    </tr>\n",
       "    <tr>\n",
       "      <td>33</td>\n",
       "      <td>P0DTC9</td>\n",
       "      <td>reviewed</td>\n",
       "      <td>NCAP_SARS2</td>\n",
       "      <td>Nucleoprotein (Nucleocapsid protein, NC, Prote...</td>\n",
       "      <td>N</td>\n",
       "      <td>Severe acute respiratory syndrome coronavirus ...</td>\n",
       "      <td>NaN</td>\n",
       "    </tr>\n",
       "    <tr>\n",
       "      <td>34</td>\n",
       "      <td>P0DTD1</td>\n",
       "      <td>reviewed</td>\n",
       "      <td>R1AB_SARS2</td>\n",
       "      <td>Replicase polyprotein 1ab, pp1ab (ORF1ab polyp...</td>\n",
       "      <td>rep 1a-1b</td>\n",
       "      <td>Severe acute respiratory syndrome coronavirus ...</td>\n",
       "      <td>1a-1b</td>\n",
       "    </tr>\n",
       "    <tr>\n",
       "      <td>35</td>\n",
       "      <td>P0DTD2</td>\n",
       "      <td>reviewed</td>\n",
       "      <td>ORF9B_SARS2</td>\n",
       "      <td>Protein 9b (Accessory protein 9b) (ORF-9b)</td>\n",
       "      <td>NaN</td>\n",
       "      <td>Severe acute respiratory syndrome coronavirus ...</td>\n",
       "      <td>NaN</td>\n",
       "    </tr>\n",
       "    <tr>\n",
       "      <td>36</td>\n",
       "      <td>P0DTD3</td>\n",
       "      <td>reviewed</td>\n",
       "      <td>Y14_SARS2</td>\n",
       "      <td>Uncharacterized protein 14</td>\n",
       "      <td>ORF14</td>\n",
       "      <td>Severe acute respiratory syndrome coronavirus ...</td>\n",
       "      <td>ORF14</td>\n",
       "    </tr>\n",
       "    <tr>\n",
       "      <td>37</td>\n",
       "      <td>P0DTD8</td>\n",
       "      <td>reviewed</td>\n",
       "      <td>NS7B_SARS2</td>\n",
       "      <td>Protein non-structural 7b, ns7b (Accessory pro...</td>\n",
       "      <td>NaN</td>\n",
       "      <td>Severe acute respiratory syndrome coronavirus ...</td>\n",
       "      <td>NaN</td>\n",
       "    </tr>\n",
       "  </tbody>\n",
       "</table>\n",
       "</div>"
      ],
      "text/plain": [
       "         Entry    Reviewed        Entry Name  \\\n",
       "0       O15393    reviewed       TMPS2_HUMAN   \n",
       "1       O43765    reviewed        SGTA_HUMAN   \n",
       "2       P20701    reviewed        ITAL_HUMAN   \n",
       "3       P35232    reviewed         PHB_HUMAN   \n",
       "4       P84022    reviewed       SMAD3_HUMAN   \n",
       "5       Q8N3R9    reviewed        MPP5_HUMAN   \n",
       "6       Q92499    reviewed        DDX1_HUMAN   \n",
       "7       Q99623    reviewed        PHB2_HUMAN   \n",
       "8       Q9BYF1    reviewed        ACE2_HUMAN   \n",
       "9       P0C6U8    reviewed         R1A_CVHSA   \n",
       "10      P0C6X7    reviewed        R1AB_CVHSA   \n",
       "11      P59594    reviewed       SPIKE_CVHSA   \n",
       "12      P59595    reviewed        NCAP_CVHSA   \n",
       "13      P59596    reviewed        VME1_CVHSA   \n",
       "14      P59632    reviewed        AP3A_CVHSA   \n",
       "15      P59633    reviewed        NS3B_CVHSA   \n",
       "16      P59634    reviewed         NS6_CVHSA   \n",
       "17      P59635    reviewed        NS7A_CVHSA   \n",
       "18      P59636    reviewed       ORF9B_CVHSA   \n",
       "19      P59637    reviewed        VEMP_CVHSA   \n",
       "20      Q7TFA0    reviewed        NS8A_CVHSA   \n",
       "21      Q7TFA1    reviewed        NS7B_CVHSA   \n",
       "22      Q7TLC7    reviewed         Y14_CVHSA   \n",
       "23      Q80H93    reviewed        NS8B_CVHSA   \n",
       "24  A0A663DJA2  unreviewed  A0A663DJA2_SARS2   \n",
       "25      P0DTC1    reviewed         R1A_SARS2   \n",
       "26      P0DTC2    reviewed       SPIKE_SARS2   \n",
       "27      P0DTC3    reviewed        AP3A_SARS2   \n",
       "28      P0DTC4    reviewed        VEMP_SARS2   \n",
       "29      P0DTC5    reviewed        VME1_SARS2   \n",
       "30      P0DTC6    reviewed         NS6_SARS2   \n",
       "31      P0DTC7    reviewed        NS7A_SARS2   \n",
       "32      P0DTC8    reviewed         NS8_SARS2   \n",
       "33      P0DTC9    reviewed        NCAP_SARS2   \n",
       "34      P0DTD1    reviewed        R1AB_SARS2   \n",
       "35      P0DTD2    reviewed       ORF9B_SARS2   \n",
       "36      P0DTD3    reviewed         Y14_SARS2   \n",
       "37      P0DTD8    reviewed        NS7B_SARS2   \n",
       "\n",
       "                                        Protein names           Gene Names  \\\n",
       "0   Transmembrane protease serine 2, EC 3.4.21.- (...       TMPRSS2 PRSS10   \n",
       "1   Small glutamine-rich tetratricopeptide repeat-...        SGTA SGT SGT1   \n",
       "2   Integrin alpha-L (CD11 antigen-like family mem...          ITGAL CD11A   \n",
       "3                                          Prohibitin                  PHB   \n",
       "4   Mothers against decapentaplegic homolog 3, MAD...          SMAD3 MADH3   \n",
       "5                        MAGUK p55 subfamily member 5           MPP5 PALS1   \n",
       "6   ATP-dependent RNA helicase DDX1, EC 3.6.4.13 (...                 DDX1   \n",
       "7   Prohibitin-2 (B-cell receptor-associated prote...         PHB2 BAP REA   \n",
       "8   Angiotensin-converting enzyme 2, EC 3.4.17.23 ...  ACE2 UNQ868/PRO1885   \n",
       "9   Replicase polyprotein 1a, pp1a (ORF1a polyprot...                   1a   \n",
       "10  Replicase polyprotein 1ab, pp1ab (ORF1ab polyp...            rep 1a-1b   \n",
       "11  Spike glycoprotein, S glycoprotein (E2) (Peplo...                  S 2   \n",
       "12  Nucleoprotein (Nucleocapsid protein, NC, Prote...                 N 9a   \n",
       "13  Membrane protein, M protein (E1 glycoprotein) ...                  M 5   \n",
       "14  Protein 3a (Accessory protein 3a) (Protein U27...                   3a   \n",
       "15  Non-structural protein 3b, ns3b (Accessory pro...                   3b   \n",
       "16  Non-structural protein 6, ns6 (Accessory prote...                    6   \n",
       "17  Protein 7a (Accessory protein 7a) (Protein U12...                   7a   \n",
       "18         Protein 9b (Accessory protein 9b) (ORF-9b)                   9b   \n",
       "19  Envelope small membrane protein, E protein, sM...               E sM 4   \n",
       "20  Protein non-structural 8a, ns8a (Accessory pro...                   8a   \n",
       "21  Protein non-structural 7b, ns7b (Accessory pro...                   7b   \n",
       "22                         Uncharacterized protein 14                ORF14   \n",
       "23  Non-structural protein 8b, ns8b (Accessory pro...                   8b   \n",
       "24                                      ORF10 protein                ORF10   \n",
       "25  Replicase polyprotein 1a, pp1a (ORF1a polyprot...                  NaN   \n",
       "26  Spike glycoprotein, S glycoprotein (E2) (Peplo...                  S 2   \n",
       "27  Protein 3a (Accessory protein 3a) (Protein U27...                   3a   \n",
       "28  Envelope small membrane protein, E protein, sM...                  E 4   \n",
       "29  Membrane protein, M protein (E1 glycoprotein) ...                  NaN   \n",
       "30  Non-structural protein 6, ns6 (Accessory prote...                    6   \n",
       "31  Protein 7a (Accessory protein 7a) (Protein U12...                   7a   \n",
       "32                      Non-structural protein 8, ns8                  NaN   \n",
       "33  Nucleoprotein (Nucleocapsid protein, NC, Prote...                    N   \n",
       "34  Replicase polyprotein 1ab, pp1ab (ORF1ab polyp...            rep 1a-1b   \n",
       "35         Protein 9b (Accessory protein 9b) (ORF-9b)                  NaN   \n",
       "36                         Uncharacterized protein 14                ORF14   \n",
       "37  Protein non-structural 7b, ns7b (Accessory pro...                  NaN   \n",
       "\n",
       "                                             Organism Gene Names (ORF)  \n",
       "0                                Homo sapiens (Human)              NaN  \n",
       "1                                Homo sapiens (Human)              NaN  \n",
       "2                                Homo sapiens (Human)              NaN  \n",
       "3                                Homo sapiens (Human)              NaN  \n",
       "4                                Homo sapiens (Human)              NaN  \n",
       "5                                Homo sapiens (Human)              NaN  \n",
       "6                                Homo sapiens (Human)              NaN  \n",
       "7                                Homo sapiens (Human)              NaN  \n",
       "8                                Homo sapiens (Human)   UNQ868/PRO1885  \n",
       "9   Human SARS coronavirus (SARS-CoV) (Severe acut...               1a  \n",
       "10  Human SARS coronavirus (SARS-CoV) (Severe acut...            1a-1b  \n",
       "11  Human SARS coronavirus (SARS-CoV) (Severe acut...                2  \n",
       "12  Human SARS coronavirus (SARS-CoV) (Severe acut...               9a  \n",
       "13  Human SARS coronavirus (SARS-CoV) (Severe acut...                5  \n",
       "14  Human SARS coronavirus (SARS-CoV) (Severe acut...               3a  \n",
       "15  Human SARS coronavirus (SARS-CoV) (Severe acut...               3b  \n",
       "16  Human SARS coronavirus (SARS-CoV) (Severe acut...                6  \n",
       "17  Human SARS coronavirus (SARS-CoV) (Severe acut...               7a  \n",
       "18  Human SARS coronavirus (SARS-CoV) (Severe acut...               9b  \n",
       "19  Human SARS coronavirus (SARS-CoV) (Severe acut...                4  \n",
       "20  Human SARS coronavirus (SARS-CoV) (Severe acut...               8a  \n",
       "21  Human SARS coronavirus (SARS-CoV) (Severe acut...               7b  \n",
       "22  Human SARS coronavirus (SARS-CoV) (Severe acut...            ORF14  \n",
       "23  Human SARS coronavirus (SARS-CoV) (Severe acut...               8b  \n",
       "24  Severe acute respiratory syndrome coronavirus ...              NaN  \n",
       "25  Severe acute respiratory syndrome coronavirus ...              NaN  \n",
       "26  Severe acute respiratory syndrome coronavirus ...                2  \n",
       "27  Severe acute respiratory syndrome coronavirus ...               3a  \n",
       "28  Severe acute respiratory syndrome coronavirus ...                4  \n",
       "29  Severe acute respiratory syndrome coronavirus ...              NaN  \n",
       "30  Severe acute respiratory syndrome coronavirus ...                6  \n",
       "31  Severe acute respiratory syndrome coronavirus ...               7a  \n",
       "32  Severe acute respiratory syndrome coronavirus ...              NaN  \n",
       "33  Severe acute respiratory syndrome coronavirus ...              NaN  \n",
       "34  Severe acute respiratory syndrome coronavirus ...            1a-1b  \n",
       "35  Severe acute respiratory syndrome coronavirus ...              NaN  \n",
       "36  Severe acute respiratory syndrome coronavirus ...            ORF14  \n",
       "37  Severe acute respiratory syndrome coronavirus ...              NaN  "
      ]
     },
     "execution_count": 234,
     "metadata": {},
     "output_type": "execute_result"
    }
   ],
   "source": [
    "uniprot_table"
   ]
  },
  {
   "cell_type": "code",
   "execution_count": 235,
   "metadata": {},
   "outputs": [],
   "source": [
    "uniprot_ids = {'ORF1a':'P0C6U8', 'S':'P0DTC2', 'ORF7a':'P0DTC7', 'ORF1b':'P0C6X7', 'ORF8':'Q80H93'}"
   ]
  },
  {
   "cell_type": "code",
   "execution_count": 252,
   "metadata": {},
   "outputs": [
    {
     "data": {
      "text/plain": [
       "dict"
      ]
     },
     "execution_count": 252,
     "metadata": {},
     "output_type": "execute_result"
    }
   ],
   "source": [
    "type(my_response)"
   ]
  },
  {
   "cell_type": "code",
   "execution_count": 257,
   "metadata": {},
   "outputs": [
    {
     "ename": "ValueError",
     "evalue": "Invalid file path or buffer object type: <class 'dict'>",
     "output_type": "error",
     "traceback": [
      "\u001b[0;31m---------------------------------------------------------------------------\u001b[0m",
      "\u001b[0;31mValueError\u001b[0m                                Traceback (most recent call last)",
      "\u001b[0;32m<ipython-input-257-32b2b06f29d3>\u001b[0m in \u001b[0;36m<module>\u001b[0;34m\u001b[0m\n\u001b[0;32m----> 1\u001b[0;31m \u001b[0mpd\u001b[0m\u001b[0;34m.\u001b[0m\u001b[0mread_json\u001b[0m\u001b[0;34m(\u001b[0m\u001b[0mpath_or_buf\u001b[0m\u001b[0;34m=\u001b[0m\u001b[0mresponse\u001b[0m\u001b[0;34m.\u001b[0m\u001b[0mjson\u001b[0m\u001b[0;34m(\u001b[0m\u001b[0;34m)\u001b[0m\u001b[0;34m,\u001b[0m\u001b[0morient\u001b[0m\u001b[0;34m=\u001b[0m\u001b[0;34m'split'\u001b[0m\u001b[0;34m)\u001b[0m\u001b[0;34m\u001b[0m\u001b[0;34m\u001b[0m\u001b[0m\n\u001b[0m",
      "\u001b[0;32m~/anaconda2/envs/scrappingweb/lib/python3.7/site-packages/pandas/io/json/_json.py\u001b[0m in \u001b[0;36mread_json\u001b[0;34m(path_or_buf, orient, typ, dtype, convert_axes, convert_dates, keep_default_dates, numpy, precise_float, date_unit, encoding, lines, chunksize, compression)\u001b[0m\n\u001b[1;32m    567\u001b[0m     \u001b[0mcompression\u001b[0m \u001b[0;34m=\u001b[0m \u001b[0m_infer_compression\u001b[0m\u001b[0;34m(\u001b[0m\u001b[0mpath_or_buf\u001b[0m\u001b[0;34m,\u001b[0m \u001b[0mcompression\u001b[0m\u001b[0;34m)\u001b[0m\u001b[0;34m\u001b[0m\u001b[0;34m\u001b[0m\u001b[0m\n\u001b[1;32m    568\u001b[0m     filepath_or_buffer, _, compression, should_close = get_filepath_or_buffer(\n\u001b[0;32m--> 569\u001b[0;31m         \u001b[0mpath_or_buf\u001b[0m\u001b[0;34m,\u001b[0m \u001b[0mencoding\u001b[0m\u001b[0;34m=\u001b[0m\u001b[0mencoding\u001b[0m\u001b[0;34m,\u001b[0m \u001b[0mcompression\u001b[0m\u001b[0;34m=\u001b[0m\u001b[0mcompression\u001b[0m\u001b[0;34m\u001b[0m\u001b[0;34m\u001b[0m\u001b[0m\n\u001b[0m\u001b[1;32m    570\u001b[0m     )\n\u001b[1;32m    571\u001b[0m \u001b[0;34m\u001b[0m\u001b[0m\n",
      "\u001b[0;32m~/anaconda2/envs/scrappingweb/lib/python3.7/site-packages/pandas/io/common.py\u001b[0m in \u001b[0;36mget_filepath_or_buffer\u001b[0;34m(filepath_or_buffer, encoding, compression, mode)\u001b[0m\n\u001b[1;32m    222\u001b[0m     \u001b[0;32mif\u001b[0m \u001b[0;32mnot\u001b[0m \u001b[0mis_file_like\u001b[0m\u001b[0;34m(\u001b[0m\u001b[0mfilepath_or_buffer\u001b[0m\u001b[0;34m)\u001b[0m\u001b[0;34m:\u001b[0m\u001b[0;34m\u001b[0m\u001b[0;34m\u001b[0m\u001b[0m\n\u001b[1;32m    223\u001b[0m         \u001b[0mmsg\u001b[0m \u001b[0;34m=\u001b[0m \u001b[0;34m\"Invalid file path or buffer object type: {_type}\"\u001b[0m\u001b[0;34m\u001b[0m\u001b[0;34m\u001b[0m\u001b[0m\n\u001b[0;32m--> 224\u001b[0;31m         \u001b[0;32mraise\u001b[0m \u001b[0mValueError\u001b[0m\u001b[0;34m(\u001b[0m\u001b[0mmsg\u001b[0m\u001b[0;34m.\u001b[0m\u001b[0mformat\u001b[0m\u001b[0;34m(\u001b[0m\u001b[0m_type\u001b[0m\u001b[0;34m=\u001b[0m\u001b[0mtype\u001b[0m\u001b[0;34m(\u001b[0m\u001b[0mfilepath_or_buffer\u001b[0m\u001b[0;34m)\u001b[0m\u001b[0;34m)\u001b[0m\u001b[0;34m)\u001b[0m\u001b[0;34m\u001b[0m\u001b[0;34m\u001b[0m\u001b[0m\n\u001b[0m\u001b[1;32m    225\u001b[0m \u001b[0;34m\u001b[0m\u001b[0m\n\u001b[1;32m    226\u001b[0m     \u001b[0;32mreturn\u001b[0m \u001b[0mfilepath_or_buffer\u001b[0m\u001b[0;34m,\u001b[0m \u001b[0;32mNone\u001b[0m\u001b[0;34m,\u001b[0m \u001b[0mcompression\u001b[0m\u001b[0;34m,\u001b[0m \u001b[0;32mFalse\u001b[0m\u001b[0;34m\u001b[0m\u001b[0;34m\u001b[0m\u001b[0m\n",
      "\u001b[0;31mValueError\u001b[0m: Invalid file path or buffer object type: <class 'dict'>"
     ]
    }
   ],
   "source": [
    "pd.read_json(path_or_buf=response.json(),orient='split')"
   ]
  },
  {
   "cell_type": "code",
   "execution_count": 256,
   "metadata": {},
   "outputs": [
    {
     "data": {
      "text/plain": [
       "dict"
      ]
     },
     "execution_count": 256,
     "metadata": {},
     "output_type": "execute_result"
    }
   ],
   "source": [
    "type(response.json())"
   ]
  },
  {
   "cell_type": "code",
   "execution_count": null,
   "metadata": {},
   "outputs": [],
   "source": []
  }
 ],
 "metadata": {
  "kernelspec": {
   "display_name": "Python 3",
   "language": "python",
   "name": "python3"
  },
  "language_info": {
   "codemirror_mode": {
    "name": "ipython",
    "version": 3
   },
   "file_extension": ".py",
   "mimetype": "text/x-python",
   "name": "python",
   "nbconvert_exporter": "python",
   "pygments_lexer": "ipython3",
   "version": "3.7.6"
  }
 },
 "nbformat": 4,
 "nbformat_minor": 4
}
