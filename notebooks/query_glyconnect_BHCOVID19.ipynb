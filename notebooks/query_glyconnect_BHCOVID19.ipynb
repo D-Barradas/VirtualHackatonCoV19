{
 "cells": [
  {
   "cell_type": "code",
   "execution_count": 1,
   "metadata": {},
   "outputs": [],
   "source": [
    "import requests\n",
    "import json\n",
    "import pandas as pd\n",
    "url = \"https://glyconnect.expasy.org/api/glycosylations\"\n"
   ]
  },
  {
   "cell_type": "code",
   "execution_count": 2,
   "metadata": {},
   "outputs": [],
   "source": [
    "## send the correct params to query the api\n",
    "params = {'taxonomy':'Severe acute respiratory syndrome coronavirus 2 (2019-nCoV)', 'protein': 'Recombinant Spike glycoprotein (HEK293) - DRAFT DATA'}\n",
    "\n",
    "# Severe acute respiratory syndrome coronavirus2  (2019-nCoV)&protein=Recombinant Spike glycoprotein (HEK293)\n",
    "response = requests.get(url ,params=params)"
   ]
  },
  {
   "cell_type": "code",
   "execution_count": 3,
   "metadata": {},
   "outputs": [],
   "source": [
    "my_response = response.json()\n",
    "df_dump = pd.DataFrame()\n",
    "for r in range(len(my_response['results'])):\n",
    "    df_results_uniprots = pd.DataFrame(my_response['results'][r]['protein']['uniprots'],index=[r])\n",
    "    df_results_site = pd.DataFrame(my_response['results'][r]['site'],index=[r])\n",
    "    df_results_composition = pd.DataFrame(my_response['results'][r][\"composition\"],index=[r])\n",
    "    df_temp = pd.concat([df_results_composition,df_results_site, df_results_uniprots], sort=False, axis=1)\n",
    "    df_dump = pd.concat([df_dump,df_temp],sort=True,axis=0)\n",
    "df_dump.drop_duplicates(inplace=True)"
   ]
  },
  {
   "cell_type": "code",
   "execution_count": 4,
   "metadata": {},
   "outputs": [],
   "source": [
    "df_dump.to_csv(\"../data/HEK293_glycosilations_COVID19.csv\",index=False)"
   ]
  },
  {
   "cell_type": "code",
   "execution_count": 5,
   "metadata": {},
   "outputs": [],
   "source": [
    "## params for the second protein \n",
    "params = {'taxonomy':'Severe acute respiratory syndrome coronavirus 2 (2019-nCoV)', 'protein': \"Recombinant Spike glycoprotein (BTI-Tn-5B1-4) - DRAFT DATA\"}\n",
    "\n",
    "response = requests.get(url ,params=params)\n",
    "my_response = response.json()"
   ]
  },
  {
   "cell_type": "code",
   "execution_count": 6,
   "metadata": {},
   "outputs": [],
   "source": [
    "df_dump = pd.DataFrame()\n",
    "for r in range(len(my_response['results'])):\n",
    "    df_results_uniprots = pd.DataFrame(my_response['results'][r]['protein']['uniprots'],index=[r])\n",
    "    df_results_site = pd.DataFrame(my_response['results'][r]['site'],index=[r])\n",
    "    df_results_composition = pd.DataFrame(my_response['results'][r][\"composition\"],index=[r])\n",
    "    df_temp = pd.concat([df_results_composition,df_results_site, df_results_uniprots], sort=False, axis=1)\n",
    "    df_dump = pd.concat([df_dump,df_temp],sort=True,axis=0)\n",
    "df_dump.drop_duplicates(inplace=True)"
   ]
  },
  {
   "cell_type": "code",
   "execution_count": 7,
   "metadata": {},
   "outputs": [],
   "source": [
    "df_dump.to_csv(\"../data/BTI-Tn-5B1-4_glycosilations_COVID19.csv\",index=False)"
   ]
  },
  {
   "cell_type": "code",
   "execution_count": null,
   "metadata": {},
   "outputs": [],
   "source": []
  }
 ],
 "metadata": {
  "kernelspec": {
   "display_name": "Python 3",
   "language": "python",
   "name": "python3"
  },
  "language_info": {
   "codemirror_mode": {
    "name": "ipython",
    "version": 3
   },
   "file_extension": ".py",
   "mimetype": "text/x-python",
   "name": "python",
   "nbconvert_exporter": "python",
   "pygments_lexer": "ipython3",
   "version": "3.7.6"
  }
 },
 "nbformat": 4,
 "nbformat_minor": 4
}
