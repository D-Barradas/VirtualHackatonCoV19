{
 "cells": [
  {
   "cell_type": "code",
   "execution_count": 3,
   "metadata": {},
   "outputs": [],
   "source": [
    "import requests\n",
    "import json\n",
    "import pandas as pd\n",
    "url = \"https://glyconnect.expasy.org/api/glycosylations\"\n"
   ]
  },
  {
   "cell_type": "code",
   "execution_count": 2,
   "metadata": {},
   "outputs": [],
   "source": [
    "## send the correct params to query the api\n",
    "params = {'taxonomy':'Severe acute respiratory syndrome coronavirus 2 (2019-nCoV)', 'protein': 'Recombinant Spike glycoprotein (HEK293) - DRAFT DATA'}\n",
    "\n",
    "# Severe acute respiratory syndrome coronavirus2  (2019-nCoV)&protein=Recombinant Spike glycoprotein (HEK293)\n",
    "response = requests.get(url ,params=params)"
   ]
  },
  {
   "cell_type": "code",
   "execution_count": 3,
   "metadata": {},
   "outputs": [],
   "source": [
    "my_response = response.json()\n",
    "df_dump = pd.DataFrame()\n",
    "for r in range(len(my_response['results'])):\n",
    "    df_results_uniprots = pd.DataFrame(my_response['results'][r]['protein']['uniprots'],index=[r])\n",
    "    df_results_site = pd.DataFrame(my_response['results'][r]['site'],index=[r])\n",
    "    df_results_composition = pd.DataFrame(my_response['results'][r][\"composition\"],index=[r])\n",
    "    df_temp = pd.concat([df_results_composition,df_results_site, df_results_uniprots], sort=False, axis=1)\n",
    "    df_dump = pd.concat([df_dump,df_temp],sort=True,axis=0)\n",
    "df_dump.drop_duplicates(inplace=True)"
   ]
  },
  {
   "cell_type": "code",
   "execution_count": 4,
   "metadata": {},
   "outputs": [],
   "source": [
    "df_dump.to_csv(\"../data/HEK293_glycosilations_COVID19.csv\",index=False)"
   ]
  },
  {
   "cell_type": "code",
   "execution_count": 5,
   "metadata": {},
   "outputs": [],
   "source": [
    "## params for the second protein \n",
    "params = {'taxonomy':'Severe acute respiratory syndrome coronavirus 2 (2019-nCoV)', 'protein': \"Recombinant Spike glycoprotein (BTI-Tn-5B1-4) - DRAFT DATA\"}\n",
    "\n",
    "response = requests.get(url ,params=params)\n",
    "my_response = response.json()"
   ]
  },
  {
   "cell_type": "code",
   "execution_count": 6,
   "metadata": {},
   "outputs": [],
   "source": [
    "df_dump = pd.DataFrame()\n",
    "for r in range(len(my_response['results'])):\n",
    "    df_results_uniprots = pd.DataFrame(my_response['results'][r]['protein']['uniprots'],index=[r])\n",
    "    df_results_site = pd.DataFrame(my_response['results'][r]['site'],index=[r])\n",
    "    df_results_composition = pd.DataFrame(my_response['results'][r][\"composition\"],index=[r])\n",
    "    df_temp = pd.concat([df_results_composition,df_results_site, df_results_uniprots], sort=False, axis=1)\n",
    "    df_dump = pd.concat([df_dump,df_temp],sort=True,axis=0)\n",
    "df_dump.drop_duplicates(inplace=True)"
   ]
  },
  {
   "cell_type": "code",
   "execution_count": 7,
   "metadata": {},
   "outputs": [],
   "source": [
    "df_dump.to_csv(\"../data/BTI-Tn-5B1-4_glycosilations_COVID19.csv\",index=False)"
   ]
  },
  {
   "cell_type": "code",
   "execution_count": 9,
   "metadata": {},
   "outputs": [],
   "source": [
    "df_dump= pd.read_csv(\"data/BTI-Tn-5B1-4_glycosilations_COVID19.csv\")"
   ]
  },
  {
   "cell_type": "code",
   "execution_count": 6,
   "metadata": {},
   "outputs": [],
   "source": [
    "import os \n"
   ]
  },
  {
   "cell_type": "code",
   "execution_count": 7,
   "metadata": {},
   "outputs": [],
   "source": [
    "cwd = os.getcwd()"
   ]
  },
  {
   "cell_type": "code",
   "execution_count": 8,
   "metadata": {},
   "outputs": [
    {
     "data": {
      "text/plain": [
       "'/Users/barradd/Documents/BARRADD_Things/VirtualHackatonCoV19'"
      ]
     },
     "execution_count": 8,
     "metadata": {},
     "output_type": "execute_result"
    }
   ],
   "source": [
    "cwd"
   ]
  },
  {
   "cell_type": "code",
   "execution_count": 10,
   "metadata": {},
   "outputs": [
    {
     "data": {
      "text/html": [
       "<div>\n",
       "<style scoped>\n",
       "    .dataframe tbody tr th:only-of-type {\n",
       "        vertical-align: middle;\n",
       "    }\n",
       "\n",
       "    .dataframe tbody tr th {\n",
       "        vertical-align: top;\n",
       "    }\n",
       "\n",
       "    .dataframe thead th {\n",
       "        text-align: right;\n",
       "    }\n",
       "</style>\n",
       "<table border=\"1\" class=\"dataframe\">\n",
       "  <thead>\n",
       "    <tr style=\"text-align: right;\">\n",
       "      <th></th>\n",
       "      <th>byonic</th>\n",
       "      <th>character</th>\n",
       "      <th>glyco_site</th>\n",
       "      <th>glytoucan_id</th>\n",
       "      <th>id</th>\n",
       "      <th>location</th>\n",
       "      <th>mass</th>\n",
       "      <th>mass_monoisotopic</th>\n",
       "      <th>numeric</th>\n",
       "      <th>reviewed</th>\n",
       "      <th>string</th>\n",
       "      <th>uniprot_acc</th>\n",
       "      <th>uniprot_id</th>\n",
       "    </tr>\n",
       "  </thead>\n",
       "  <tbody>\n",
       "    <tr>\n",
       "      <td>0</td>\n",
       "      <td>HexNAc(2)Hex(5)dHex(1)</td>\n",
       "      <td>H5N2F1</td>\n",
       "      <td>Asn-657</td>\n",
       "      <td>G25637MV</td>\n",
       "      <td>773</td>\n",
       "      <td>657</td>\n",
       "      <td>1381.2603</td>\n",
       "      <td>1380.4913</td>\n",
       "      <td>5,2,1,0,0,0,0,0,0,0,0,0,0,0</td>\n",
       "      <td>True</td>\n",
       "      <td>Hex:5 HexNAc:2 dHex:1</td>\n",
       "      <td>P0DTC2</td>\n",
       "      <td>SPIKE_SARS2</td>\n",
       "    </tr>\n",
       "    <tr>\n",
       "      <td>1</td>\n",
       "      <td>HexNAc(2)Hex(5)dHex(1)</td>\n",
       "      <td>H5N2F1</td>\n",
       "      <td>Asn-717</td>\n",
       "      <td>G25637MV</td>\n",
       "      <td>773</td>\n",
       "      <td>717</td>\n",
       "      <td>1381.2603</td>\n",
       "      <td>1380.4913</td>\n",
       "      <td>5,2,1,0,0,0,0,0,0,0,0,0,0,0</td>\n",
       "      <td>True</td>\n",
       "      <td>Hex:5 HexNAc:2 dHex:1</td>\n",
       "      <td>P0DTC2</td>\n",
       "      <td>SPIKE_SARS2</td>\n",
       "    </tr>\n",
       "    <tr>\n",
       "      <td>2</td>\n",
       "      <td>HexNAc(2)Hex(5)dHex(1)</td>\n",
       "      <td>H5N2F1</td>\n",
       "      <td>Asn-1098</td>\n",
       "      <td>G25637MV</td>\n",
       "      <td>773</td>\n",
       "      <td>1098</td>\n",
       "      <td>1381.2603</td>\n",
       "      <td>1380.4913</td>\n",
       "      <td>5,2,1,0,0,0,0,0,0,0,0,0,0,0</td>\n",
       "      <td>True</td>\n",
       "      <td>Hex:5 HexNAc:2 dHex:1</td>\n",
       "      <td>P0DTC2</td>\n",
       "      <td>SPIKE_SARS2</td>\n",
       "    </tr>\n",
       "    <tr>\n",
       "      <td>3</td>\n",
       "      <td>HexNAc(2)Hex(5)dHex(1)</td>\n",
       "      <td>H5N2F1</td>\n",
       "      <td>Asn-1159</td>\n",
       "      <td>G25637MV</td>\n",
       "      <td>773</td>\n",
       "      <td>1159</td>\n",
       "      <td>1381.2603</td>\n",
       "      <td>1380.4913</td>\n",
       "      <td>5,2,1,0,0,0,0,0,0,0,0,0,0,0</td>\n",
       "      <td>True</td>\n",
       "      <td>Hex:5 HexNAc:2 dHex:1</td>\n",
       "      <td>P0DTC2</td>\n",
       "      <td>SPIKE_SARS2</td>\n",
       "    </tr>\n",
       "    <tr>\n",
       "      <td>4</td>\n",
       "      <td>HexNAc(2)Hex(5)dHex(1)</td>\n",
       "      <td>H5N2F1</td>\n",
       "      <td>Asn-343</td>\n",
       "      <td>G25637MV</td>\n",
       "      <td>773</td>\n",
       "      <td>343</td>\n",
       "      <td>1381.2603</td>\n",
       "      <td>1380.4913</td>\n",
       "      <td>5,2,1,0,0,0,0,0,0,0,0,0,0,0</td>\n",
       "      <td>True</td>\n",
       "      <td>Hex:5 HexNAc:2 dHex:1</td>\n",
       "      <td>P0DTC2</td>\n",
       "      <td>SPIKE_SARS2</td>\n",
       "    </tr>\n",
       "  </tbody>\n",
       "</table>\n",
       "</div>"
      ],
      "text/plain": [
       "                   byonic character glyco_site glytoucan_id   id  location  \\\n",
       "0  HexNAc(2)Hex(5)dHex(1)    H5N2F1    Asn-657     G25637MV  773       657   \n",
       "1  HexNAc(2)Hex(5)dHex(1)    H5N2F1    Asn-717     G25637MV  773       717   \n",
       "2  HexNAc(2)Hex(5)dHex(1)    H5N2F1   Asn-1098     G25637MV  773      1098   \n",
       "3  HexNAc(2)Hex(5)dHex(1)    H5N2F1   Asn-1159     G25637MV  773      1159   \n",
       "4  HexNAc(2)Hex(5)dHex(1)    H5N2F1    Asn-343     G25637MV  773       343   \n",
       "\n",
       "        mass  mass_monoisotopic                      numeric  reviewed  \\\n",
       "0  1381.2603          1380.4913  5,2,1,0,0,0,0,0,0,0,0,0,0,0      True   \n",
       "1  1381.2603          1380.4913  5,2,1,0,0,0,0,0,0,0,0,0,0,0      True   \n",
       "2  1381.2603          1380.4913  5,2,1,0,0,0,0,0,0,0,0,0,0,0      True   \n",
       "3  1381.2603          1380.4913  5,2,1,0,0,0,0,0,0,0,0,0,0,0      True   \n",
       "4  1381.2603          1380.4913  5,2,1,0,0,0,0,0,0,0,0,0,0,0      True   \n",
       "\n",
       "                  string uniprot_acc   uniprot_id  \n",
       "0  Hex:5 HexNAc:2 dHex:1      P0DTC2  SPIKE_SARS2  \n",
       "1  Hex:5 HexNAc:2 dHex:1      P0DTC2  SPIKE_SARS2  \n",
       "2  Hex:5 HexNAc:2 dHex:1      P0DTC2  SPIKE_SARS2  \n",
       "3  Hex:5 HexNAc:2 dHex:1      P0DTC2  SPIKE_SARS2  \n",
       "4  Hex:5 HexNAc:2 dHex:1      P0DTC2  SPIKE_SARS2  "
      ]
     },
     "execution_count": 10,
     "metadata": {},
     "output_type": "execute_result"
    }
   ],
   "source": [
    "df_dump.head()"
   ]
  },
  {
   "cell_type": "code",
   "execution_count": 11,
   "metadata": {},
   "outputs": [
    {
     "data": {
      "text/plain": [
       "(486, 13)"
      ]
     },
     "execution_count": 11,
     "metadata": {},
     "output_type": "execute_result"
    }
   ],
   "source": [
    "df_dump.shape"
   ]
  },
  {
   "cell_type": "code",
   "execution_count": 12,
   "metadata": {},
   "outputs": [
    {
     "data": {
      "text/html": [
       "<div>\n",
       "<style scoped>\n",
       "    .dataframe tbody tr th:only-of-type {\n",
       "        vertical-align: middle;\n",
       "    }\n",
       "\n",
       "    .dataframe tbody tr th {\n",
       "        vertical-align: top;\n",
       "    }\n",
       "\n",
       "    .dataframe thead th {\n",
       "        text-align: right;\n",
       "    }\n",
       "</style>\n",
       "<table border=\"1\" class=\"dataframe\">\n",
       "  <thead>\n",
       "    <tr style=\"text-align: right;\">\n",
       "      <th></th>\n",
       "      <th>byonic</th>\n",
       "      <th>character</th>\n",
       "      <th>glyco_site</th>\n",
       "      <th>glytoucan_id</th>\n",
       "      <th>id</th>\n",
       "      <th>location</th>\n",
       "      <th>mass</th>\n",
       "      <th>mass_monoisotopic</th>\n",
       "      <th>numeric</th>\n",
       "      <th>reviewed</th>\n",
       "      <th>string</th>\n",
       "      <th>uniprot_acc</th>\n",
       "      <th>uniprot_id</th>\n",
       "    </tr>\n",
       "  </thead>\n",
       "  <tbody>\n",
       "    <tr>\n",
       "      <td>481</td>\n",
       "      <td>HexNAc(2)Hex(1)dHex(2)</td>\n",
       "      <td>H1N2F2</td>\n",
       "      <td>Asn-709</td>\n",
       "      <td>NaN</td>\n",
       "      <td>702</td>\n",
       "      <td>709</td>\n",
       "      <td>878.8337</td>\n",
       "      <td>878.338</td>\n",
       "      <td>1,2,2,0,0,0,0,0,0,0,0,0,0,0</td>\n",
       "      <td>True</td>\n",
       "      <td>Hex:1 HexNAc:2 dHex:2</td>\n",
       "      <td>P0DTC2</td>\n",
       "      <td>SPIKE_SARS2</td>\n",
       "    </tr>\n",
       "    <tr>\n",
       "      <td>482</td>\n",
       "      <td>HexNAc(2)Hex(1)dHex(2)</td>\n",
       "      <td>H1N2F2</td>\n",
       "      <td>Asn-1159</td>\n",
       "      <td>NaN</td>\n",
       "      <td>702</td>\n",
       "      <td>1159</td>\n",
       "      <td>878.8337</td>\n",
       "      <td>878.338</td>\n",
       "      <td>1,2,2,0,0,0,0,0,0,0,0,0,0,0</td>\n",
       "      <td>True</td>\n",
       "      <td>Hex:1 HexNAc:2 dHex:2</td>\n",
       "      <td>P0DTC2</td>\n",
       "      <td>SPIKE_SARS2</td>\n",
       "    </tr>\n",
       "    <tr>\n",
       "      <td>483</td>\n",
       "      <td>HexNAc(2)Hex(1)dHex(2)</td>\n",
       "      <td>H1N2F2</td>\n",
       "      <td>Asn-331</td>\n",
       "      <td>NaN</td>\n",
       "      <td>702</td>\n",
       "      <td>331</td>\n",
       "      <td>878.8337</td>\n",
       "      <td>878.338</td>\n",
       "      <td>1,2,2,0,0,0,0,0,0,0,0,0,0,0</td>\n",
       "      <td>True</td>\n",
       "      <td>Hex:1 HexNAc:2 dHex:2</td>\n",
       "      <td>P0DTC2</td>\n",
       "      <td>SPIKE_SARS2</td>\n",
       "    </tr>\n",
       "    <tr>\n",
       "      <td>484</td>\n",
       "      <td>HexNAc(2)Hex(1)dHex(2)</td>\n",
       "      <td>H1N2F2</td>\n",
       "      <td>Asn-801</td>\n",
       "      <td>NaN</td>\n",
       "      <td>702</td>\n",
       "      <td>801</td>\n",
       "      <td>878.8337</td>\n",
       "      <td>878.338</td>\n",
       "      <td>1,2,2,0,0,0,0,0,0,0,0,0,0,0</td>\n",
       "      <td>True</td>\n",
       "      <td>Hex:1 HexNAc:2 dHex:2</td>\n",
       "      <td>P0DTC2</td>\n",
       "      <td>SPIKE_SARS2</td>\n",
       "    </tr>\n",
       "    <tr>\n",
       "      <td>485</td>\n",
       "      <td>HexNAc(2)Hex(1)dHex(2)</td>\n",
       "      <td>H1N2F2</td>\n",
       "      <td>Asn-61</td>\n",
       "      <td>NaN</td>\n",
       "      <td>702</td>\n",
       "      <td>61</td>\n",
       "      <td>878.8337</td>\n",
       "      <td>878.338</td>\n",
       "      <td>1,2,2,0,0,0,0,0,0,0,0,0,0,0</td>\n",
       "      <td>True</td>\n",
       "      <td>Hex:1 HexNAc:2 dHex:2</td>\n",
       "      <td>P0DTC2</td>\n",
       "      <td>SPIKE_SARS2</td>\n",
       "    </tr>\n",
       "  </tbody>\n",
       "</table>\n",
       "</div>"
      ],
      "text/plain": [
       "                     byonic character glyco_site glytoucan_id   id  location  \\\n",
       "481  HexNAc(2)Hex(1)dHex(2)    H1N2F2    Asn-709          NaN  702       709   \n",
       "482  HexNAc(2)Hex(1)dHex(2)    H1N2F2   Asn-1159          NaN  702      1159   \n",
       "483  HexNAc(2)Hex(1)dHex(2)    H1N2F2    Asn-331          NaN  702       331   \n",
       "484  HexNAc(2)Hex(1)dHex(2)    H1N2F2    Asn-801          NaN  702       801   \n",
       "485  HexNAc(2)Hex(1)dHex(2)    H1N2F2     Asn-61          NaN  702        61   \n",
       "\n",
       "         mass  mass_monoisotopic                      numeric  reviewed  \\\n",
       "481  878.8337            878.338  1,2,2,0,0,0,0,0,0,0,0,0,0,0      True   \n",
       "482  878.8337            878.338  1,2,2,0,0,0,0,0,0,0,0,0,0,0      True   \n",
       "483  878.8337            878.338  1,2,2,0,0,0,0,0,0,0,0,0,0,0      True   \n",
       "484  878.8337            878.338  1,2,2,0,0,0,0,0,0,0,0,0,0,0      True   \n",
       "485  878.8337            878.338  1,2,2,0,0,0,0,0,0,0,0,0,0,0      True   \n",
       "\n",
       "                    string uniprot_acc   uniprot_id  \n",
       "481  Hex:1 HexNAc:2 dHex:2      P0DTC2  SPIKE_SARS2  \n",
       "482  Hex:1 HexNAc:2 dHex:2      P0DTC2  SPIKE_SARS2  \n",
       "483  Hex:1 HexNAc:2 dHex:2      P0DTC2  SPIKE_SARS2  \n",
       "484  Hex:1 HexNAc:2 dHex:2      P0DTC2  SPIKE_SARS2  \n",
       "485  Hex:1 HexNAc:2 dHex:2      P0DTC2  SPIKE_SARS2  "
      ]
     },
     "execution_count": 12,
     "metadata": {},
     "output_type": "execute_result"
    }
   ],
   "source": [
    "df_dump.tail()"
   ]
  },
  {
   "cell_type": "code",
   "execution_count": 13,
   "metadata": {},
   "outputs": [],
   "source": [
    "df_HEK293= pd.read_csv(\"data/HEK293_glycosilations_COVID19.csv\")"
   ]
  },
  {
   "cell_type": "code",
   "execution_count": 14,
   "metadata": {},
   "outputs": [
    {
     "data": {
      "text/html": [
       "<div>\n",
       "<style scoped>\n",
       "    .dataframe tbody tr th:only-of-type {\n",
       "        vertical-align: middle;\n",
       "    }\n",
       "\n",
       "    .dataframe tbody tr th {\n",
       "        vertical-align: top;\n",
       "    }\n",
       "\n",
       "    .dataframe thead th {\n",
       "        text-align: right;\n",
       "    }\n",
       "</style>\n",
       "<table border=\"1\" class=\"dataframe\">\n",
       "  <thead>\n",
       "    <tr style=\"text-align: right;\">\n",
       "      <th></th>\n",
       "      <th>byonic</th>\n",
       "      <th>character</th>\n",
       "      <th>glyco_site</th>\n",
       "      <th>glytoucan_id</th>\n",
       "      <th>id</th>\n",
       "      <th>location</th>\n",
       "      <th>mass</th>\n",
       "      <th>mass_monoisotopic</th>\n",
       "      <th>numeric</th>\n",
       "      <th>reviewed</th>\n",
       "      <th>string</th>\n",
       "      <th>uniprot_acc</th>\n",
       "      <th>uniprot_id</th>\n",
       "    </tr>\n",
       "  </thead>\n",
       "  <tbody>\n",
       "    <tr>\n",
       "      <td>644</td>\n",
       "      <td>HexNAc(7)Hex(6)dHex(1)NeuAc(4)</td>\n",
       "      <td>H6N7F1S4</td>\n",
       "      <td>Asn-657</td>\n",
       "      <td>G37570AP</td>\n",
       "      <td>554</td>\n",
       "      <td>657</td>\n",
       "      <td>3724.4093</td>\n",
       "      <td>3722.3227</td>\n",
       "      <td>6,7,1,4,0,0,0,0,0,0,0,0,0,0</td>\n",
       "      <td>True</td>\n",
       "      <td>Hex:6 HexNAc:7 dHex:1 NeuAc:4</td>\n",
       "      <td>P0DTC2</td>\n",
       "      <td>SPIKE_SARS2</td>\n",
       "    </tr>\n",
       "    <tr>\n",
       "      <td>645</td>\n",
       "      <td>HexNAc(7)Hex(6)dHex(1)NeuAc(4)</td>\n",
       "      <td>H6N7F1S4</td>\n",
       "      <td>Asn-282</td>\n",
       "      <td>G37570AP</td>\n",
       "      <td>554</td>\n",
       "      <td>282</td>\n",
       "      <td>3724.4093</td>\n",
       "      <td>3722.3227</td>\n",
       "      <td>6,7,1,4,0,0,0,0,0,0,0,0,0,0</td>\n",
       "      <td>True</td>\n",
       "      <td>Hex:6 HexNAc:7 dHex:1 NeuAc:4</td>\n",
       "      <td>P0DTC2</td>\n",
       "      <td>SPIKE_SARS2</td>\n",
       "    </tr>\n",
       "    <tr>\n",
       "      <td>646</td>\n",
       "      <td>HexNAc(8)Hex(9)</td>\n",
       "      <td>H9N8</td>\n",
       "      <td>Asn-282</td>\n",
       "      <td>G19972YZ</td>\n",
       "      <td>580</td>\n",
       "      <td>282</td>\n",
       "      <td>3102.8569</td>\n",
       "      <td>3101.1210</td>\n",
       "      <td>9,8,0,0,0,0,0,0,0,0,0,0,0,0</td>\n",
       "      <td>True</td>\n",
       "      <td>Hex:9 HexNAc:8</td>\n",
       "      <td>P0DTC2</td>\n",
       "      <td>SPIKE_SARS2</td>\n",
       "    </tr>\n",
       "    <tr>\n",
       "      <td>647</td>\n",
       "      <td>HexNAc(8)Hex(9)</td>\n",
       "      <td>H9N8</td>\n",
       "      <td>Asn-331</td>\n",
       "      <td>G19972YZ</td>\n",
       "      <td>580</td>\n",
       "      <td>331</td>\n",
       "      <td>3102.8569</td>\n",
       "      <td>3101.1210</td>\n",
       "      <td>9,8,0,0,0,0,0,0,0,0,0,0,0,0</td>\n",
       "      <td>True</td>\n",
       "      <td>Hex:9 HexNAc:8</td>\n",
       "      <td>P0DTC2</td>\n",
       "      <td>SPIKE_SARS2</td>\n",
       "    </tr>\n",
       "    <tr>\n",
       "      <td>648</td>\n",
       "      <td>HexNAc(8)Hex(9)</td>\n",
       "      <td>H9N8</td>\n",
       "      <td>Asn-657</td>\n",
       "      <td>G19972YZ</td>\n",
       "      <td>580</td>\n",
       "      <td>657</td>\n",
       "      <td>3102.8569</td>\n",
       "      <td>3101.1210</td>\n",
       "      <td>9,8,0,0,0,0,0,0,0,0,0,0,0,0</td>\n",
       "      <td>True</td>\n",
       "      <td>Hex:9 HexNAc:8</td>\n",
       "      <td>P0DTC2</td>\n",
       "      <td>SPIKE_SARS2</td>\n",
       "    </tr>\n",
       "  </tbody>\n",
       "</table>\n",
       "</div>"
      ],
      "text/plain": [
       "                             byonic character glyco_site glytoucan_id   id  \\\n",
       "644  HexNAc(7)Hex(6)dHex(1)NeuAc(4)  H6N7F1S4    Asn-657     G37570AP  554   \n",
       "645  HexNAc(7)Hex(6)dHex(1)NeuAc(4)  H6N7F1S4    Asn-282     G37570AP  554   \n",
       "646                 HexNAc(8)Hex(9)      H9N8    Asn-282     G19972YZ  580   \n",
       "647                 HexNAc(8)Hex(9)      H9N8    Asn-331     G19972YZ  580   \n",
       "648                 HexNAc(8)Hex(9)      H9N8    Asn-657     G19972YZ  580   \n",
       "\n",
       "     location       mass  mass_monoisotopic                      numeric  \\\n",
       "644       657  3724.4093          3722.3227  6,7,1,4,0,0,0,0,0,0,0,0,0,0   \n",
       "645       282  3724.4093          3722.3227  6,7,1,4,0,0,0,0,0,0,0,0,0,0   \n",
       "646       282  3102.8569          3101.1210  9,8,0,0,0,0,0,0,0,0,0,0,0,0   \n",
       "647       331  3102.8569          3101.1210  9,8,0,0,0,0,0,0,0,0,0,0,0,0   \n",
       "648       657  3102.8569          3101.1210  9,8,0,0,0,0,0,0,0,0,0,0,0,0   \n",
       "\n",
       "     reviewed                         string uniprot_acc   uniprot_id  \n",
       "644      True  Hex:6 HexNAc:7 dHex:1 NeuAc:4      P0DTC2  SPIKE_SARS2  \n",
       "645      True  Hex:6 HexNAc:7 dHex:1 NeuAc:4      P0DTC2  SPIKE_SARS2  \n",
       "646      True                 Hex:9 HexNAc:8      P0DTC2  SPIKE_SARS2  \n",
       "647      True                 Hex:9 HexNAc:8      P0DTC2  SPIKE_SARS2  \n",
       "648      True                 Hex:9 HexNAc:8      P0DTC2  SPIKE_SARS2  "
      ]
     },
     "execution_count": 14,
     "metadata": {},
     "output_type": "execute_result"
    }
   ],
   "source": [
    "df_HEK293.tail()"
   ]
  },
  {
   "cell_type": "code",
   "execution_count": 16,
   "metadata": {},
   "outputs": [
    {
     "data": {
      "text/plain": [
       "array(['Asn-282', 'Asn-657', 'Asn-331', 'Asn-165', 'Asn-122', 'Asn-149',\n",
       "       'Asn-615', 'Asn-602', 'Asn-234', 'Asn-343', 'Asn-61', 'Asn-74'],\n",
       "      dtype=object)"
      ]
     },
     "execution_count": 16,
     "metadata": {},
     "output_type": "execute_result"
    }
   ],
   "source": [
    "df_HEK293.glyco_site.unique()"
   ]
  },
  {
   "cell_type": "code",
   "execution_count": 17,
   "metadata": {},
   "outputs": [
    {
     "data": {
      "text/plain": [
       "array(['Asn-657', 'Asn-717', 'Asn-1098', 'Asn-1159', 'Asn-343', 'Asn-331',\n",
       "       'Asn-61', 'Asn-1174', 'Asn-709', 'Asn-1074', 'Asn-74', 'Asn-1194',\n",
       "       'Asn-801', 'Asn-149', 'Asn-282', 'Asn-122', 'Asn-165', 'Asn-234',\n",
       "       'Asn-615', 'Asn-602'], dtype=object)"
      ]
     },
     "execution_count": 17,
     "metadata": {},
     "output_type": "execute_result"
    }
   ],
   "source": [
    "df_dump.glyco_site.unique()"
   ]
  },
  {
   "cell_type": "code",
   "execution_count": null,
   "metadata": {},
   "outputs": [],
   "source": []
  }
 ],
 "metadata": {
  "kernelspec": {
   "display_name": "Python 3",
   "language": "python",
   "name": "python3"
  },
  "language_info": {
   "codemirror_mode": {
    "name": "ipython",
    "version": 3
   },
   "file_extension": ".py",
   "mimetype": "text/x-python",
   "name": "python",
   "nbconvert_exporter": "python",
   "pygments_lexer": "ipython3",
   "version": "3.7.6"
  }
 },
 "nbformat": 4,
 "nbformat_minor": 4
}
